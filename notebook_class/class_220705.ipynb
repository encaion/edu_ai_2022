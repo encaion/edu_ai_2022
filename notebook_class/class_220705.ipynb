{
 "cells": [
  {
   "cell_type": "code",
   "execution_count": 1,
   "id": "f9a4d6cd",
   "metadata": {},
   "outputs": [],
   "source": [
    "url = \"http://openapi.molit.go.kr:8081/OpenAPI_ToolInstallPackage/service/rest/RTMSOBJSvc/getRTMSDataSvcAptTrade?serviceKey=Bk7EYrKKdxlarCe3OIShvWZ%2BHAUiSCKgR2dpgUk8MOgX6maAKWzDK4Pp2EapWX6GHOZRO%2BL72p9o6cREOHEWGw%3D%3D&LAWD_CD=11110&DEAL_YMD=202205\""
   ]
  },
  {
   "cell_type": "code",
   "execution_count": 2,
   "id": "530d298d",
   "metadata": {},
   "outputs": [
    {
     "data": {
      "text/plain": [
       "'http://openapi.molit.go.kr:8081/OpenAPI_ToolInstallPackage/service/rest/RTMSOBJSvc/getRTMSDataSvcAptTrade?serviceKey=Bk7EYrKKdxlarCe3OIShvWZ%2BHAUiSCKgR2dpgUk8MOgX6maAKWzDK4Pp2EapWX6GHOZRO%2BL72p9o6cREOHEWGw%3D%3D&LAWD_CD=11110&DEAL_YMD=202205'"
      ]
     },
     "execution_count": 2,
     "metadata": {},
     "output_type": "execute_result"
    }
   ],
   "source": [
    "url"
   ]
  },
  {
   "cell_type": "code",
   "execution_count": null,
   "id": "96ff633a",
   "metadata": {},
   "outputs": [],
   "source": [
    "# df.loc[(\"key\" == \"asf\") & (df[\"LAWD_CD\"] == 11110) & (df[\"DEAL_YMD\"] == 202205), ]"
   ]
  },
  {
   "cell_type": "code",
   "execution_count": 9,
   "id": "7d4930f6",
   "metadata": {},
   "outputs": [],
   "source": [
    "import pandas as pd\n",
    "import requests\n",
    "from bs4 import BeautifulSoup as bs"
   ]
  },
  {
   "cell_type": "code",
   "execution_count": 11,
   "id": "5bd83444",
   "metadata": {},
   "outputs": [],
   "source": [
    "text = requests.get(url)"
   ]
  },
  {
   "cell_type": "code",
   "execution_count": 24,
   "id": "289d9561",
   "metadata": {},
   "outputs": [],
   "source": [
    "text_bs = bs(text.text, \"lxml-xml\")"
   ]
  },
  {
   "cell_type": "code",
   "execution_count": 30,
   "id": "cad6aaa5",
   "metadata": {},
   "outputs": [
    {
     "data": {
      "text/plain": [
       "<?xml version=\"1.0\" encoding=\"utf-8\"?>\n",
       "<response><header><resultCode>00</resultCode><resultMsg>NORMAL SERVICE.</resultMsg></header><body><items><item><거래금액>     200,100</거래금액><거래유형>직거래</거래유형><건축년도>2004</건축년도><년>2022</년><법정동> 내수동</법정동><아파트>경희궁의아침3단지</아파트><월>5</월><일>10</일><전용면적>174.55</전용면적><중개사소재지> </중개사소재지><지번>72</지번><지역코드>11110</지역코드><층>4</층><해제사유발생일> </해제사유발생일><해제여부> </해제여부></item><item><거래금액>     181,000</거래금액><거래유형>중개거래</거래유형><건축년도>2003</건축년도><년>2022</년><법정동> 내수동</법정동><아파트>경희궁파크팰리스</아파트><월>5</월><일>28</일><전용면적>147.62</전용면적><중개사소재지>경기 의정부시, 서울 종로구</중개사소재지><지번>95</지번><지역코드>11110</지역코드><층>7</층><해제사유발생일> </해제사유발생일><해제여부> </해제여부></item><item><거래금액>      35,000</거래금액><거래유형>중개거래</거래유형><건축년도>2003</건축년도><년>2022</년><법정동> 익선동</법정동><아파트>현대뜨레비앙</아파트><월>5</월><일>14</일><전용면적>46.64</전용면적><중개사소재지>서울 종로구</중개사소재지><지번>55</지번><지역코드>11110</지역코드><층>5</층><해제사유발생일> </해제사유발생일><해제여부> </해제여부></item><item><거래금액>      24,000</거래금액><거래유형>중개거래</거래유형><건축년도>2014</건축년도><년>2022</년><법정동> 연건동</법정동><아파트>이화에수풀</아파트><월>5</월><일>9</일><전용면적>19.86</전용면적><중개사소재지>서울 종로구</중개사소재지><지번>195-10</지번><지역코드>11110</지역코드><층>7</층><해제사유발생일> </해제사유발생일><해제여부> </해제여부></item><item><거래금액>      16,000</거래금액><거래유형>직거래</거래유형><건축년도>2014</건축년도><년>2022</년><법정동> 연건동</법정동><아파트>이화에수풀</아파트><월>5</월><일>13</일><전용면적>16.98</전용면적><중개사소재지> </중개사소재지><지번>195-10</지번><지역코드>11110</지역코드><층>5</층><해제사유발생일> </해제사유발생일><해제여부> </해제여부></item><item><거래금액>      48,500</거래금액><거래유형>중개거래</거래유형><건축년도>1999</건축년도><년>2022</년><법정동> 연건동</법정동><아파트>(60-1)</아파트><월>5</월><일>28</일><전용면적>59.63</전용면적><중개사소재지>서울 종로구</중개사소재지><지번>60-1</지번><지역코드>11110</지역코드><층>2</층><해제사유발생일> </해제사유발생일><해제여부> </해제여부></item><item><거래금액>      16,000</거래금액><거래유형>중개거래</거래유형><건축년도>2011</건축년도><년>2022</년><법정동> 충신동</법정동><아파트>CS타워</아파트><월>5</월><일>19</일><전용면적>21.94</전용면적><중개사소재지>서울 중구</중개사소재지><지번>62-2</지번><지역코드>11110</지역코드><층>11</층><해제사유발생일> </해제사유발생일><해제여부> </해제여부></item><item><거래금액>      89,000</거래금액><거래유형>직거래</거래유형><건축년도>1996</건축년도><년>2022</년><법정동> 명륜2가</법정동><아파트>아남2</아파트><월>5</월><일>10</일><전용면적>114.36</전용면적><중개사소재지> </중개사소재지><지번>236</지번><지역코드>11110</지역코드><층>2</층><해제사유발생일> </해제사유발생일><해제여부> </해제여부></item><item><거래금액>     120,000</거래금액><거래유형>중개거래</거래유형><건축년도>1995</건축년도><년>2022</년><법정동> 명륜2가</법정동><아파트>아남1</아파트><월>5</월><일>13</일><전용면적>84.9</전용면적><중개사소재지>서울 종로구</중개사소재지><지번>4</지번><지역코드>11110</지역코드><층>9</층><해제사유발생일> </해제사유발생일><해제여부> </해제여부></item><item><거래금액>      73,000</거래금액><거래유형>중개거래</거래유형><건축년도>1999</건축년도><년>2022</년><법정동> 명륜2가</법정동><아파트>아남3</아파트><월>5</월><일>13</일><전용면적>47.43</전용면적><중개사소재지>서울 종로구</중개사소재지><지번>237</지번><지역코드>11110</지역코드><층>5</층><해제사유발생일> </해제사유발생일><해제여부> </해제여부></item><item><거래금액>      49,000</거래금액><거래유형>중개거래</거래유형><건축년도>2002</건축년도><년>2022</년><법정동> 창신동</법정동><아파트>그린</아파트><월>5</월><일>6</일><전용면적>44.6</전용면적><중개사소재지>서울 종로구</중개사소재지><지번>23-326</지번><지역코드>11110</지역코드><층>3</층><해제사유발생일> </해제사유발생일><해제여부> </해제여부></item><item><거래금액>      12,450</거래금액><거래유형>중개거래</거래유형><건축년도>2014</건축년도><년>2022</년><법정동> 숭인동</법정동><아파트>삼전솔하임4차</아파트><월>5</월><일>21</일><전용면적>15.09</전용면적><중개사소재지>서울 종로구</중개사소재지><지번>318-2</지번><지역코드>11110</지역코드><층>17</층><해제사유발생일> </해제사유발생일><해제여부> </해제여부></item><item><거래금액>     117,000</거래금액><거래유형>중개거래</거래유형><건축년도>2009</건축년도><년>2022</년><법정동> 숭인동</법정동><아파트>종로청계힐스테이트</아파트><월>5</월><일>22</일><전용면적>84.9478</전용면적><중개사소재지>서울 종로구</중개사소재지><지번>766</지번><지역코드>11110</지역코드><층>2</층><해제사유발생일> </해제사유발생일><해제여부> </해제여부></item><item><거래금액>      12,000</거래금액><거래유형>중개거래</거래유형><건축년도>2012</건축년도><년>2022</년><법정동> 숭인동</법정동><아파트>삼전솔하임2차</아파트><월>5</월><일>30</일><전용면적>14.69</전용면적><중개사소재지>서울 종로구</중개사소재지><지번>296-19</지번><지역코드>11110</지역코드><층>5</층><해제사유발생일> </해제사유발생일><해제여부> </해제여부></item><item><거래금액>     269,000</거래금액><거래유형>중개거래</거래유형><건축년도>2017</건축년도><년>2022</년><법정동> 홍파동</법정동><아파트>경희궁자이(2단지)</아파트><월>5</월><일>4</일><전용면적>101.9914</전용면적><중개사소재지>서울 은평구, 서울 종로구</중개사소재지><지번>199</지번><지역코드>11110</지역코드><층>2</층><해제사유발생일> </해제사유발생일><해제여부> </해제여부></item><item><거래금액>     222,500</거래금액><거래유형>중개거래</거래유형><건축년도>2017</건축년도><년>2022</년><법정동> 홍파동</법정동><아파트>경희궁자이(2단지)</아파트><월>5</월><일>10</일><전용면적>84.614</전용면적><중개사소재지>서울 종로구</중개사소재지><지번>199</지번><지역코드>11110</지역코드><층>9</층><해제사유발생일> </해제사유발생일><해제여부> </해제여부></item><item><거래금액>      90,000</거래금액><거래유형>중개거래</거래유형><건축년도>2017</건축년도><년>2022</년><법정동> 교북동</법정동><아파트>경희궁자이(4단지)</아파트><월>5</월><일>10</일><전용면적>37.2635</전용면적><중개사소재지>서울 강남구</중개사소재지><지번>126</지번><지역코드>11110</지역코드><층>8</층><해제사유발생일> </해제사유발생일><해제여부> </해제여부></item><item><거래금액>      92,000</거래금액><거래유형>중개거래</거래유형><건축년도>2017</건축년도><년>2022</년><법정동> 교북동</법정동><아파트>경희궁자이(4단지)</아파트><월>5</월><일>14</일><전용면적>37.2635</전용면적><중개사소재지>서울 종로구</중개사소재지><지번>126</지번><지역코드>11110</지역코드><층>14</층><해제사유발생일> </해제사유발생일><해제여부> </해제여부></item><item><거래금액>     145,000</거래금액><거래유형>중개거래</거래유형><건축년도>2001</건축년도><년>2022</년><법정동> 평창동</법정동><아파트>롯데낙천대</아파트><월>5</월><일>11</일><전용면적>133.34</전용면적><중개사소재지>서울 종로구</중개사소재지><지번>72</지번><지역코드>11110</지역코드><층>6</층><해제사유발생일> </해제사유발생일><해제여부> </해제여부></item><item><거래금액>      67,000</거래금액><거래유형>중개거래</거래유형><건축년도>1998</건축년도><년>2022</년><법정동> 평창동</법정동><아파트>삼성</아파트><월>5</월><일>27</일><전용면적>59.97</전용면적><중개사소재지>서울 종로구, 서울 중구</중개사소재지><지번>596</지번><지역코드>11110</지역코드><층>2</층><해제사유발생일> </해제사유발생일><해제여부> </해제여부></item><item><거래금액>     135,000</거래금액><거래유형>중개거래</거래유형><건축년도>2008</건축년도><년>2022</년><법정동> 무악동</법정동><아파트>인왕산아이파크</아파트><월>5</월><일>23</일><전용면적>84.858</전용면적><중개사소재지>서울 종로구</중개사소재지><지번>60</지번><지역코드>11110</지역코드><층>7</층><해제사유발생일> </해제사유발생일><해제여부> </해제여부></item><item><거래금액>     160,000</거래금액><거래유형>중개거래</거래유형><건축년도>2008</건축년도><년>2022</년><법정동> 무악동</법정동><아파트>인왕산아이파크</아파트><월>5</월><일>27</일><전용면적>114.931</전용면적><중개사소재지>서울 종로구</중개사소재지><지번>60</지번><지역코드>11110</지역코드><층>15</층><해제사유발생일> </해제사유발생일><해제여부> </해제여부></item></items><numOfRows>10</numOfRows><pageNo>1</pageNo><totalCount>22</totalCount></body></response>"
      ]
     },
     "execution_count": 30,
     "metadata": {},
     "output_type": "execute_result"
    }
   ],
   "source": [
    "text_bs"
   ]
  },
  {
   "cell_type": "code",
   "execution_count": 29,
   "id": "94b90490",
   "metadata": {},
   "outputs": [],
   "source": [
    "text_bs.select(\"법정동\")"
   ]
  },
  {
   "cell_type": "code",
   "execution_count": null,
   "id": "610387e2",
   "metadata": {},
   "outputs": [],
   "source": [
    "# #folder4 > div.opened > div:nth-child(1)\n",
    "# folder4 ID를 가지는 tag 바로 아래의 div 태그의 class가 opened이고\n",
    "#   바로 아래의 div태그의 첫 번째 하위 요소.\n",
    "\n",
    "# ID는 앞에 #을 붙임\n",
    "# 바로 아래의 요소(element)에 접근하고자 할때는 닫히는 꺽쇠(>) 사용\n",
    "# class명은 객체의 어트리뷰트 처럼 \".클래스명\"\n"
   ]
  },
  {
   "cell_type": "markdown",
   "id": "d20a0de4",
   "metadata": {},
   "source": [
    "### Q. totalCount 태그에 있는 숫자를 추출하시오.\n",
    "※ .select() 메서드 활용  \n",
    "※ .text 어트리뷰트 활용"
   ]
  },
  {
   "cell_type": "code",
   "execution_count": 36,
   "id": "e5869d94",
   "metadata": {},
   "outputs": [
    {
     "data": {
      "text/plain": [
       "[<totalCount>22</totalCount>]"
      ]
     },
     "execution_count": 36,
     "metadata": {},
     "output_type": "execute_result"
    }
   ],
   "source": [
    "text_bs.select(\"totalCount\")"
   ]
  },
  {
   "cell_type": "code",
   "execution_count": 35,
   "id": "0fc16997",
   "metadata": {},
   "outputs": [
    {
     "data": {
      "text/plain": [
       "<totalCount>22</totalCount>"
      ]
     },
     "execution_count": 35,
     "metadata": {},
     "output_type": "execute_result"
    }
   ],
   "source": [
    "text_bs.select(\"totalCount\")[0]"
   ]
  },
  {
   "cell_type": "code",
   "execution_count": 37,
   "id": "56d3f0ce",
   "metadata": {},
   "outputs": [
    {
     "data": {
      "text/plain": [
       "'22'"
      ]
     },
     "execution_count": 37,
     "metadata": {},
     "output_type": "execute_result"
    }
   ],
   "source": [
    "text_bs.select(\"totalCount\")[0].text"
   ]
  },
  {
   "cell_type": "markdown",
   "id": "0563c4d9",
   "metadata": {},
   "source": [
    "### Q2. numOfRows 태그의 숫자를 추출하시오.\n",
    "※ 결과는 문자가 아닌 정수로 출력되도록 하시오."
   ]
  },
  {
   "cell_type": "code",
   "execution_count": 38,
   "id": "6decaef2",
   "metadata": {},
   "outputs": [
    {
     "data": {
      "text/plain": [
       "10"
      ]
     },
     "execution_count": 38,
     "metadata": {},
     "output_type": "execute_result"
    }
   ],
   "source": [
    "int(text_bs.select(\"numOfRows\")[0].text)"
   ]
  },
  {
   "cell_type": "markdown",
   "id": "27f2424d",
   "metadata": {},
   "source": [
    "### Q3. numOfRows 값과 totalCount 값에 따라 반복 횟수가 결정되는 반복문을 작성하시오. 단, 반복문은 totalCount를 numOfRows로 나눈 몫을 기준으로 반복횟수를 결정지으시오.\n",
    "※ totalCount가 22이고 numOfRows가 10인 경우 3회  \n",
    "※ totalCount가 40이고 numOfRows가 10인 경우 4회"
   ]
  },
  {
   "cell_type": "code",
   "execution_count": 39,
   "id": "e1e72601",
   "metadata": {},
   "outputs": [
    {
     "name": "stdout",
     "output_type": "stream",
     "text": [
      "0\n",
      "1\n",
      "2\n"
     ]
    }
   ],
   "source": [
    "for n in range(3):\n",
    "    print(n)"
   ]
  },
  {
   "cell_type": "code",
   "execution_count": 57,
   "id": "7b1a9450",
   "metadata": {},
   "outputs": [],
   "source": [
    "num_total = int(text_bs.select(\"totalCount\")[0].text)\n",
    "num_row   = int(text_bs.select(\"numOfRows\")[0].text)"
   ]
  },
  {
   "cell_type": "code",
   "execution_count": 49,
   "id": "d46dea6c",
   "metadata": {},
   "outputs": [
    {
     "data": {
      "text/plain": [
       "7"
      ]
     },
     "execution_count": 49,
     "metadata": {},
     "output_type": "execute_result"
    }
   ],
   "source": [
    "num_total // num_row + 1"
   ]
  },
  {
   "cell_type": "code",
   "execution_count": 51,
   "id": "2563ccb5",
   "metadata": {},
   "outputs": [
    {
     "data": {
      "text/plain": [
       "True"
      ]
     },
     "execution_count": 51,
     "metadata": {},
     "output_type": "execute_result"
    }
   ],
   "source": [
    "num_total % num_row == 0 # num_total이 num_row의 배수"
   ]
  },
  {
   "cell_type": "code",
   "execution_count": 53,
   "id": "a6e6ace4",
   "metadata": {},
   "outputs": [],
   "source": [
    "if num_total % num_row == 0:\n",
    "    num_loop = num_total // num_row\n",
    "else:\n",
    "    num_loop = num_total // num_row + 1"
   ]
  },
  {
   "cell_type": "code",
   "execution_count": 55,
   "id": "2b5c149a",
   "metadata": {},
   "outputs": [
    {
     "name": "stdout",
     "output_type": "stream",
     "text": [
      "0\n",
      "1\n",
      "2\n",
      "3\n",
      "4\n",
      "5\n"
     ]
    }
   ],
   "source": [
    "for n in range(num_loop):\n",
    "    print(n)"
   ]
  },
  {
   "cell_type": "code",
   "execution_count": 41,
   "id": "90e7e911",
   "metadata": {},
   "outputs": [
    {
     "data": {
      "text/plain": [
       "1.0"
      ]
     },
     "execution_count": 41,
     "metadata": {},
     "output_type": "execute_result"
    }
   ],
   "source": [
    "import numpy as np\n",
    "np.ceil(0.2)"
   ]
  },
  {
   "cell_type": "code",
   "execution_count": 60,
   "id": "13fe8d78",
   "metadata": {},
   "outputs": [
    {
     "data": {
      "text/plain": [
       "2.2"
      ]
     },
     "execution_count": 60,
     "metadata": {},
     "output_type": "execute_result"
    }
   ],
   "source": [
    "num_total / num_row"
   ]
  },
  {
   "cell_type": "code",
   "execution_count": 61,
   "id": "43f86072",
   "metadata": {},
   "outputs": [
    {
     "data": {
      "text/plain": [
       "3.0"
      ]
     },
     "execution_count": 61,
     "metadata": {},
     "output_type": "execute_result"
    }
   ],
   "source": [
    "num_loop = np.ceil(num_total / num_row)\n",
    "num_loop"
   ]
  },
  {
   "cell_type": "code",
   "execution_count": 63,
   "id": "8fde3782",
   "metadata": {},
   "outputs": [
    {
     "name": "stdout",
     "output_type": "stream",
     "text": [
      "0\n",
      "1\n",
      "2\n"
     ]
    }
   ],
   "source": [
    "for n in range(int(num_loop)):\n",
    "    print(n)"
   ]
  },
  {
   "cell_type": "markdown",
   "id": "f0a82510",
   "metadata": {},
   "source": [
    "## 앞의 코드를 모아봅시다."
   ]
  },
  {
   "cell_type": "code",
   "execution_count": null,
   "id": "4a564e8a",
   "metadata": {},
   "outputs": [],
   "source": [
    "import pandas as pd\n",
    "import numpy as np\n",
    "import requests\n",
    "from bs4 import BeautifulSoup as bs"
   ]
  },
  {
   "cell_type": "code",
   "execution_count": null,
   "id": "17879136",
   "metadata": {},
   "outputs": [],
   "source": [
    "url = \"http://openapi.molit.go.kr:8081/OpenAPI_ToolInstallPackage/service/rest/RTMSOBJSvc/getRTMSDataSvcAptTrade?serviceKey=Bk7EYrKKdxlarCe3OIShvWZ%2BHAUiSCKgR2dpgUk8MOgX6maAKWzDK4Pp2EapWX6GHOZRO%2BL72p9o6cREOHEWGw%3D%3D&LAWD_CD=11110&DEAL_YMD=202205\"\n",
    "\n",
    "text = requests.get(url)\n",
    "text_bs = bs(text.text, \"lxml-xml\")\n",
    "\n",
    "num_total = int(text_bs.select(\"totalCount\")[0].text)\n",
    "num_row   = int(text_bs.select(\"numOfRows\")[0].text)\n",
    "\n",
    "num_loop = np.ceil(num_total / num_row)"
   ]
  },
  {
   "cell_type": "code",
   "execution_count": null,
   "id": "90bcdf9f",
   "metadata": {},
   "outputs": [],
   "source": [
    "for n in range(int(num_loop)):\n",
    "    print(n)"
   ]
  },
  {
   "cell_type": "code",
   "execution_count": 71,
   "id": "a53cbcc1",
   "metadata": {},
   "outputs": [
    {
     "data": {
      "text/plain": [
       "<item><거래금액>      35,000</거래금액><거래유형>중개거래</거래유형><건축년도>2003</건축년도><년>2022</년><법정동> 익선동</법정동><아파트>현대뜨레비앙</아파트><월>5</월><일>14</일><전용면적>46.64</전용면적><중개사소재지>서울 종로구</중개사소재지><지번>55</지번><지역코드>11110</지역코드><층>5</층><해제사유발생일> </해제사유발생일><해제여부> </해제여부></item>"
      ]
     },
     "execution_count": 71,
     "metadata": {},
     "output_type": "execute_result"
    }
   ],
   "source": [
    "text_bs.select(\"item\")[2]"
   ]
  },
  {
   "cell_type": "code",
   "execution_count": null,
   "id": "7775b847",
   "metadata": {},
   "outputs": [],
   "source": [
    "text_bs.select(\"거래금액\")"
   ]
  },
  {
   "cell_type": "code",
   "execution_count": 77,
   "id": "710bf6f8",
   "metadata": {},
   "outputs": [],
   "source": [
    "list_tag = [\"거래금액\", \"거래유형\", \"건축년도\", \"년\", \"법정동\",\n",
    "            \"아파트\", \"월\", \"일\", \"전용면적\", \"중개사소재지\",\n",
    "            \"지번\", \"지역코드\", \"층\", \"해제사유발생일\", \"해제여부\"]"
   ]
  },
  {
   "cell_type": "code",
   "execution_count": 79,
   "id": "14d39451",
   "metadata": {},
   "outputs": [],
   "source": [
    "text_bs.select(list_tag[0])"
   ]
  },
  {
   "cell_type": "code",
   "execution_count": 81,
   "id": "57418ad1",
   "metadata": {},
   "outputs": [
    {
     "data": {
      "text/plain": [
       "'     200,100'"
      ]
     },
     "execution_count": 81,
     "metadata": {},
     "output_type": "execute_result"
    }
   ],
   "source": [
    "text_bs.select(list_tag[0])[0].text"
   ]
  },
  {
   "cell_type": "code",
   "execution_count": 106,
   "id": "21961149",
   "metadata": {},
   "outputs": [
    {
     "data": {
      "text/plain": [
       "['     200,100',\n",
       " '     181,000',\n",
       " '      35,000',\n",
       " '      24,000',\n",
       " '      16,000',\n",
       " '      48,500',\n",
       " '      16,000',\n",
       " '      89,000',\n",
       " '     120,000',\n",
       " '      73,000',\n",
       " '      49,000',\n",
       " '      12,450',\n",
       " '     117,000',\n",
       " '      12,000',\n",
       " '     269,000',\n",
       " '     222,500',\n",
       " '      90,000',\n",
       " '      92,000',\n",
       " '     145,000',\n",
       " '      67,000',\n",
       " '     135,000',\n",
       " '     160,000']"
      ]
     },
     "execution_count": 106,
     "metadata": {},
     "output_type": "execute_result"
    }
   ],
   "source": [
    "[text_sub.text for text_sub in text_bs.select(list_tag[0])]"
   ]
  },
  {
   "cell_type": "code",
   "execution_count": 101,
   "id": "369d3118",
   "metadata": {},
   "outputs": [],
   "source": [
    "for n_tag in range(len(list_tag)):\n",
    "    print(text_bs.select(list_tag[n_tag])[0].text)"
   ]
  },
  {
   "cell_type": "code",
   "execution_count": 103,
   "id": "b4abadc8",
   "metadata": {},
   "outputs": [
    {
     "data": {
      "text/html": [
       "<div>\n",
       "<style scoped>\n",
       "    .dataframe tbody tr th:only-of-type {\n",
       "        vertical-align: middle;\n",
       "    }\n",
       "\n",
       "    .dataframe tbody tr th {\n",
       "        vertical-align: top;\n",
       "    }\n",
       "\n",
       "    .dataframe thead th {\n",
       "        text-align: right;\n",
       "    }\n",
       "</style>\n",
       "<table border=\"1\" class=\"dataframe\">\n",
       "  <thead>\n",
       "    <tr style=\"text-align: right;\">\n",
       "      <th></th>\n",
       "      <th>거래금액</th>\n",
       "      <th>거래유형</th>\n",
       "      <th>건축년도</th>\n",
       "      <th>년</th>\n",
       "      <th>법정동</th>\n",
       "      <th>아파트</th>\n",
       "      <th>월</th>\n",
       "      <th>일</th>\n",
       "      <th>전용면적</th>\n",
       "      <th>중개사소재지</th>\n",
       "      <th>지번</th>\n",
       "      <th>지역코드</th>\n",
       "      <th>층</th>\n",
       "      <th>해제사유발생일</th>\n",
       "      <th>해제여부</th>\n",
       "    </tr>\n",
       "  </thead>\n",
       "  <tbody>\n",
       "    <tr>\n",
       "      <th>0</th>\n",
       "      <td>200,100</td>\n",
       "      <td>직거래</td>\n",
       "      <td>2004</td>\n",
       "      <td>2022</td>\n",
       "      <td>내수동</td>\n",
       "      <td>경희궁의아침3단지</td>\n",
       "      <td>5</td>\n",
       "      <td>10</td>\n",
       "      <td>174.55</td>\n",
       "      <td></td>\n",
       "      <td>72</td>\n",
       "      <td>11110</td>\n",
       "      <td>4</td>\n",
       "      <td></td>\n",
       "      <td></td>\n",
       "    </tr>\n",
       "  </tbody>\n",
       "</table>\n",
       "</div>"
      ],
      "text/plain": [
       "           거래금액 거래유형  건축년도     년   법정동        아파트  월   일    전용면적 중개사소재지  지번  \\\n",
       "0       200,100  직거래  2004  2022   내수동  경희궁의아침3단지  5  10  174.55         72   \n",
       "\n",
       "    지역코드  층 해제사유발생일 해제여부  \n",
       "0  11110  4               "
      ]
     },
     "execution_count": 103,
     "metadata": {},
     "output_type": "execute_result"
    }
   ],
   "source": [
    "list_trade = []\n",
    "for n_tag in range(len(list_tag)):\n",
    "    list_trade = list_trade + [text_bs.select(list_tag[n_tag])[0].text]\n",
    "\n",
    "pd.DataFrame([list_trade], columns = list_tag)"
   ]
  },
  {
   "cell_type": "markdown",
   "id": "3b3558e0",
   "metadata": {},
   "source": [
    "### Q4. 다음 코드를 활용해서 첫 번째 태그 부터 마지막 태그까지 값을 전부 뽑아 하나의 데이터프레임으로 만드시오.\n",
    "※ 최초에 비어있는 데이터프레임 객체를 준비할것.  \n",
    "※ 각 태그의 값은 별도의 데이터프레임 객체로 만들것.  \n",
    "※ 사전 준비된 데이터프레임 객체와 신규 데이터프레임 객체를 pd.concat()으로 병합"
   ]
  },
  {
   "cell_type": "code",
   "execution_count": 111,
   "id": "d6291b93",
   "metadata": {},
   "outputs": [
    {
     "data": {
      "text/html": [
       "<div>\n",
       "<style scoped>\n",
       "    .dataframe tbody tr th:only-of-type {\n",
       "        vertical-align: middle;\n",
       "    }\n",
       "\n",
       "    .dataframe tbody tr th {\n",
       "        vertical-align: top;\n",
       "    }\n",
       "\n",
       "    .dataframe thead th {\n",
       "        text-align: right;\n",
       "    }\n",
       "</style>\n",
       "<table border=\"1\" class=\"dataframe\">\n",
       "  <thead>\n",
       "    <tr style=\"text-align: right;\">\n",
       "      <th></th>\n",
       "      <th>0</th>\n",
       "      <th>1</th>\n",
       "      <th>2</th>\n",
       "      <th>3</th>\n",
       "      <th>4</th>\n",
       "      <th>5</th>\n",
       "      <th>6</th>\n",
       "      <th>7</th>\n",
       "      <th>8</th>\n",
       "      <th>9</th>\n",
       "      <th>...</th>\n",
       "      <th>12</th>\n",
       "      <th>13</th>\n",
       "      <th>14</th>\n",
       "      <th>15</th>\n",
       "      <th>16</th>\n",
       "      <th>17</th>\n",
       "      <th>18</th>\n",
       "      <th>19</th>\n",
       "      <th>20</th>\n",
       "      <th>21</th>\n",
       "    </tr>\n",
       "  </thead>\n",
       "  <tbody>\n",
       "    <tr>\n",
       "      <th>0</th>\n",
       "      <td>200,100</td>\n",
       "      <td>181,000</td>\n",
       "      <td>35,000</td>\n",
       "      <td>24,000</td>\n",
       "      <td>16,000</td>\n",
       "      <td>48,500</td>\n",
       "      <td>16,000</td>\n",
       "      <td>89,000</td>\n",
       "      <td>120,000</td>\n",
       "      <td>73,000</td>\n",
       "      <td>...</td>\n",
       "      <td>117,000</td>\n",
       "      <td>12,000</td>\n",
       "      <td>269,000</td>\n",
       "      <td>222,500</td>\n",
       "      <td>90,000</td>\n",
       "      <td>92,000</td>\n",
       "      <td>145,000</td>\n",
       "      <td>67,000</td>\n",
       "      <td>135,000</td>\n",
       "      <td>160,000</td>\n",
       "    </tr>\n",
       "  </tbody>\n",
       "</table>\n",
       "<p>1 rows × 22 columns</p>\n",
       "</div>"
      ],
      "text/plain": [
       "             0             1             2             3             4   \\\n",
       "0       200,100       181,000        35,000        24,000        16,000   \n",
       "\n",
       "             5             6             7             8             9   ...  \\\n",
       "0        48,500        16,000        89,000       120,000        73,000  ...   \n",
       "\n",
       "             12            13            14            15            16  \\\n",
       "0       117,000        12,000       269,000       222,500        90,000   \n",
       "\n",
       "             17            18            19            20            21  \n",
       "0        92,000       145,000        67,000       135,000       160,000  \n",
       "\n",
       "[1 rows x 22 columns]"
      ]
     },
     "execution_count": 111,
     "metadata": {},
     "output_type": "execute_result"
    }
   ],
   "source": [
    "tag_value_sub = [text_sub.text for text_sub in text_bs.select(list_tag[0])]\n",
    "pd.DataFrame([tag_value_sub])"
   ]
  },
  {
   "cell_type": "code",
   "execution_count": 112,
   "id": "03806e2b",
   "metadata": {},
   "outputs": [],
   "source": [
    "df_trade = pd.DataFrame()\n",
    "for n_tag in range(len(list_tag)):\n",
    "    print(n_tag)"
   ]
  },
  {
   "cell_type": "code",
   "execution_count": 114,
   "id": "8959e526",
   "metadata": {},
   "outputs": [],
   "source": [
    "df_trade = pd.DataFrame()\n",
    "for n_tag in range(len(list_tag)):\n",
    "    print(list_tag[n_tag])"
   ]
  },
  {
   "cell_type": "code",
   "execution_count": 117,
   "id": "4b5c55fc",
   "metadata": {},
   "outputs": [],
   "source": [
    "df_trade = pd.DataFrame()\n",
    "for n_tag in range(len(list_tag)):\n",
    "    print(list_tag[n_tag])\n",
    "    tag_value_sub = [text_sub.text for text_sub in text_bs.select(list_tag[n_tag])]\n",
    "    print(pd.DataFrame([tag_value_sub]))"
   ]
  },
  {
   "cell_type": "code",
   "execution_count": 120,
   "id": "d639490f",
   "metadata": {},
   "outputs": [],
   "source": [
    "df_trade = pd.DataFrame()\n",
    "for n_tag in range(len(list_tag)):\n",
    "#     print(list_tag[n_tag])\n",
    "    tag_value_sub = [text_sub.text for text_sub in text_bs.select(list_tag[n_tag])]\n",
    "    df_trade_sub = pd.DataFrame([tag_value_sub])\n",
    "    df_trade = pd.concat([df_trade, df_trade_sub])"
   ]
  },
  {
   "cell_type": "code",
   "execution_count": 122,
   "id": "8815c865",
   "metadata": {},
   "outputs": [],
   "source": [
    "df_trade.head()"
   ]
  },
  {
   "cell_type": "code",
   "execution_count": 124,
   "id": "0c7966a4",
   "metadata": {},
   "outputs": [],
   "source": [
    "df_trade.transpose().head()"
   ]
  },
  {
   "cell_type": "code",
   "execution_count": 125,
   "id": "b486db56",
   "metadata": {},
   "outputs": [],
   "source": [
    "df_trade = df_trade.transpose()\n",
    "df_trade.columns = list_tag"
   ]
  },
  {
   "cell_type": "code",
   "execution_count": 126,
   "id": "54148711",
   "metadata": {},
   "outputs": [
    {
     "data": {
      "text/html": [
       "<div>\n",
       "<style scoped>\n",
       "    .dataframe tbody tr th:only-of-type {\n",
       "        vertical-align: middle;\n",
       "    }\n",
       "\n",
       "    .dataframe tbody tr th {\n",
       "        vertical-align: top;\n",
       "    }\n",
       "\n",
       "    .dataframe thead th {\n",
       "        text-align: right;\n",
       "    }\n",
       "</style>\n",
       "<table border=\"1\" class=\"dataframe\">\n",
       "  <thead>\n",
       "    <tr style=\"text-align: right;\">\n",
       "      <th></th>\n",
       "      <th>거래금액</th>\n",
       "      <th>거래유형</th>\n",
       "      <th>건축년도</th>\n",
       "      <th>년</th>\n",
       "      <th>법정동</th>\n",
       "      <th>아파트</th>\n",
       "      <th>월</th>\n",
       "      <th>일</th>\n",
       "      <th>전용면적</th>\n",
       "      <th>중개사소재지</th>\n",
       "      <th>지번</th>\n",
       "      <th>지역코드</th>\n",
       "      <th>층</th>\n",
       "      <th>해제사유발생일</th>\n",
       "      <th>해제여부</th>\n",
       "    </tr>\n",
       "  </thead>\n",
       "  <tbody>\n",
       "    <tr>\n",
       "      <th>0</th>\n",
       "      <td>200,100</td>\n",
       "      <td>직거래</td>\n",
       "      <td>2004</td>\n",
       "      <td>2022</td>\n",
       "      <td>내수동</td>\n",
       "      <td>경희궁의아침3단지</td>\n",
       "      <td>5</td>\n",
       "      <td>10</td>\n",
       "      <td>174.55</td>\n",
       "      <td></td>\n",
       "      <td>72</td>\n",
       "      <td>11110</td>\n",
       "      <td>4</td>\n",
       "      <td></td>\n",
       "      <td></td>\n",
       "    </tr>\n",
       "    <tr>\n",
       "      <th>1</th>\n",
       "      <td>181,000</td>\n",
       "      <td>중개거래</td>\n",
       "      <td>2003</td>\n",
       "      <td>2022</td>\n",
       "      <td>내수동</td>\n",
       "      <td>경희궁파크팰리스</td>\n",
       "      <td>5</td>\n",
       "      <td>28</td>\n",
       "      <td>147.62</td>\n",
       "      <td>경기 의정부시, 서울 종로구</td>\n",
       "      <td>95</td>\n",
       "      <td>11110</td>\n",
       "      <td>7</td>\n",
       "      <td></td>\n",
       "      <td></td>\n",
       "    </tr>\n",
       "    <tr>\n",
       "      <th>2</th>\n",
       "      <td>35,000</td>\n",
       "      <td>중개거래</td>\n",
       "      <td>2003</td>\n",
       "      <td>2022</td>\n",
       "      <td>익선동</td>\n",
       "      <td>현대뜨레비앙</td>\n",
       "      <td>5</td>\n",
       "      <td>14</td>\n",
       "      <td>46.64</td>\n",
       "      <td>서울 종로구</td>\n",
       "      <td>55</td>\n",
       "      <td>11110</td>\n",
       "      <td>5</td>\n",
       "      <td></td>\n",
       "      <td></td>\n",
       "    </tr>\n",
       "    <tr>\n",
       "      <th>3</th>\n",
       "      <td>24,000</td>\n",
       "      <td>중개거래</td>\n",
       "      <td>2014</td>\n",
       "      <td>2022</td>\n",
       "      <td>연건동</td>\n",
       "      <td>이화에수풀</td>\n",
       "      <td>5</td>\n",
       "      <td>9</td>\n",
       "      <td>19.86</td>\n",
       "      <td>서울 종로구</td>\n",
       "      <td>195-10</td>\n",
       "      <td>11110</td>\n",
       "      <td>7</td>\n",
       "      <td></td>\n",
       "      <td></td>\n",
       "    </tr>\n",
       "    <tr>\n",
       "      <th>4</th>\n",
       "      <td>16,000</td>\n",
       "      <td>직거래</td>\n",
       "      <td>2014</td>\n",
       "      <td>2022</td>\n",
       "      <td>연건동</td>\n",
       "      <td>이화에수풀</td>\n",
       "      <td>5</td>\n",
       "      <td>13</td>\n",
       "      <td>16.98</td>\n",
       "      <td></td>\n",
       "      <td>195-10</td>\n",
       "      <td>11110</td>\n",
       "      <td>5</td>\n",
       "      <td></td>\n",
       "      <td></td>\n",
       "    </tr>\n",
       "  </tbody>\n",
       "</table>\n",
       "</div>"
      ],
      "text/plain": [
       "           거래금액  거래유형  건축년도     년   법정동        아파트  월   일    전용면적  \\\n",
       "0       200,100   직거래  2004  2022   내수동  경희궁의아침3단지  5  10  174.55   \n",
       "1       181,000  중개거래  2003  2022   내수동   경희궁파크팰리스  5  28  147.62   \n",
       "2        35,000  중개거래  2003  2022   익선동     현대뜨레비앙  5  14   46.64   \n",
       "3        24,000  중개거래  2014  2022   연건동      이화에수풀  5   9   19.86   \n",
       "4        16,000   직거래  2014  2022   연건동      이화에수풀  5  13   16.98   \n",
       "\n",
       "            중개사소재지      지번   지역코드  층 해제사유발생일 해제여부  \n",
       "0                       72  11110  4               \n",
       "1  경기 의정부시, 서울 종로구      95  11110  7               \n",
       "2           서울 종로구      55  11110  5               \n",
       "3           서울 종로구  195-10  11110  7               \n",
       "4                   195-10  11110  5               "
      ]
     },
     "execution_count": 126,
     "metadata": {},
     "output_type": "execute_result"
    }
   ],
   "source": [
    "df_trade.head()"
   ]
  },
  {
   "cell_type": "code",
   "execution_count": 127,
   "id": "8e483ad7",
   "metadata": {},
   "outputs": [
    {
     "data": {
      "text/plain": [
       "'     200,100'"
      ]
     },
     "execution_count": 127,
     "metadata": {},
     "output_type": "execute_result"
    }
   ],
   "source": [
    "df_trade.iloc[0, 0]"
   ]
  },
  {
   "cell_type": "code",
   "execution_count": 129,
   "id": "58625717",
   "metadata": {},
   "outputs": [],
   "source": [
    "df_trade[\"거래금액\"] = df_trade[\"거래금액\"].str.replace(pat = \"[^0-9]\", \n",
    "                                                        repl = \"\",\n",
    "                                                        regex = True)"
   ]
  },
  {
   "cell_type": "code",
   "execution_count": 130,
   "id": "94d9eee9",
   "metadata": {},
   "outputs": [
    {
     "data": {
      "text/plain": [
       "'200100'"
      ]
     },
     "execution_count": 130,
     "metadata": {},
     "output_type": "execute_result"
    }
   ],
   "source": [
    "df_trade.iloc[0, 0]"
   ]
  },
  {
   "cell_type": "code",
   "execution_count": 132,
   "id": "44c55336",
   "metadata": {},
   "outputs": [],
   "source": [
    "ser = pd.Series([\"123,456\", \"23.45\"])"
   ]
  },
  {
   "cell_type": "code",
   "execution_count": 134,
   "id": "f88a5786",
   "metadata": {},
   "outputs": [
    {
     "data": {
      "text/plain": [
       "0    ,\n",
       "1    .\n",
       "dtype: object"
      ]
     },
     "execution_count": 134,
     "metadata": {},
     "output_type": "execute_result"
    }
   ],
   "source": [
    "ser.str.replace(pat = \"[0-9]\", repl = \"\", regex = True)"
   ]
  },
  {
   "cell_type": "code",
   "execution_count": 135,
   "id": "31709918",
   "metadata": {},
   "outputs": [
    {
     "data": {
      "text/plain": [
       "0    123456\n",
       "1      2345\n",
       "dtype: object"
      ]
     },
     "execution_count": 135,
     "metadata": {},
     "output_type": "execute_result"
    }
   ],
   "source": [
    "ser.str.replace(pat = \"[^0-9]\", repl = \"\", regex = True)"
   ]
  },
  {
   "cell_type": "code",
   "execution_count": 137,
   "id": "a830f427",
   "metadata": {},
   "outputs": [
    {
     "data": {
      "text/plain": [
       "0    123,\n",
       "1     23.\n",
       "dtype: object"
      ]
     },
     "execution_count": 137,
     "metadata": {},
     "output_type": "execute_result"
    }
   ],
   "source": [
    "ser.str.replace(pat = \"[4-6]\", repl = \"\", regex = True)"
   ]
  },
  {
   "cell_type": "code",
   "execution_count": 138,
   "id": "6e5e19eb",
   "metadata": {},
   "outputs": [
    {
     "data": {
      "text/plain": [
       "0    123456\n",
       "1     23.45\n",
       "dtype: object"
      ]
     },
     "execution_count": 138,
     "metadata": {},
     "output_type": "execute_result"
    }
   ],
   "source": [
    "ser.str.replace(pat = \"[^0-9.]\", repl = \"\", regex = True)"
   ]
  },
  {
   "cell_type": "code",
   "execution_count": 139,
   "id": "3a602612",
   "metadata": {},
   "outputs": [
    {
     "data": {
      "text/plain": [
       "0    123,@@@\n",
       "1      23.@@\n",
       "dtype: object"
      ]
     },
     "execution_count": 139,
     "metadata": {},
     "output_type": "execute_result"
    }
   ],
   "source": [
    "ser.str.replace(pat = \"[4-6]\", repl = \"@\", regex = True)"
   ]
  },
  {
   "cell_type": "code",
   "execution_count": 140,
   "id": "b0569390",
   "metadata": {},
   "outputs": [
    {
     "data": {
      "text/plain": [
       "0    123,@\n",
       "1    23.45\n",
       "dtype: object"
      ]
     },
     "execution_count": 140,
     "metadata": {},
     "output_type": "execute_result"
    }
   ],
   "source": [
    "ser.str.replace(pat = \"[4-6]{3}\", repl = \"@\", regex = True)"
   ]
  },
  {
   "cell_type": "code",
   "execution_count": 142,
   "id": "2b5d405c",
   "metadata": {},
   "outputs": [
    {
     "data": {
      "text/plain": [
       "array(['경희궁의아침3단지', '경희궁파크팰리스', '현대뜨레비앙', '이화에수풀', '(60-1)', 'CS타워',\n",
       "       '아남2', '아남1', '아남3', '그린', '삼전솔하임4차', '종로청계힐스테이트', '삼전솔하임2차',\n",
       "       '경희궁자이(2단지)', '경희궁자이(4단지)', '롯데낙천대', '삼성', '인왕산아이파크'], dtype=object)"
      ]
     },
     "execution_count": 142,
     "metadata": {},
     "output_type": "execute_result"
    }
   ],
   "source": [
    "df_trade[\"아파트\"].unique()"
   ]
  },
  {
   "cell_type": "code",
   "execution_count": 144,
   "id": "071b9032",
   "metadata": {},
   "outputs": [],
   "source": [
    "df_trade_sub1 = df_trade.loc[df_trade[\"아파트\"].str.contains(\"[0-9]\")]\n",
    "df_trade_sub1.head()"
   ]
  },
  {
   "cell_type": "code",
   "execution_count": 145,
   "id": "b8be2eab",
   "metadata": {},
   "outputs": [
    {
     "data": {
      "text/html": [
       "<div>\n",
       "<style scoped>\n",
       "    .dataframe tbody tr th:only-of-type {\n",
       "        vertical-align: middle;\n",
       "    }\n",
       "\n",
       "    .dataframe tbody tr th {\n",
       "        vertical-align: top;\n",
       "    }\n",
       "\n",
       "    .dataframe thead th {\n",
       "        text-align: right;\n",
       "    }\n",
       "</style>\n",
       "<table border=\"1\" class=\"dataframe\">\n",
       "  <thead>\n",
       "    <tr style=\"text-align: right;\">\n",
       "      <th></th>\n",
       "      <th>거래금액</th>\n",
       "      <th>거래유형</th>\n",
       "      <th>건축년도</th>\n",
       "      <th>년</th>\n",
       "      <th>법정동</th>\n",
       "      <th>아파트</th>\n",
       "      <th>월</th>\n",
       "      <th>일</th>\n",
       "      <th>전용면적</th>\n",
       "      <th>중개사소재지</th>\n",
       "      <th>지번</th>\n",
       "      <th>지역코드</th>\n",
       "      <th>층</th>\n",
       "      <th>해제사유발생일</th>\n",
       "      <th>해제여부</th>\n",
       "    </tr>\n",
       "  </thead>\n",
       "  <tbody>\n",
       "    <tr>\n",
       "      <th>7</th>\n",
       "      <td>89000</td>\n",
       "      <td>직거래</td>\n",
       "      <td>1996</td>\n",
       "      <td>2022</td>\n",
       "      <td>명륜2가</td>\n",
       "      <td>아남2</td>\n",
       "      <td>5</td>\n",
       "      <td>10</td>\n",
       "      <td>114.36</td>\n",
       "      <td></td>\n",
       "      <td>236</td>\n",
       "      <td>11110</td>\n",
       "      <td>2</td>\n",
       "      <td></td>\n",
       "      <td></td>\n",
       "    </tr>\n",
       "    <tr>\n",
       "      <th>8</th>\n",
       "      <td>120000</td>\n",
       "      <td>중개거래</td>\n",
       "      <td>1995</td>\n",
       "      <td>2022</td>\n",
       "      <td>명륜2가</td>\n",
       "      <td>아남1</td>\n",
       "      <td>5</td>\n",
       "      <td>13</td>\n",
       "      <td>84.9</td>\n",
       "      <td>서울 종로구</td>\n",
       "      <td>4</td>\n",
       "      <td>11110</td>\n",
       "      <td>9</td>\n",
       "      <td></td>\n",
       "      <td></td>\n",
       "    </tr>\n",
       "    <tr>\n",
       "      <th>9</th>\n",
       "      <td>73000</td>\n",
       "      <td>중개거래</td>\n",
       "      <td>1999</td>\n",
       "      <td>2022</td>\n",
       "      <td>명륜2가</td>\n",
       "      <td>아남3</td>\n",
       "      <td>5</td>\n",
       "      <td>13</td>\n",
       "      <td>47.43</td>\n",
       "      <td>서울 종로구</td>\n",
       "      <td>237</td>\n",
       "      <td>11110</td>\n",
       "      <td>5</td>\n",
       "      <td></td>\n",
       "      <td></td>\n",
       "    </tr>\n",
       "  </tbody>\n",
       "</table>\n",
       "</div>"
      ],
      "text/plain": [
       "     거래금액  거래유형  건축년도     년    법정동  아파트  월   일    전용면적  중개사소재지   지번   지역코드  층  \\\n",
       "7   89000   직거래  1996  2022   명륜2가  아남2  5  10  114.36          236  11110  2   \n",
       "8  120000  중개거래  1995  2022   명륜2가  아남1  5  13    84.9  서울 종로구    4  11110  9   \n",
       "9   73000  중개거래  1999  2022   명륜2가  아남3  5  13   47.43  서울 종로구  237  11110  5   \n",
       "\n",
       "  해제사유발생일 해제여부  \n",
       "7               \n",
       "8               \n",
       "9               "
      ]
     },
     "execution_count": 145,
     "metadata": {},
     "output_type": "execute_result"
    }
   ],
   "source": [
    "df_trade_sub2 = df_trade.loc[df_trade[\"아파트\"].str.contains(\"[0-9]$\")]\n",
    "df_trade_sub2.head()"
   ]
  },
  {
   "cell_type": "code",
   "execution_count": 153,
   "id": "c25fcdda",
   "metadata": {},
   "outputs": [],
   "source": [
    "import requests\n",
    "from bs4 import BeautifulSoup as bs\n",
    "import pandas as pd\n",
    "import time\n",
    "from tqdm.notebook import tqdm"
   ]
  },
  {
   "cell_type": "code",
   "execution_count": 150,
   "id": "98fee4ec",
   "metadata": {},
   "outputs": [],
   "source": [
    "url = \"https://search.naver.com/search.naver?sm=tab_hty.top&where=news&query=bnk\""
   ]
  },
  {
   "cell_type": "code",
   "execution_count": 190,
   "id": "20da9227",
   "metadata": {},
   "outputs": [
    {
     "data": {
      "text/plain": [
       "'<!doctype html> <html lang=\"ko\"> <head> <meta charset=\"utf-8\"> <meta name=\"referrer\" content=\"always\">  <meta name=\"format-detection\" content=\"telephone=no,address=no,email=no\"> <meta name=\"viewport\" '"
      ]
     },
     "execution_count": 190,
     "metadata": {},
     "output_type": "execute_result"
    }
   ],
   "source": [
    "text = requests.get(url)\n",
    "text.text[:200]"
   ]
  },
  {
   "cell_type": "code",
   "execution_count": 191,
   "id": "c7cc9448",
   "metadata": {},
   "outputs": [],
   "source": [
    "text_bs = bs(text.text, \"html.parser\")\n",
    "# text_bs"
   ]
  },
  {
   "cell_type": "code",
   "execution_count": 192,
   "id": "0611e0e4",
   "metadata": {},
   "outputs": [],
   "source": [
    "news_list = text_bs.select(\"ul.list_news\")"
   ]
  },
  {
   "cell_type": "code",
   "execution_count": 193,
   "id": "e1df467d",
   "metadata": {},
   "outputs": [
    {
     "data": {
      "text/plain": [
       "<ul class=\"list_news\"> <li class=\"bx\" id=\"sp_nws1\"> <div class=\"news_wrap api_ani_send\"> <div class=\"news_area\"> <div class=\"news_info\"> <div class=\"api_save_group _keep_wrap\"> <a aria-pressed=\"false\" class=\"btn_save _keep_trigger\" data-url=\"http://www.newsis.com/view/?id=NISX20220705_0001931932&amp;cID=10899&amp;pID=10800\" href=\"#\" onclick=\"tCR('a=nws*a.kep&amp;r=1&amp;i=88000127_000000000000000011286526&amp;u=javascript'); return false;\" role=\"button\"><i class=\"spnew ico_save\">문서 저장하기</i></a> <div class=\"api_ly_save _keep_save_layer\"> <a class=\"spnew_af item item_save _keep_save\" data-cr-off=\"a=nws*a.kepoff&amp;r=1&amp;i=88000127_000000000000000011286526&amp;u=javascript\" data-cr-on=\"a=nws*a.kepon&amp;r=1&amp;i=88000127_000000000000000011286526&amp;u=javascript\" href=\"#\" role=\"button\">Keep에 저장</a> <a class=\"spnew_af item item_quick\" href=\"https://keep.naver.com/\" onclick=\"return goOtherCR(this,'a=nws*a.kephome&amp;r=1&amp;i=88000127_000000000000000011286526&amp;u='+urlencode(this.href));\" target=\"_blank\">Keep 바로가기</a> </div></div><div class=\"info_group\"> <a class=\"info press\" href=\"http://www.newsis.com\" onclick=\"return goOtherCR(this, 'a=nws*a.prof&amp;r=1&amp;i=88000127_000000000000000011286526&amp;g=003.0011286526&amp;u='+urlencode(this.href));\" target=\"_blank\"><span class=\"thumb_box\"><img alt=\"\" class=\"thumb\" height=\"20\" onerror=\"this.src='data:image/gif;base64,R0lGODlhAQABAIAAAAAAAP///yH5BAEAAAAALAAAAAABAAEAAAIBRAA7';this.className='thumb bg_default_press'\" src=\"https://search.pstatic.net/common/?src=https%3A%2F%2Fmimgnews.pstatic.net%2Fimage%2Fupload%2Foffice_logo%2F003%2F2019%2F02%2F19%2Flogo_003_18_20190219111719.jpg&amp;type=f54_54&amp;expire=24&amp;refresh=true\" width=\"20\"/></span>뉴시스</a><span class=\"info\">52분 전</span><a class=\"info\" href=\"https://n.news.naver.com/mnews/article/003/0011286526?sid=102\" onclick=\"return goOtherCR(this, 'a=nws*a.nav&amp;r=1&amp;i=88000127_000000000000000011286526&amp;u='+urlencode(this.href));\" target=\"_blank\">네이버뉴스</a> </div></div><a class=\"news_tit\" href=\"http://www.newsis.com/view/?id=NISX20220705_0001931932&amp;cID=10899&amp;pID=10800\" onclick=\"return goOtherCR(this, 'a=nws*a.tit&amp;r=1&amp;i=88000127_000000000000000011286526&amp;g=003.0011286526&amp;u='+urlencode(this.href));\" target=\"_blank\" title=\"[부산소식] BNK투자증권, 이웃 위한 선풍기 100대 기부 등\">[부산소식] <mark>BNK</mark>투자증권, 이웃 위한 선풍기 100대 기부 등</a> <div class=\"news_dsc\"> <div class=\"dsc_wrap\"> <a class=\"api_txt_lines dsc_txt_wrap\" href=\"http://www.newsis.com/view/?id=NISX20220705_0001931932&amp;cID=10899&amp;pID=10800\" onclick=\"return goOtherCR(this, 'a=nws*a.body&amp;r=1&amp;i=88000127_000000000000000011286526&amp;g=003.0011286526&amp;u='+urlencode(this.href));\" target=\"_blank\"><mark>BNK</mark>투자증권은 5일 오후 부산진구청에서 지역 이웃들을 위한 '사랑의 선풍기 전달식'을 개최했다. <mark>BNK</mark>투자증권은 이날 행사를 통해 선풍기 100대를 부산사랑의열매에 기탁하고, 이 달 중으로 부산진구청과 함께 지역...</a> </div></div></div><a class=\"dsc_thumb\" href=\"http://www.newsis.com/view/?id=NISX20220705_0001931932&amp;cID=10899&amp;pID=10800\" onclick=\"return goOtherCR(this, 'a=nws*a.img&amp;r=1&amp;i=88000127_000000000000000011286526&amp;g=003.0011286526&amp;u='+urlencode(this.href));\" target=\"_blank\"><img alt=\"[부산소식] BNK투자증\" class=\"thumb api_get\" height=\"90\" onerror=\"this.parentNode.style.display='none';\" src=\"https://search.pstatic.net/common/?src=https%3A%2F%2Fimgnews.pstatic.net%2Fimage%2Forigin%2F003%2F2022%2F07%2F05%2F11286526.jpg&amp;type=ff264_180&amp;expire=2&amp;refresh=true\" width=\"132\"/></a> </div><div class=\"news_cluster\"> <ul class=\"list_cluster\"> <li class=\"sub_bx\"> <span class=\"sub_wrap\"> <span class=\"sub_area\"> <cite class=\"sub_txt press\" title=\"뉴스1\">뉴스1</cite><span class=\"sub_txt\">26분 전</span><a class=\"sub_txt\" href=\"https://n.news.naver.com/mnews/article/421/0006198724?sid=102\" onclick=\"return goOtherCR(this, 'a=nws*c.nav&amp;r=2&amp;i=08138263_000000000000000006198724&amp;u='+urlencode(this.href));\" target=\"_blank\">네이버뉴스</a> </span><a class=\"elss sub_tit\" href=\"https://www.news1.kr/articles/?4732699\" onclick=\"return goOtherCR(this, 'a=nws*c.tit&amp;r=2&amp;i=08138263_000000000000000006198724&amp;g=421.0006198724&amp;u='+urlencode(this.href));\" target=\"_blank\" title=\"BNK투자증권, 소외 이웃에 선풍기 100대 기부\"><mark>BNK</mark>투자증권, 소외 이웃에 선풍기 100대 기부</a> </span></li> <li class=\"sub_bx\"> <span class=\"sub_wrap\"> <span class=\"sub_area\"> <cite class=\"sub_txt press\" title=\"파이낸셜뉴스\">파이낸셜뉴스</cite><span class=\"sub_txt\">1시간 전</span><a class=\"sub_txt\" href=\"https://n.news.naver.com/mnews/article/014/0004862530?sid=101\" onclick=\"return goOtherCR(this, 'a=nws*c.nav&amp;r=3&amp;i=880000FF_000000000000000004862530&amp;u='+urlencode(this.href));\" target=\"_blank\">네이버뉴스</a> </span><a class=\"elss sub_tit\" href=\"http://www.fnnews.com/news/202207051424396597\" onclick=\"return goOtherCR(this, 'a=nws*c.tit&amp;r=3&amp;i=880000FF_000000000000000004862530&amp;g=014.0004862530&amp;u='+urlencode(this.href));\" target=\"_blank\" title=\"BNK투자증권, 폭염 대비 선풍기 100대 기부\"><mark>BNK</mark>투자증권, 폭염 대비 선풍기 100대 기부</a> </span></li> <li class=\"sub_bx\"> <span class=\"sub_wrap\"> <span class=\"sub_area\"> <cite class=\"sub_txt press\" title=\"노컷뉴스\">노컷뉴스</cite><span class=\"sub_txt\">45분 전</span><a class=\"sub_txt\" href=\"https://n.news.naver.com/mnews/article/079/0003660980?sid=102\" onclick=\"return goOtherCR(this, 'a=nws*c.nav&amp;r=4&amp;i=88000112_000000000000000003660980&amp;u='+urlencode(this.href));\" target=\"_blank\">네이버뉴스</a> </span><a class=\"elss sub_tit\" href=\"https://www.nocutnews.co.kr/news/5782131\" onclick=\"return goOtherCR(this, 'a=nws*c.tit&amp;r=4&amp;i=88000112_000000000000000003660980&amp;g=079.0003660980&amp;u='+urlencode(this.href));\" target=\"_blank\" title=\"BNK투자증권, 지역 이웃 건강한 여름나기 선풍기 100대 기부\"><mark>BNK</mark>투자증권, 지역 이웃 건강한 여름나기 선풍기 100대 기부</a> </span></li> <li class=\"sub_bx\"> <span class=\"sub_wrap\"> <span class=\"sub_area\"> <cite class=\"sub_txt press\" title=\"헤럴드경제\">헤럴드경제</cite><span class=\"sub_txt\">43분 전</span><a class=\"sub_txt\" href=\"https://n.news.naver.com/mnews/article/016/0002011772?sid=102\" onclick=\"return goOtherCR(this, 'a=nws*c.nav&amp;r=5&amp;i=8800010E_000000000000000002011772&amp;u='+urlencode(this.href));\" target=\"_blank\">네이버뉴스</a> </span><a class=\"elss sub_tit\" href=\"http://news.heraldcorp.com/view.php?ud=20220705000649\" onclick=\"return goOtherCR(this, 'a=nws*c.tit&amp;r=5&amp;i=8800010E_000000000000000002011772&amp;g=016.0002011772&amp;u='+urlencode(this.href));\" target=\"_blank\" title=\"BNK투자증권, 이웃의 건강한 여름나기 지원 선풍기 100대 기부\"><mark>BNK</mark>투자증권, 이웃의 건강한 여름나기 지원 선풍기 100대 기부</a> </span></li> </ul></div><a class=\"news_more\" href=\"?where=news&amp;sm=tab_tnw&amp;query=bnk&amp;sort=0&amp;photo=0&amp;field=0&amp;pd=0&amp;ds=&amp;de=&amp;mynews=0&amp;office_type=0&amp;office_section_code=0&amp;news_office_checked=&amp;related=1&amp;docid=0030011286526&amp;nso=so:r,p:all,a:all\" onclick=\"return goOtherCR(this, 'a=nws*r.more&amp;u='+urlencode(urlexpand(this.href)));\">관련뉴스 9건 전체보기<i class=\"spnew ico_arrow\"></i></a> </li> <li class=\"bx\" id=\"sp_nws6\"> <div class=\"news_wrap api_ani_send\"> <div class=\"news_area\"> <div class=\"news_info\"> <div class=\"api_save_group _keep_wrap\"> <a aria-pressed=\"false\" class=\"btn_save _keep_trigger\" data-url=\"https://www.yna.co.kr/view/AKR20220704104300051?input=1195m\" href=\"#\" onclick=\"tCR('a=nws*a.kep&amp;r=6&amp;i=880000D8_000000000000000013287656&amp;u=javascript'); return false;\" role=\"button\"><i class=\"spnew ico_save\">문서 저장하기</i></a> <div class=\"api_ly_save _keep_save_layer\"> <a class=\"spnew_af item item_save _keep_save\" data-cr-off=\"a=nws*a.kepoff&amp;r=6&amp;i=880000D8_000000000000000013287656&amp;u=javascript\" data-cr-on=\"a=nws*a.kepon&amp;r=6&amp;i=880000D8_000000000000000013287656&amp;u=javascript\" href=\"#\" role=\"button\">Keep에 저장</a> <a class=\"spnew_af item item_quick\" href=\"https://keep.naver.com/\" onclick=\"return goOtherCR(this,'a=nws*a.kephome&amp;r=6&amp;i=880000D8_000000000000000013287656&amp;u='+urlencode(this.href));\" target=\"_blank\">Keep 바로가기</a> </div></div><div class=\"info_group\"> <a class=\"info press\" href=\"https://www.yna.co.kr/\" onclick=\"return goOtherCR(this, 'a=nws*a.prof&amp;r=6&amp;i=880000D8_000000000000000013287656&amp;g=001.0013287656&amp;u='+urlencode(this.href));\" target=\"_blank\"><span class=\"thumb_box\"><img alt=\"\" class=\"thumb\" height=\"20\" onerror=\"this.src='data:image/gif;base64,R0lGODlhAQABAIAAAAAAAP///yH5BAEAAAAALAAAAAABAAEAAAIBRAA7';this.className='thumb bg_default_press'\" src=\"https://search.pstatic.net/common/?src=https%3A%2F%2Fmimgnews.pstatic.net%2Fimage%2Fupload%2Foffice_logo%2F001%2F2017%2F06%2F29%2Flogo_001_18_20170629160329.png&amp;type=f54_54&amp;expire=24&amp;refresh=true\" width=\"20\"/></span>연합뉴스</a><span class=\"info\">1일 전</span><a class=\"info\" href=\"https://n.news.naver.com/mnews/article/001/0013287656?sid=101\" onclick=\"return goOtherCR(this, 'a=nws*a.nav&amp;r=6&amp;i=880000D8_000000000000000013287656&amp;u='+urlencode(this.href));\" target=\"_blank\">네이버뉴스</a> </div></div><a class=\"news_tit\" href=\"https://www.yna.co.kr/view/AKR20220704104300051?input=1195m\" onclick=\"return goOtherCR(this, 'a=nws*a.tit&amp;r=6&amp;i=880000D8_000000000000000013287656&amp;g=001.0013287656&amp;u='+urlencode(this.href));\" target=\"_blank\" title=\"BNK부산은행, 주택도시보증공사 표준PF 대출 기관 선정\"><mark>BNK</mark>부산은행, 주택도시보증공사 표준PF 대출 기관 선정</a> <div class=\"news_dsc\"> <div class=\"dsc_wrap\"> <a class=\"api_txt_lines dsc_txt_wrap\" href=\"https://www.yna.co.kr/view/AKR20220704104300051?input=1195m\" onclick=\"return goOtherCR(this, 'a=nws*a.body&amp;r=6&amp;i=880000D8_000000000000000013287656&amp;g=001.0013287656&amp;u='+urlencode(this.href));\" target=\"_blank\"><mark>BNK</mark>부산은행은 지방은행 최초로 주택도시보증공사(HUG) '표준PF(프로젝트 파이낸싱)·후분양 표준PF' 대출을 주관하는 금융기관으로 선정됐다고 4일 밝혔다. 부산은행은 6일부터 2년간 분양보증(후분양 포함)...</a> </div></div></div><a class=\"dsc_thumb\" href=\"https://www.yna.co.kr/view/AKR20220704104300051?input=1195m\" onclick=\"return goOtherCR(this, 'a=nws*a.img&amp;r=6&amp;i=880000D8_000000000000000013287656&amp;g=001.0013287656&amp;u='+urlencode(this.href));\" target=\"_blank\"><img alt=\"BNK부산은행, 주택도시\" class=\"thumb api_get\" height=\"90\" onerror=\"this.parentNode.style.display='none';\" src=\"https://search.pstatic.net/common/?src=https%3A%2F%2Fimgnews.pstatic.net%2Fimage%2Forigin%2F001%2F2022%2F07%2F04%2F13287656.jpg&amp;type=ff264_180&amp;expire=2&amp;refresh=true\" width=\"132\"/></a> </div><div class=\"news_cluster\"> <ul class=\"list_cluster\"> <li class=\"sub_bx\"> <span class=\"sub_wrap\"> <span class=\"sub_area\"> <cite class=\"sub_txt press\" title=\"조선비즈\">조선비즈</cite><span class=\"sub_txt\">1일 전</span><a class=\"sub_txt\" href=\"https://n.news.naver.com/mnews/article/366/0000825204?sid=101\" onclick=\"return goOtherCR(this, 'a=nws*c.nav&amp;r=7&amp;i=88127058_000000000000000000825204&amp;u='+urlencode(this.href));\" target=\"_blank\">네이버뉴스</a> </span><a class=\"elss sub_tit\" href=\"https://biz.chosun.com/stock/finance/2022/07/04/N77PC7TUIVEQRFUO6XJCF2KYE4/?utm_source=naver&amp;utm_medium=original&amp;utm_campaign=biz\" onclick=\"return goOtherCR(this, 'a=nws*c.tit&amp;r=7&amp;i=88127058_000000000000000000825204&amp;g=366.0000825204&amp;u='+urlencode(this.href));\" target=\"_blank\" title=\"BNK부산은행, 주택도시보증공사 표준PF 대출 기관 선정\"><mark>BNK</mark>부산은행, 주택도시보증공사 표준PF 대출 기관 선정</a> </span></li> <li class=\"sub_bx\"> <span class=\"sub_wrap\"> <span class=\"sub_area\"> <cite class=\"sub_txt press\" title=\"e대한경제\">e대한경제</cite><span class=\"sub_txt\">1일 전</span> </span><a class=\"elss sub_tit\" href=\"https://www.dnews.co.kr/uhtml/view.jsp?idxno=202207041458221490420\" onclick=\"return goOtherCR(this, 'a=nws*d.tit&amp;r=8&amp;i=88105698_000000000000000000382980&amp;g=5138.0000382980&amp;u='+urlencode(this.href));\" target=\"_blank\" title=\"BNK부산은행, 주택공사 표준PF 주관 금융기관 선정\"><mark>BNK</mark>부산은행, 주택공사 표준PF 주관 금융기관 선정</a> </span></li> <li class=\"sub_bx\"> <span class=\"sub_wrap\"> <span class=\"sub_area\"> <cite class=\"sub_txt press\" title=\"뉴시스\">뉴시스</cite><span class=\"sub_txt\">1일 전</span><a class=\"sub_txt\" href=\"https://n.news.naver.com/mnews/article/003/0011284220?sid=102\" onclick=\"return goOtherCR(this, 'a=nws*c.nav&amp;r=9&amp;i=88000127_000000000000000011284220&amp;u='+urlencode(this.href));\" target=\"_blank\">네이버뉴스</a> </span><a class=\"elss sub_tit\" href=\"http://www.newsis.com/view/?id=NISX20220704_0001930508&amp;cID=10811&amp;pID=10800\" onclick=\"return goOtherCR(this, 'a=nws*c.tit&amp;r=9&amp;i=88000127_000000000000000011284220&amp;g=003.0011284220&amp;u='+urlencode(this.href));\" target=\"_blank\" title=\"BNK부산은행, 표준PF·후분양 표준PF 주관 금융기관 선정\"><mark>BNK</mark>부산은행, 표준PF·후분양 표준PF 주관 금융기관 선정</a> </span></li> <li class=\"sub_bx\"> <span class=\"sub_wrap\"> <span class=\"sub_area\"> <cite class=\"sub_txt press\" title=\"서울파이낸스\">서울파이낸스</cite><span class=\"sub_txt\">23시간 전</span> </span><a class=\"elss sub_tit\" href=\"http://www.seoulfn.com/news/articleView.html?idxno=460230\" onclick=\"return goOtherCR(this, 'a=nws*d.tit&amp;r=10&amp;i=88000395_000000000000000000384120&amp;g=5001.0000384120&amp;u='+urlencode(this.href));\" target=\"_blank\" title=\"BNK부산은행, HUG 표준PF 대출 금융기관 선정\"><mark>BNK</mark>부산은행, HUG 표준PF 대출 금융기관 선정</a> </span></li> </ul></div><a class=\"news_more\" href=\"?where=news&amp;sm=tab_tnw&amp;query=bnk&amp;sort=0&amp;photo=0&amp;field=0&amp;pd=0&amp;ds=&amp;de=&amp;mynews=0&amp;office_type=0&amp;office_section_code=0&amp;news_office_checked=&amp;related=1&amp;docid=0010013287656&amp;nso=so:r,p:all,a:all\" onclick=\"return goOtherCR(this, 'a=nws*r.more&amp;u='+urlencode(urlexpand(this.href)));\">관련뉴스 18건 전체보기<i class=\"spnew ico_arrow\"></i></a> </li> <li class=\"bx\" id=\"sp_nws11\"> <div class=\"news_wrap api_ani_send\"> <div class=\"news_area\"> <div class=\"news_info\"> <div class=\"api_save_group _keep_wrap\"> <a aria-pressed=\"false\" class=\"btn_save _keep_trigger\" data-url=\"http://www.newspim.com/news/view/20220705000657\" href=\"#\" onclick=\"tCR('a=nws*b.kep&amp;r=11&amp;i=88000394_000000000000000002125837&amp;u=javascript'); return false;\" role=\"button\"><i class=\"spnew ico_save\">문서 저장하기</i></a> <div class=\"api_ly_save _keep_save_layer\"> <a class=\"spnew_af item item_save _keep_save\" data-cr-off=\"a=nws*b.kepoff&amp;r=11&amp;i=88000394_000000000000000002125837&amp;u=javascript\" data-cr-on=\"a=nws*b.kepon&amp;r=11&amp;i=88000394_000000000000000002125837&amp;u=javascript\" href=\"#\" role=\"button\">Keep에 저장</a> <a class=\"spnew_af item item_quick\" href=\"https://keep.naver.com/\" onclick=\"return goOtherCR(this,'a=nws*b.kephome&amp;r=11&amp;i=88000394_000000000000000002125837&amp;u='+urlencode(this.href));\" target=\"_blank\">Keep 바로가기</a> </div></div><div class=\"info_group\"> <a class=\"info press\" href=\"http://www.newspim.com\" onclick=\"return goOtherCR(this, 'a=nws*b.prof&amp;r=11&amp;i=88000394_000000000000000002125837&amp;g=5002.0002125837&amp;u='+urlencode(this.href));\" target=\"_blank\"><span class=\"thumb_box\"><img alt=\"\" class=\"thumb\" height=\"20\" onerror=\"this.src='data:image/gif;base64,R0lGODlhAQABAIAAAAAAAP///yH5BAEAAAAALAAAAAABAAEAAAIBRAA7';this.className='thumb bg_default_press'\" src=\"https://search.pstatic.net/common/?src=http%3A%2F%2Fimg.newspim.com%2Fm%2Fmweb%2Ffavicon_144X144V2.png&amp;type=f54_54&amp;expire=24&amp;refresh=true\" width=\"20\"/></span>뉴스핌</a><span class=\"info\">2시간 전</span> </div></div><a class=\"news_tit\" href=\"http://www.newspim.com/news/view/20220705000657\" onclick=\"return goOtherCR(this, 'a=nws*b.tit&amp;r=11&amp;i=88000394_000000000000000002125837&amp;g=5002.0002125837&amp;u='+urlencode(this.href));\" target=\"_blank\" title=\"경남은행, BNK모바일신용대출 2종 판매\">경남은행, <mark>BNK</mark>모바일신용대출 2종 판매</a> <div class=\"news_dsc\"> <div class=\"dsc_wrap\"> <a class=\"api_txt_lines dsc_txt_wrap\" href=\"http://www.newspim.com/news/view/20220705000657\" onclick=\"return goOtherCR(this, 'a=nws*b.body&amp;r=11&amp;i=88000394_000000000000000002125837&amp;g=5002.0002125837&amp;u='+urlencode(this.href));\" target=\"_blank\"><mark>BNK</mark>경남은행은 신한플레이앱에서 제공 중인 대출비교 서비스에 <mark>BNK</mark>모바일신용대출 2종을 판매한다고 5일 밝혔다. <mark>BNK</mark>모바일신용대출 2종 판매에 따라 신한플레이앱 이용 고객들은 별도 서류 제출없이 소득정보...</a> </div></div></div><a class=\"dsc_thumb\" href=\"http://www.newspim.com/news/view/20220705000657\" onclick=\"return goOtherCR(this, 'a=nws*b.img&amp;r=11&amp;i=88000394_000000000000000002125837&amp;g=5002.0002125837&amp;u='+urlencode(this.href));\" target=\"_blank\"><img alt=\"경남은행, BNK모바일신\" class=\"thumb api_get\" height=\"90\" onerror=\"this.parentNode.style.display='none';\" src=\"https://search.pstatic.net/common/?src=https%3A%2F%2Fimgnews.pstatic.net%2Fimage%2Forigin%2F5002%2F2022%2F07%2F05%2F2125837.jpg&amp;type=ff264_180&amp;expire=2&amp;refresh=true\" width=\"132\"/></a> </div><div class=\"news_cluster\"> <ul class=\"list_cluster\"> <li class=\"sub_bx\"> <span class=\"sub_wrap\"> <span class=\"sub_area\"> <cite class=\"sub_txt press\" title=\"중소기업신문\">중소기업신문</cite><span class=\"sub_txt\">1시간 전</span> </span><a class=\"elss sub_tit\" href=\"http://www.smedaily.co.kr/news/articleView.html?idxno=234210\" onclick=\"return goOtherCR(this, 'a=nws*d.tit&amp;r=12&amp;i=8813C2D0_000000000000000000084659&amp;g=5296.0000084659&amp;u='+urlencode(this.href));\" target=\"_blank\" title=\"경남은행, 신한플레이앱서 'BNK모바일신용대출' 2종 판매\">경남은행, 신한플레이앱서 '<mark>BNK</mark>모바일신용대출' 2종 판매</a> </span></li> <li class=\"sub_bx\"> <span class=\"sub_wrap\"> <span class=\"sub_area\"> <cite class=\"sub_txt press\" title=\"대한금융신문\">대한금융신문</cite><span class=\"sub_txt\">4시간 전</span> </span><a class=\"elss sub_tit\" href=\"http://www.kbanker.co.kr/news/articleView.html?idxno=205378\" onclick=\"return goOtherCR(this, 'a=nws*d.tit&amp;r=13&amp;i=8817c9f9_000000000000000000056033&amp;g=5282.0000056033&amp;u='+urlencode(this.href));\" target=\"_blank\" title=\"BNK경남은행, 신한플레이앱 「대출비교 서비스」에 'BNK모바일신용대출 2종' 판매\"><mark>BNK</mark>경남은행, 신한플레이앱 「대출비교 서비스」에 '<mark>BNK</mark>모바일신용대출 2종' ...</a> </span></li> <li class=\"sub_bx\"> <span class=\"sub_wrap\"> <span class=\"sub_area\"> <cite class=\"sub_txt press\" title=\"천지일보\">천지일보</cite><span class=\"sub_txt\">2시간 전</span> </span><a class=\"elss sub_tit\" href=\"http://www.newscj.com/article/20220705580475\" onclick=\"return goOtherCR(this, 'a=nws*d.tit&amp;r=14&amp;i=88000404_000000000000000000786574&amp;g=5041.0000786574&amp;u='+urlencode(this.href));\" target=\"_blank\" title=\"경남은행 ‘BNK모바일신용대출 2종’ 판매\">경남은행 ‘<mark>BNK</mark>모바일신용대출 2종’ 판매</a> </span></li> </ul></div></li> <li class=\"bx\" id=\"sp_nws15\"> <div class=\"news_wrap api_ani_send\"> <div class=\"news_area\"> <div class=\"news_info\"> <div class=\"api_save_group _keep_wrap\"> <a aria-pressed=\"false\" class=\"btn_save _keep_trigger\" data-url=\"https://www.sedaily.com/NewsView/268E42DY0J\" href=\"#\" onclick=\"tCR('a=nws*a.kep&amp;r=15&amp;i=88000108_000000000000000004072340&amp;u=javascript'); return false;\" role=\"button\"><i class=\"spnew ico_save\">문서 저장하기</i></a> <div class=\"api_ly_save _keep_save_layer\"> <a class=\"spnew_af item item_save _keep_save\" data-cr-off=\"a=nws*a.kepoff&amp;r=15&amp;i=88000108_000000000000000004072340&amp;u=javascript\" data-cr-on=\"a=nws*a.kepon&amp;r=15&amp;i=88000108_000000000000000004072340&amp;u=javascript\" href=\"#\" role=\"button\">Keep에 저장</a> <a class=\"spnew_af item item_quick\" href=\"https://keep.naver.com/\" onclick=\"return goOtherCR(this,'a=nws*a.kephome&amp;r=15&amp;i=88000108_000000000000000004072340&amp;u='+urlencode(this.href));\" target=\"_blank\">Keep 바로가기</a> </div></div><div class=\"info_group\"> <a class=\"info press\" href=\"http://www.sedaily.com\" onclick=\"return goOtherCR(this, 'a=nws*a.prof&amp;r=15&amp;i=88000108_000000000000000004072340&amp;g=011.0004072340&amp;u='+urlencode(this.href));\" target=\"_blank\"><span class=\"thumb_box\"><img alt=\"\" class=\"thumb\" height=\"20\" onerror=\"this.src='data:image/gif;base64,R0lGODlhAQABAIAAAAAAAP///yH5BAEAAAAALAAAAAABAAEAAAIBRAA7';this.className='thumb bg_default_press'\" src=\"https://search.pstatic.net/common/?src=https%3A%2F%2Fmimgnews.pstatic.net%2Fimage%2Fupload%2Foffice_logo%2F011%2F2022%2F02%2F22%2Flogo_011_18_20220222161213.png&amp;type=f54_54&amp;expire=24&amp;refresh=true\" width=\"20\"/></span>서울경제</a><span class=\"info\">1일 전</span><a class=\"info\" href=\"https://n.news.naver.com/mnews/article/011/0004072340?sid=102\" onclick=\"return goOtherCR(this, 'a=nws*a.nav&amp;r=15&amp;i=88000108_000000000000000004072340&amp;u='+urlencode(this.href));\" target=\"_blank\">네이버뉴스</a> </div></div><a class=\"news_tit\" href=\"https://www.sedaily.com/NewsView/268E42DY0J\" onclick=\"return goOtherCR(this, 'a=nws*a.tit&amp;r=15&amp;i=88000108_000000000000000004072340&amp;g=011.0004072340&amp;u='+urlencode(this.href));\" target=\"_blank\" title=\"BNK경남은행, 모바일뱅킹 ‘레스토랑 예약 서비스’ 시행\"><mark>BNK</mark>경남은행, 모바일뱅킹 ‘레스토랑 예약 서비스’ 시행</a> <div class=\"news_dsc\"> <div class=\"dsc_wrap\"> <a class=\"api_txt_lines dsc_txt_wrap\" href=\"https://www.sedaily.com/NewsView/268E42DY0J\" onclick=\"return goOtherCR(this, 'a=nws*a.body&amp;r=15&amp;i=88000108_000000000000000004072340&amp;g=011.0004072340&amp;u='+urlencode(this.href));\" target=\"_blank\"><mark>BNK</mark>경남은행은 와드와 제휴해 ‘레스토랑 예약 서비스’를 시행 중이라고 4일 밝혔다. <mark>BNK</mark>경남은행 모바일뱅킹 앱에 탑재된 ‘캐치테이블’은 실시간 레스토랑 예약 플랫폼으로 고객이 날짜, 시간, 인원만 입력하면 쉽게...</a> </div></div></div><a class=\"dsc_thumb\" href=\"https://www.sedaily.com/NewsView/268E42DY0J\" onclick=\"return goOtherCR(this, 'a=nws*a.img&amp;r=15&amp;i=88000108_000000000000000004072340&amp;g=011.0004072340&amp;u='+urlencode(this.href));\" target=\"_blank\"><img alt=\"BNK경남은행, 모바일뱅\" class=\"thumb api_get\" height=\"90\" onerror=\"this.parentNode.style.display='none';\" src=\"https://search.pstatic.net/common/?src=https%3A%2F%2Fimgnews.pstatic.net%2Fimage%2Forigin%2F011%2F2022%2F07%2F04%2F4072340.jpg&amp;type=ff264_180&amp;expire=2&amp;refresh=true\" width=\"132\"/></a> </div><div class=\"news_cluster\"> <ul class=\"list_cluster\"> <li class=\"sub_bx\"> <span class=\"sub_wrap\"> <span class=\"sub_area\"> <cite class=\"sub_txt press\" title=\"쿠키뉴스\">쿠키뉴스</cite><span class=\"sub_txt\">1일 전</span> </span><a class=\"elss sub_tit\" href=\"http://www.kukinews.com/newsView/kuk202207040153\" onclick=\"return goOtherCR(this, 'a=nws*d.tit&amp;r=16&amp;i=88155e54_000000000000000000714936&amp;g=5380.0000714936&amp;u='+urlencode(this.href));\" target=\"_blank\" title=\"BNK경남은행, 모바일뱅킹 ‘레스토랑 예약 서비스’ 시행\"><mark>BNK</mark>경남은행, 모바일뱅킹 ‘레스토랑 예약 서비스’ 시행</a> </span></li> <li class=\"sub_bx\"> <span class=\"sub_wrap\"> <span class=\"sub_area\"> <cite class=\"sub_txt press\" title=\"아시아투데이\">아시아투데이</cite><span class=\"sub_txt\">22시간 전</span> </span><a class=\"elss sub_tit\" href=\"https://www.asiatoday.co.kr/view.php?key=20220704010001859\" onclick=\"return goOtherCR(this, 'a=nws*d.tit&amp;r=17&amp;i=8813C2E8_000000000000000001664488&amp;g=5268.0001664488&amp;u='+urlencode(this.href));\" target=\"_blank\" title=\"BNK경남은행, 모바일뱅킹 '레스토랑 예약 서비스' 시행\"><mark>BNK</mark>경남은행, 모바일뱅킹 '레스토랑 예약 서비스' 시행</a> </span></li> <li class=\"sub_bx\"> <span class=\"sub_wrap\"> <span class=\"sub_area\"> <cite class=\"sub_txt press\" title=\"뉴시스\">뉴시스</cite><span class=\"sub_txt\">1일 전</span><a class=\"sub_txt\" href=\"https://n.news.naver.com/mnews/article/003/0011284313?sid=102\" onclick=\"return goOtherCR(this, 'a=nws*c.nav&amp;r=18&amp;i=88000127_000000000000000011284313&amp;u='+urlencode(this.href));\" target=\"_blank\">네이버뉴스</a> </span><a class=\"elss sub_tit\" href=\"http://www.newsis.com/view/?id=NISX20220704_0001930543&amp;cID=10812&amp;pID=10800\" onclick=\"return goOtherCR(this, 'a=nws*c.tit&amp;r=18&amp;i=88000127_000000000000000011284313&amp;g=003.0011284313&amp;u='+urlencode(this.href));\" target=\"_blank\" title=\"BNK경남은행, 모바일뱅킹 '레스토랑 예약 서비스'\"><mark>BNK</mark>경남은행, 모바일뱅킹 '레스토랑 예약 서비스'</a> </span></li> <li class=\"sub_bx\"> <span class=\"sub_wrap\"> <span class=\"sub_area\"> <cite class=\"sub_txt press\" title=\"국제뉴스\">국제뉴스</cite><span class=\"sub_txt\">23시간 전</span> </span><a class=\"elss sub_tit\" href=\"https://www.gukjenews.com/news/articleView.html?idxno=2501279\" onclick=\"return goOtherCR(this, 'a=nws*d.tit&amp;r=19&amp;i=8813C2D5_000000000000000001588627&amp;g=5291.0001588627&amp;u='+urlencode(this.href));\" target=\"_blank\" title=\"BNK경남은행, 모바일뱅킹 '레스토랑 예약 서비스' 시행\"><mark>BNK</mark>경남은행, 모바일뱅킹 '레스토랑 예약 서비스' 시행</a> </span></li> </ul></div><a class=\"news_more\" href=\"?where=news&amp;sm=tab_tnw&amp;query=bnk&amp;sort=0&amp;photo=0&amp;field=0&amp;pd=0&amp;ds=&amp;de=&amp;mynews=0&amp;office_type=0&amp;office_section_code=0&amp;news_office_checked=&amp;related=1&amp;docid=0110004072340&amp;nso=so:r,p:all,a:all\" onclick=\"return goOtherCR(this, 'a=nws*r.more&amp;u='+urlencode(urlexpand(this.href)));\">관련뉴스 15건 전체보기<i class=\"spnew ico_arrow\"></i></a> </li> <li class=\"bx\" id=\"sp_nws20\"> <div class=\"news_wrap api_ani_send\"> <div class=\"news_area\"> <div class=\"news_info\"> <div class=\"api_save_group _keep_wrap\"> <a aria-pressed=\"false\" class=\"btn_save _keep_trigger\" data-url=\"http://news.mt.co.kr/mtview.php?no=2022070510223045995\" href=\"#\" onclick=\"tCR('a=nws*a.kep&amp;r=20&amp;i=880000C2_000000000000000004766887&amp;u=javascript'); return false;\" role=\"button\"><i class=\"spnew ico_save\">문서 저장하기</i></a> <div class=\"api_ly_save _keep_save_layer\"> <a class=\"spnew_af item item_save _keep_save\" data-cr-off=\"a=nws*a.kepoff&amp;r=20&amp;i=880000C2_000000000000000004766887&amp;u=javascript\" data-cr-on=\"a=nws*a.kepon&amp;r=20&amp;i=880000C2_000000000000000004766887&amp;u=javascript\" href=\"#\" role=\"button\">Keep에 저장</a> <a class=\"spnew_af item item_quick\" href=\"https://keep.naver.com/\" onclick=\"return goOtherCR(this,'a=nws*a.kephome&amp;r=20&amp;i=880000C2_000000000000000004766887&amp;u='+urlencode(this.href));\" target=\"_blank\">Keep 바로가기</a> </div></div><div class=\"info_group\"> <a class=\"info press\" href=\"http://www.mt.co.kr/\" onclick=\"return goOtherCR(this, 'a=nws*a.prof&amp;r=20&amp;i=880000C2_000000000000000004766887&amp;g=008.0004766887&amp;u='+urlencode(this.href));\" target=\"_blank\"><span class=\"thumb_box\"><img alt=\"\" class=\"thumb\" height=\"20\" onerror=\"this.src='data:image/gif;base64,R0lGODlhAQABAIAAAAAAAP///yH5BAEAAAAALAAAAAABAAEAAAIBRAA7';this.className='thumb bg_default_press'\" src=\"https://search.pstatic.net/common/?src=https%3A%2F%2Fmimgnews.pstatic.net%2Fimage%2Fupload%2Foffice_logo%2F008%2F2018%2F09%2F13%2Flogo_008_18_20180913140113.png&amp;type=f54_54&amp;expire=24&amp;refresh=true\" width=\"20\"/></span>머니투데이</a><span class=\"info\">5시간 전</span><a class=\"info\" href=\"https://n.news.naver.com/mnews/article/008/0004766887?sid=101\" onclick=\"return goOtherCR(this, 'a=nws*a.nav&amp;r=20&amp;i=880000C2_000000000000000004766887&amp;u='+urlencode(this.href));\" target=\"_blank\">네이버뉴스</a> </div></div><a class=\"news_tit\" href=\"http://news.mt.co.kr/mtview.php?no=2022070510223045995\" onclick=\"return goOtherCR(this, 'a=nws*a.tit&amp;r=20&amp;i=880000C2_000000000000000004766887&amp;g=008.0004766887&amp;u='+urlencode(this.href));\" target=\"_blank\" title=\"바이셀스탠다드, BNK투자증권·스탤리온파트너스 30억원 투자 유치\">바이셀스탠다드, <mark>BNK</mark>투자증권·스탤리온파트너스 30억원 투자 유치</a> <div class=\"news_dsc\"> <div class=\"dsc_wrap\"> <a class=\"api_txt_lines dsc_txt_wrap\" href=\"http://news.mt.co.kr/mtview.php?no=2022070510223045995\" onclick=\"return goOtherCR(this, 'a=nws*a.body&amp;r=20&amp;i=880000C2_000000000000000004766887&amp;g=008.0004766887&amp;u='+urlencode(this.href));\" target=\"_blank\">현물 조각투자 플랫폼 '피스(PIECE)' 운영사인 바이셀스탠다드는 최근 <mark>BNK</mark>투자증권, 스탤리온파트너스로부터 30억 원의 브릿지 라운드 투자금을 추가 유치하며 누적 투자금 82억 원을 달성했다고 5일 밝혔다. 신범준...</a> </div></div></div><a class=\"dsc_thumb\" href=\"http://news.mt.co.kr/mtview.php?no=2022070510223045995\" onclick=\"return goOtherCR(this, 'a=nws*a.img&amp;r=20&amp;i=880000C2_000000000000000004766887&amp;g=008.0004766887&amp;u='+urlencode(this.href));\" target=\"_blank\"><img alt=\"바이셀스탠다드, BNK투\" class=\"thumb api_get\" height=\"90\" onerror=\"this.parentNode.style.display='none';\" src=\"https://search.pstatic.net/common/?src=https%3A%2F%2Fimgnews.pstatic.net%2Fimage%2Forigin%2F008%2F2022%2F07%2F05%2F4766887.jpg&amp;type=ff264_180&amp;expire=2&amp;refresh=true\" width=\"132\"/></a> </div><div class=\"news_cluster\"> <ul class=\"list_cluster\"> <li class=\"sub_bx\"> <span class=\"sub_wrap\"> <span class=\"sub_area\"> <cite class=\"sub_txt press\" title=\"Korea IT Times\">Korea IT Times</cite><span class=\"sub_txt\">5시간 전</span> </span><a class=\"elss sub_tit\" href=\"http://www.koreaittimes.com/news/articleView.html?idxno=114011\" onclick=\"return goOtherCR(this, 'a=nws*d.tit&amp;r=21&amp;i=88123FC3_000000000000000000045469&amp;g=5187.0000045469&amp;u='+urlencode(this.href));\" target=\"_blank\" title=\"바이셀스탠다드, BNK투자증권, 스탤리온파트너스로부터 30억원 투자유치\">바이셀스탠다드, <mark>BNK</mark>투자증권, 스탤리온파트너스로부터 30억원 투자유치</a> </span></li> <li class=\"sub_bx\"> <span class=\"sub_wrap\"> <span class=\"sub_area\"> <cite class=\"sub_txt press\" title=\"매일경제\">매일경제</cite><span class=\"sub_txt\">6시간 전</span><a class=\"sub_txt\" href=\"https://n.news.naver.com/mnews/article/009/0004986854?sid=105\" onclick=\"return goOtherCR(this, 'a=nws*c.nav&amp;r=22&amp;i=880000BC_000000000000000004986854&amp;u='+urlencode(this.href));\" target=\"_blank\">네이버뉴스</a> </span><a class=\"elss sub_tit\" href=\"http://mirakle.mk.co.kr/view.php?year=2022&amp;no=586924\" onclick=\"return goOtherCR(this, 'a=nws*c.tit&amp;r=22&amp;i=880000BC_000000000000000004986854&amp;g=009.0004986854&amp;u='+urlencode(this.href));\" target=\"_blank\" title=\"바이셀스탠다드 BNK투자증권, 스탤리온파트너스로부터 30억 원 브릿지 라운드 투자유치\">바이셀스탠다드 <mark>BNK</mark>투자증권, 스탤리온파트너스로부터 30억 원 브릿지 라운드...</a> </span></li> <li class=\"sub_bx\"> <span class=\"sub_wrap\"> <span class=\"sub_area\"> <cite class=\"sub_txt press\" title=\"파이낸셜뉴스\">파이낸셜뉴스</cite><span class=\"sub_txt\">6시간 전</span><a class=\"sub_txt\" href=\"https://n.news.naver.com/mnews/article/014/0004862204?sid=101\" onclick=\"return goOtherCR(this, 'a=nws*c.nav&amp;r=23&amp;i=880000FF_000000000000000004862204&amp;u='+urlencode(this.href));\" target=\"_blank\">네이버뉴스</a> </span><a class=\"elss sub_tit\" href=\"http://www.fnnews.com/news/202207050850536934\" onclick=\"return goOtherCR(this, 'a=nws*c.tit&amp;r=23&amp;i=880000FF_000000000000000004862204&amp;g=014.0004862204&amp;u='+urlencode(this.href));\" target=\"_blank\" title=\"[fn마켓워치]BNK證·스탤리온, 현물 조각투자 플랫폼 '피스'에 투자\">[fn마켓워치]<mark>BNK</mark>證·스탤리온, 현물 조각투자 플랫폼 '피스'에 투자</a> </span></li> <li class=\"sub_bx\"> <span class=\"sub_wrap\"> <span class=\"sub_area\"> <cite class=\"sub_txt press\" title=\"플래텀\">플래텀</cite><span class=\"sub_txt\">6시간 전</span> </span><a class=\"elss sub_tit\" href=\"https://platum.kr/archives/188758\" onclick=\"return goOtherCR(this, 'a=nws*d.tit&amp;r=24&amp;i=88155e5b_000000000000000000022408&amp;g=5373.0000022408&amp;u='+urlencode(this.href));\" target=\"_blank\" title=\"바이셀스탠다드, BNK투자증권, 스탤리온파트너스로부터 30억 원 브릿지 투자유치\">바이셀스탠다드, <mark>BNK</mark>투자증권, 스탤리온파트너스로부터 30억 원 브릿지 투자유...</a> </span></li> </ul></div><a class=\"news_more\" href=\"?where=news&amp;sm=tab_tnw&amp;query=bnk&amp;sort=0&amp;photo=0&amp;field=0&amp;pd=0&amp;ds=&amp;de=&amp;mynews=0&amp;office_type=0&amp;office_section_code=0&amp;news_office_checked=&amp;related=1&amp;docid=0080004766887&amp;nso=so:r,p:all,a:all\" onclick=\"return goOtherCR(this, 'a=nws*r.more&amp;u='+urlencode(urlexpand(this.href)));\">관련뉴스 6건 전체보기<i class=\"spnew ico_arrow\"></i></a> </li> <li class=\"bx\" id=\"sp_nws25\"> <div class=\"news_wrap api_ani_send\"> <div class=\"news_area\"> <div class=\"news_info\"> <div class=\"api_save_group _keep_wrap\"> <a aria-pressed=\"false\" class=\"btn_save _keep_trigger\" data-url=\"http://daily.hankooki.com/news/articleView.html?idxno=843518\" href=\"#\" onclick=\"tCR('a=nws*b.kep&amp;r=25&amp;i=88155e6a_000000000000000000424311&amp;u=javascript'); return false;\" role=\"button\"><i class=\"spnew ico_save\">문서 저장하기</i></a> <div class=\"api_ly_save _keep_save_layer\"> <a class=\"spnew_af item item_save _keep_save\" data-cr-off=\"a=nws*b.kepoff&amp;r=25&amp;i=88155e6a_000000000000000000424311&amp;u=javascript\" data-cr-on=\"a=nws*b.kepon&amp;r=25&amp;i=88155e6a_000000000000000000424311&amp;u=javascript\" href=\"#\" role=\"button\">Keep에 저장</a> <a class=\"spnew_af item item_quick\" href=\"https://keep.naver.com/\" onclick=\"return goOtherCR(this,'a=nws*b.kephome&amp;r=25&amp;i=88155e6a_000000000000000000424311&amp;u='+urlencode(this.href));\" target=\"_blank\">Keep 바로가기</a> </div></div><div class=\"info_group\"> <a class=\"info press\" href=\"http://daily.hankooki.com\" onclick=\"return goOtherCR(this, 'a=nws*b.prof&amp;r=25&amp;i=88155e6a_000000000000000000424311&amp;g=5358.0000424311&amp;u='+urlencode(this.href));\" target=\"_blank\"><span class=\"thumb_box\"><img alt=\"\" class=\"thumb\" height=\"20\" onerror=\"this.src='data:image/gif;base64,R0lGODlhAQABAIAAAAAAAP///yH5BAEAAAAALAAAAAABAAEAAAIBRAA7';this.className='thumb bg_default_press'\" src=\"https://search.pstatic.net/common/?src=http%3A%2F%2Fimg.hankooki.com%2Ficon%2Fdaily%2Ffavicon.ico&amp;type=f54_54&amp;expire=24&amp;refresh=true\" width=\"20\"/></span>데일리한국</a><span class=\"info\">6시간 전</span> </div></div><a class=\"news_tit\" href=\"http://daily.hankooki.com/news/articleView.html?idxno=843518\" onclick=\"return goOtherCR(this, 'a=nws*b.tit&amp;r=25&amp;i=88155e6a_000000000000000000424311&amp;g=5358.0000424311&amp;u='+urlencode(this.href));\" target=\"_blank\" title=\"BNK부산은행, 주택사업자에 2년간 PF 대출로 안정적 자금 지원\"><mark>BNK</mark>부산은행, 주택사업자에 2년간 PF 대출로 안정적 자금 지원</a> <div class=\"news_dsc\"> <div class=\"dsc_wrap\"> <a class=\"api_txt_lines dsc_txt_wrap\" href=\"http://daily.hankooki.com/news/articleView.html?idxno=843518\" onclick=\"return goOtherCR(this, 'a=nws*b.body&amp;r=25&amp;i=88155e6a_000000000000000000424311&amp;g=5358.0000424311&amp;u='+urlencode(this.href));\" target=\"_blank\">부산은행 본점 <mark>BNK</mark>부산은행이 4일 지방은행 최초로 주택도시보증공사 '표준PF(프로젝트 파이낸싱) 및 후분양 표준PF'(PF) 대출의 주관 금융기관으로 선정됐다고 밝혔다. 부산은행은 오는 6일부터 2년간 분양보증(후분양...</a> </div></div></div><a class=\"dsc_thumb\" href=\"http://daily.hankooki.com/news/articleView.html?idxno=843518\" onclick=\"return goOtherCR(this, 'a=nws*b.img&amp;r=25&amp;i=88155e6a_000000000000000000424311&amp;g=5358.0000424311&amp;u='+urlencode(this.href));\" target=\"_blank\"><img alt=\"BNK부산은행, 주택사업\" class=\"thumb api_get\" height=\"90\" onerror=\"this.parentNode.style.display='none';\" src=\"https://search.pstatic.net/common/?src=https%3A%2F%2Fimgnews.pstatic.net%2Fimage%2Forigin%2F5358%2F2022%2F07%2F05%2F424311.jpg&amp;type=ofullfill264_180_gray&amp;expire=2&amp;refresh=true\" width=\"132\"/></a> </div><div class=\"news_cluster\"> <ul class=\"list_cluster\"> <li class=\"sub_bx\"> <span class=\"sub_wrap\"> <span class=\"sub_area\"> <cite class=\"sub_txt press\" title=\"아시아경제\">아시아경제</cite><span class=\"sub_txt\">7시간 전</span><a class=\"sub_txt\" href=\"https://n.news.naver.com/mnews/article/277/0005112903?sid=102\" onclick=\"return goOtherCR(this, 'a=nws*c.nav&amp;r=26&amp;i=88000385_000000000000000005112903&amp;u='+urlencode(this.href));\" target=\"_blank\">네이버뉴스</a> </span><a class=\"elss sub_tit\" href=\"https://view.asiae.co.kr/article/2022070507584750736\" onclick=\"return goOtherCR(this, 'a=nws*c.tit&amp;r=26&amp;i=88000385_000000000000000005112903&amp;g=277.0005112903&amp;u='+urlencode(this.href));\" target=\"_blank\" title=\"BNK부산은행, 지방은행 최초 주택도시보증공사 표준PF·후분양 표준PF’ 금융기관 선정\"><mark>BNK</mark>부산은행, 지방은행 최초 주택도시보증공사 표준PF·후분양 표준PF’ 금융...</a> </span></li> <li class=\"sub_bx\"> <span class=\"sub_wrap\"> <span class=\"sub_area\"> <cite class=\"sub_txt press\" title=\"컨슈머타임스\">컨슈머타임스</cite><span class=\"sub_txt\">7시간 전</span> </span><a class=\"elss sub_tit\" href=\"http://www.cstimes.com/news/articleView.html?idxno=504074\" onclick=\"return goOtherCR(this, 'a=nws*d.tit&amp;r=27&amp;i=88122F99_000000000000000000329529&amp;g=5174.0000329529&amp;u='+urlencode(this.href));\" target=\"_blank\" title=\"BNK부산은행, 지방은행 최초 HUG 표준PF 대출주관 기관 선정\"><mark>BNK</mark>부산은행, 지방은행 최초 HUG 표준PF 대출주관 기관 선정</a> </span></li> <li class=\"sub_bx\"> <span class=\"sub_wrap\"> <span class=\"sub_area\"> <cite class=\"sub_txt press\" title=\"경상일보\">경상일보</cite><span class=\"sub_txt\">15시간 전</span> </span><a class=\"elss sub_tit\" href=\"http://www.ksilbo.co.kr/news/articleView.html?idxno=940224\" onclick=\"return goOtherCR(this, 'a=nws*d.tit&amp;r=28&amp;i=8813C2E1_000000000000000000306987&amp;g=5277.0000306987&amp;u='+urlencode(this.href));\" target=\"_blank\" title=\"BNK부산은행, 주택보증공사 표준PF 주관기관에 선정\"><mark>BNK</mark>부산은행, 주택보증공사 표준PF 주관기관에 선정</a> </span></li> </ul></div></li> <li class=\"bx\" id=\"sp_nws29\"> <div class=\"news_wrap api_ani_send\"> <div class=\"news_area\"> <div class=\"news_info\"> <div class=\"api_save_group _keep_wrap\"> <a aria-pressed=\"false\" class=\"btn_save _keep_trigger\" data-url=\"https://www.straightnews.co.kr/news/articleView.html?idxno=213299\" href=\"#\" onclick=\"tCR('a=nws*f.kep&amp;r=29&amp;i=88188597_000000000000000000073410&amp;u=javascript'); return false;\" role=\"button\"><i class=\"spnew ico_save\">문서 저장하기</i></a> <div class=\"api_ly_save _keep_save_layer\"> <a class=\"spnew_af item item_save _keep_save\" data-cr-off=\"a=nws*f.kepoff&amp;r=29&amp;i=88188597_000000000000000000073410&amp;u=javascript\" data-cr-on=\"a=nws*f.kepon&amp;r=29&amp;i=88188597_000000000000000000073410&amp;u=javascript\" href=\"#\" role=\"button\">Keep에 저장</a> <a class=\"spnew_af item item_quick\" href=\"https://keep.naver.com/\" onclick=\"return goOtherCR(this,'a=nws*f.kephome&amp;r=29&amp;i=88188597_000000000000000000073410&amp;u='+urlencode(this.href));\" target=\"_blank\">Keep 바로가기</a> </div></div><div class=\"info_group\"> <a class=\"info press\" href=\"http://www.straightnews.co.kr\" onclick=\"return goOtherCR(this, 'a=nws*f.prof&amp;r=29&amp;i=88188597_000000000000000000073410&amp;g=5677.0000073410&amp;u='+urlencode(this.href));\" target=\"_blank\"><span class=\"thumb_box\"><img alt=\"\" class=\"thumb\" height=\"20\" onerror=\"this.src='data:image/gif;base64,R0lGODlhAQABAIAAAAAAAP///yH5BAEAAAAALAAAAAABAAEAAAIBRAA7';this.className='thumb bg_default_press'\" src=\"https://search.pstatic.net/common/?src=http%3A%2F%2Fwww.straightnews.co.kr%2Fimage%2Flogo%2Ffavicon_20200323032240.ico&amp;type=f54_54&amp;expire=24&amp;refresh=true\" width=\"20\"/></span>스트레이트뉴스</a><span class=\"info\">4시간 전</span> </div></div><a class=\"news_tit\" href=\"https://www.straightnews.co.kr/news/articleView.html?idxno=213299\" onclick=\"return goOtherCR(this, 'a=nws*f.tit&amp;r=29&amp;i=88188597_000000000000000000073410&amp;g=5677.0000073410&amp;u='+urlencode(this.href));\" target=\"_blank\" title=\"JB금융, 내부등급 승인 꼴찌 승선…증권사 인수하나\">JB금융, 내부등급 승인 꼴찌 승선…증권사 인수하나</a> <div class=\"news_dsc\"> <div class=\"dsc_wrap\"> <a class=\"api_txt_lines dsc_txt_wrap\" href=\"https://www.straightnews.co.kr/news/articleView.html?idxno=213299\" onclick=\"return goOtherCR(this, 'a=nws*f.body&amp;r=29&amp;i=88188597_000000000000000000073410&amp;g=5677.0000073410&amp;u='+urlencode(this.href));\" target=\"_blank\">51%)나 <mark>BNK</mark>금융(11.18%)에 열위를 보여왔다. DGB와 <mark>BNK</mark>는 각각 작년 4월과 7월에 내부등급법 승인을 완료한 바 있다. 수익성은 좋지만 자본적정성이 약하다는 지적은 증권사 인수를 통해 이른바 인오거닉 성장을 꿈꿔온...</a> </div></div></div><a class=\"dsc_thumb\" href=\"https://www.straightnews.co.kr/news/articleView.html?idxno=213299\" onclick=\"return goOtherCR(this, 'a=nws*f.img&amp;r=29&amp;i=88188597_000000000000000000073410&amp;g=5677.0000073410&amp;u='+urlencode(this.href));\" target=\"_blank\"><img alt=\"JB금융, 내부등급 승인\" class=\"thumb api_get\" height=\"90\" onerror=\"this.parentNode.style.display='none';\" src=\"https://search.pstatic.net/common/?src=https%3A%2F%2Fimgnews.pstatic.net%2Fimage%2Forigin%2F5677%2F2022%2F07%2F05%2F73410.jpg&amp;type=ofullfill264_180_gray&amp;expire=2&amp;refresh=true\" width=\"132\"/></a> </div></li> <li class=\"bx\" id=\"sp_nws30\"> <div class=\"news_wrap api_ani_send\"> <div class=\"news_area\"> <div class=\"news_info\"> <div class=\"api_save_group _keep_wrap\"> <a aria-pressed=\"false\" class=\"btn_save _keep_trigger\" data-url=\"https://www.nocutnews.co.kr/news/5781023\" href=\"#\" onclick=\"tCR('a=nws*e.kep&amp;r=30&amp;i=88000112_000000000000000003660214&amp;u=javascript'); return false;\" role=\"button\"><i class=\"spnew ico_save\">문서 저장하기</i></a> <div class=\"api_ly_save _keep_save_layer\"> <a class=\"spnew_af item item_save _keep_save\" data-cr-off=\"a=nws*e.kepoff&amp;r=30&amp;i=88000112_000000000000000003660214&amp;u=javascript\" data-cr-on=\"a=nws*e.kepon&amp;r=30&amp;i=88000112_000000000000000003660214&amp;u=javascript\" href=\"#\" role=\"button\">Keep에 저장</a> <a class=\"spnew_af item item_quick\" href=\"https://keep.naver.com/\" onclick=\"return goOtherCR(this,'a=nws*e.kephome&amp;r=30&amp;i=88000112_000000000000000003660214&amp;u='+urlencode(this.href));\" target=\"_blank\">Keep 바로가기</a> </div></div><div class=\"info_group\"> <a class=\"info press\" href=\"http://www.nocutnews.co.kr\" onclick=\"return goOtherCR(this, 'a=nws*e.prof&amp;r=30&amp;i=88000112_000000000000000003660214&amp;g=079.0003660214&amp;u='+urlencode(this.href));\" target=\"_blank\"><span class=\"thumb_box\"><img alt=\"\" class=\"thumb\" height=\"20\" onerror=\"this.src='data:image/gif;base64,R0lGODlhAQABAIAAAAAAAP///yH5BAEAAAAALAAAAAABAAEAAAIBRAA7';this.className='thumb bg_default_press'\" src=\"https://search.pstatic.net/common/?src=https%3A%2F%2Fmimgnews.pstatic.net%2Fimage%2Fupload%2Foffice_logo%2F079%2F2017%2F01%2F05%2Flogo_079_18_20170105111205.png&amp;type=f54_54&amp;expire=24&amp;refresh=true\" width=\"20\"/></span>노컷뉴스</a><span class=\"info\">1일 전</span><a class=\"info\" href=\"https://n.news.naver.com/mnews/article/079/0003660214?sid=102\" onclick=\"return goOtherCR(this, 'a=nws*e.nav&amp;r=30&amp;i=88000112_000000000000000003660214&amp;u='+urlencode(this.href));\" target=\"_blank\">네이버뉴스</a> </div></div><a class=\"news_tit\" href=\"https://www.nocutnews.co.kr/news/5781023\" onclick=\"return goOtherCR(this, 'a=nws*e.tit&amp;r=30&amp;i=88000112_000000000000000003660214&amp;g=079.0003660214&amp;u='+urlencode(this.href));\" target=\"_blank\" title=\"[인사]BNK금융그룹\">[인사]<mark>BNK</mark>금융그룹</a> <div class=\"news_dsc\"> <div class=\"dsc_wrap\"> <a class=\"api_txt_lines dsc_txt_wrap\" href=\"https://www.nocutnews.co.kr/news/5781023\" onclick=\"return goOtherCR(this, 'a=nws*e.body&amp;r=30&amp;i=88000112_000000000000000003660214&amp;g=079.0003660214&amp;u='+urlencode(this.href));\" target=\"_blank\">◇부장대우 승진 △검사부 윤혁 ◇3급 승진 △경영지원부 박상은 △글로벌기획부 안지현 ◇4급 승진 △준법감시부 이지은 [부산은행] ◇부실점장 승진 △IT기획부 부장대우 양민훈 △검사부 부장대우 이주경...</a> </div></div></div><a class=\"dsc_thumb\" href=\"https://www.nocutnews.co.kr/news/5781023\" onclick=\"return goOtherCR(this, 'a=nws*e.img&amp;r=30&amp;i=88000112_000000000000000003660214&amp;g=079.0003660214&amp;u='+urlencode(this.href));\" target=\"_blank\"><img alt=\"[인사]BNK금융그룹\" class=\"thumb api_get\" height=\"90\" onerror=\"this.parentNode.style.display='none';\" src=\"https://search.pstatic.net/common/?src=https%3A%2F%2Fimgnews.pstatic.net%2Fimage%2Forigin%2F079%2F2022%2F07%2F03%2F3660214.jpg&amp;type=ff264_180&amp;expire=2&amp;refresh=true\" width=\"132\"/></a> </div></li> <li class=\"bx\" id=\"sp_nws31\"> <div class=\"news_wrap api_ani_send\"> <div class=\"news_area\"> <div class=\"news_info\"> <div class=\"api_save_group _keep_wrap\"> <a aria-pressed=\"false\" class=\"btn_save _keep_trigger\" data-url=\"https://www.hankyung.com/finance/article/2022070562481\" href=\"#\" onclick=\"tCR('a=nws*e.kep&amp;r=31&amp;i=88000107_000000000000000004720454&amp;u=javascript'); return false;\" role=\"button\"><i class=\"spnew ico_save\">문서 저장하기</i></a> <div class=\"api_ly_save _keep_save_layer\"> <a class=\"spnew_af item item_save _keep_save\" data-cr-off=\"a=nws*e.kepoff&amp;r=31&amp;i=88000107_000000000000000004720454&amp;u=javascript\" data-cr-on=\"a=nws*e.kepon&amp;r=31&amp;i=88000107_000000000000000004720454&amp;u=javascript\" href=\"#\" role=\"button\">Keep에 저장</a> <a class=\"spnew_af item item_quick\" href=\"https://keep.naver.com/\" onclick=\"return goOtherCR(this,'a=nws*e.kephome&amp;r=31&amp;i=88000107_000000000000000004720454&amp;u='+urlencode(this.href));\" target=\"_blank\">Keep 바로가기</a> </div></div><div class=\"info_group\"> <a class=\"info press\" href=\"http://www.hankyung.com/\" onclick=\"return goOtherCR(this, 'a=nws*e.prof&amp;r=31&amp;i=88000107_000000000000000004720454&amp;g=015.0004720454&amp;u='+urlencode(this.href));\" target=\"_blank\"><span class=\"thumb_box\"><img alt=\"\" class=\"thumb\" height=\"20\" onerror=\"this.src='data:image/gif;base64,R0lGODlhAQABAIAAAAAAAP///yH5BAEAAAAALAAAAAABAAEAAAIBRAA7';this.className='thumb bg_default_press'\" src=\"https://search.pstatic.net/common/?src=https%3A%2F%2Fmimgnews.pstatic.net%2Fimage%2Fupload%2Foffice_logo%2F015%2F2018%2F08%2F01%2Flogo_015_18_20180801163901.png&amp;type=f54_54&amp;expire=24&amp;refresh=true\" width=\"20\"/></span>한국경제</a><span class=\"info\"><i class=\"spnew ico_paper\"></i>B5면 1단</span><span class=\"info\">42분 전</span><a class=\"info\" href=\"https://n.news.naver.com/mnews/article/015/0004720454?sid=101\" onclick=\"return goOtherCR(this, 'a=nws*e.nav&amp;r=31&amp;i=88000107_000000000000000004720454&amp;u='+urlencode(this.href));\" target=\"_blank\">네이버뉴스</a> </div></div><a class=\"news_tit\" href=\"https://www.hankyung.com/finance/article/2022070562481\" onclick=\"return goOtherCR(this, 'a=nws*e.tit&amp;r=31&amp;i=88000107_000000000000000004720454&amp;g=015.0004720454&amp;u='+urlencode(this.href));\" target=\"_blank\" title='\"주가 급락기 배당주를 노려라\"…수익률 9% 종목 나올 듯'>\"주가 급락기 배당주를 노려라\"…수익률 9% 종목 나올 듯</a> <div class=\"news_dsc\"> <div class=\"dsc_wrap\"> <a class=\"api_txt_lines dsc_txt_wrap\" href=\"https://www.hankyung.com/finance/article/2022070562481\" onclick=\"return goOtherCR(this, 'a=nws*e.body&amp;r=31&amp;i=88000107_000000000000000004720454&amp;g=015.0004720454&amp;u='+urlencode(this.href));\" target=\"_blank\">최근 국내 증시 급락으로 <mark>BNK</mark>금융지주, JB금융지주 등 올해 배당수익률이 9%를 넘는 종목도 나올 것으로... 종목은 <mark>BNK</mark>금융지주다. 주당 약 633원의 배당금을 지급해 배당수익률이 9.3%(지난 1일 종가 기준)에 달할...</a> </div></div></div><a class=\"dsc_thumb\" href=\"https://www.hankyung.com/finance/article/2022070562481\" onclick=\"return goOtherCR(this, 'a=nws*e.img&amp;r=31&amp;i=88000107_000000000000000004720454&amp;g=015.0004720454&amp;u='+urlencode(this.href));\" target=\"_blank\"><img alt='\"주가 급락기 배당주를' class=\"thumb api_get\" height=\"90\" onerror=\"this.parentNode.style.display='none';\" src=\"https://search.pstatic.net/common/?src=https%3A%2F%2Fimgnews.pstatic.net%2Fimage%2Forigin%2F015%2F2022%2F07%2F05%2F4720454.jpg&amp;type=ff264_180&amp;expire=2&amp;refresh=true\" width=\"132\"/></a> </div></li> <li class=\"bx\" id=\"sp_nws32\"> <div class=\"news_wrap api_ani_send\"> <div class=\"news_area\"> <div class=\"news_info\"> <div class=\"api_save_group _keep_wrap\"> <a aria-pressed=\"false\" class=\"btn_save _keep_trigger\" data-url=\"http://www.knnews.co.kr/news/articleView.php?idxno=1380341\" href=\"#\" onclick=\"tCR('a=nws*f.kep&amp;r=32&amp;i=88126036_000000000000000000247791&amp;u=javascript'); return false;\" role=\"button\"><i class=\"spnew ico_save\">문서 저장하기</i></a> <div class=\"api_ly_save _keep_save_layer\"> <a class=\"spnew_af item item_save _keep_save\" data-cr-off=\"a=nws*f.kepoff&amp;r=32&amp;i=88126036_000000000000000000247791&amp;u=javascript\" data-cr-on=\"a=nws*f.kepon&amp;r=32&amp;i=88126036_000000000000000000247791&amp;u=javascript\" href=\"#\" role=\"button\">Keep에 저장</a> <a class=\"spnew_af item item_quick\" href=\"https://keep.naver.com/\" onclick=\"return goOtherCR(this,'a=nws*f.kephome&amp;r=32&amp;i=88126036_000000000000000000247791&amp;u='+urlencode(this.href));\" target=\"_blank\">Keep 바로가기</a> </div></div><div class=\"info_group\"> <a class=\"info press\" href=\"http://www.knnews.co.kr\" onclick=\"return goOtherCR(this, 'a=nws*f.prof&amp;r=32&amp;i=88126036_000000000000000000247791&amp;g=5202.0000247791&amp;u='+urlencode(this.href));\" target=\"_blank\"><span class=\"thumb_box\"><img alt=\"\" class=\"thumb\" height=\"20\" onerror=\"this.src='data:image/gif;base64,R0lGODlhAQABAIAAAAAAAP///yH5BAEAAAAALAAAAAABAAEAAAIBRAA7';this.className='thumb bg_default_press'\" src=\"https://search.pstatic.net/common/?src=http%3A%2F%2Fwww.knnews.co.kr%2Fimages%2Ffavicon.ico&amp;type=f54_54&amp;expire=24&amp;refresh=true\" width=\"20\"/></span>경남신문</a><span class=\"info\">1일 전</span> </div></div><a class=\"news_tit\" href=\"http://www.knnews.co.kr/news/articleView.php?idxno=1380341\" onclick=\"return goOtherCR(this, 'a=nws*f.tit&amp;r=32&amp;i=88126036_000000000000000000247791&amp;g=5202.0000247791&amp;u='+urlencode(this.href));\" target=\"_blank\" title=\"BNK경남은행 하반기 인사 단행\"><mark>BNK</mark>경남은행 하반기 인사 단행</a> <div class=\"news_dsc\"> <div class=\"dsc_wrap\"> <a class=\"api_txt_lines dsc_txt_wrap\" href=\"http://www.knnews.co.kr/news/articleView.php?idxno=1380341\" onclick=\"return goOtherCR(this, 'a=nws*f.body&amp;r=32&amp;i=88126036_000000000000000000247791&amp;g=5202.0000247791&amp;u='+urlencode(this.href));\" target=\"_blank\"><mark>BNK</mark>경남은행은 지난 1일 2022년 하반기 승진·전보인사를 단행했다. 경남은행에 따르면, 3급 12명, 4급 19명, 6급... <mark>BNK</mark>경남은행은 승진·전보인사와 연계한 2022년 하반기 승진 사령식을 본점 누리마당에서 개최했다. 최홍영...</a> </div></div></div></div></li> </ul>"
      ]
     },
     "execution_count": 193,
     "metadata": {},
     "output_type": "execute_result"
    }
   ],
   "source": [
    "news_list[0]"
   ]
  },
  {
   "cell_type": "code",
   "execution_count": 194,
   "id": "731de504",
   "metadata": {},
   "outputs": [
    {
     "data": {
      "text/plain": [
       "[<cite class=\"sub_txt press\" title=\"뉴스1\">뉴스1</cite>,\n",
       " <cite class=\"sub_txt press\" title=\"파이낸셜뉴스\">파이낸셜뉴스</cite>,\n",
       " <cite class=\"sub_txt press\" title=\"노컷뉴스\">노컷뉴스</cite>,\n",
       " <cite class=\"sub_txt press\" title=\"헤럴드경제\">헤럴드경제</cite>,\n",
       " <cite class=\"sub_txt press\" title=\"조선비즈\">조선비즈</cite>,\n",
       " <cite class=\"sub_txt press\" title=\"e대한경제\">e대한경제</cite>,\n",
       " <cite class=\"sub_txt press\" title=\"뉴시스\">뉴시스</cite>,\n",
       " <cite class=\"sub_txt press\" title=\"서울파이낸스\">서울파이낸스</cite>,\n",
       " <cite class=\"sub_txt press\" title=\"중소기업신문\">중소기업신문</cite>,\n",
       " <cite class=\"sub_txt press\" title=\"대한금융신문\">대한금융신문</cite>,\n",
       " <cite class=\"sub_txt press\" title=\"천지일보\">천지일보</cite>,\n",
       " <cite class=\"sub_txt press\" title=\"쿠키뉴스\">쿠키뉴스</cite>,\n",
       " <cite class=\"sub_txt press\" title=\"아시아투데이\">아시아투데이</cite>,\n",
       " <cite class=\"sub_txt press\" title=\"뉴시스\">뉴시스</cite>,\n",
       " <cite class=\"sub_txt press\" title=\"국제뉴스\">국제뉴스</cite>,\n",
       " <cite class=\"sub_txt press\" title=\"Korea IT Times\">Korea IT Times</cite>,\n",
       " <cite class=\"sub_txt press\" title=\"매일경제\">매일경제</cite>,\n",
       " <cite class=\"sub_txt press\" title=\"파이낸셜뉴스\">파이낸셜뉴스</cite>,\n",
       " <cite class=\"sub_txt press\" title=\"플래텀\">플래텀</cite>,\n",
       " <cite class=\"sub_txt press\" title=\"아시아경제\">아시아경제</cite>,\n",
       " <cite class=\"sub_txt press\" title=\"컨슈머타임스\">컨슈머타임스</cite>,\n",
       " <cite class=\"sub_txt press\" title=\"경상일보\">경상일보</cite>]"
      ]
     },
     "execution_count": 194,
     "metadata": {},
     "output_type": "execute_result"
    }
   ],
   "source": [
    "news_list[0].select(\"cite\")"
   ]
  },
  {
   "cell_type": "code",
   "execution_count": 195,
   "id": "619cb213",
   "metadata": {},
   "outputs": [
    {
     "data": {
      "text/plain": [
       "'뉴스1'"
      ]
     },
     "execution_count": 195,
     "metadata": {},
     "output_type": "execute_result"
    }
   ],
   "source": [
    "news_list[0].select(\"cite\")[0].text"
   ]
  },
  {
   "cell_type": "code",
   "execution_count": 205,
   "id": "f3beda5f",
   "metadata": {},
   "outputs": [
    {
     "data": {
      "text/plain": [
       "<div class=\"info_group\"> <a class=\"info press\" href=\"http://www.newsis.com\" onclick=\"return goOtherCR(this, 'a=nws*a.prof&amp;r=1&amp;i=88000127_000000000000000011286526&amp;g=003.0011286526&amp;u='+urlencode(this.href));\" target=\"_blank\"><span class=\"thumb_box\"><img alt=\"\" class=\"thumb\" height=\"20\" onerror=\"this.src='data:image/gif;base64,R0lGODlhAQABAIAAAAAAAP///yH5BAEAAAAALAAAAAABAAEAAAIBRAA7';this.className='thumb bg_default_press'\" src=\"https://search.pstatic.net/common/?src=https%3A%2F%2Fmimgnews.pstatic.net%2Fimage%2Fupload%2Foffice_logo%2F003%2F2019%2F02%2F19%2Flogo_003_18_20190219111719.jpg&amp;type=f54_54&amp;expire=24&amp;refresh=true\" width=\"20\"/></span>뉴시스</a><span class=\"info\">52분 전</span><a class=\"info\" href=\"https://n.news.naver.com/mnews/article/003/0011286526?sid=102\" onclick=\"return goOtherCR(this, 'a=nws*a.nav&amp;r=1&amp;i=88000127_000000000000000011286526&amp;u='+urlencode(this.href));\" target=\"_blank\">네이버뉴스</a> </div>"
      ]
     },
     "execution_count": 205,
     "metadata": {},
     "output_type": "execute_result"
    }
   ],
   "source": [
    "news_info = news_list[0].select(\"div.info_group\")\n",
    "news_info[0]"
   ]
  },
  {
   "cell_type": "code",
   "execution_count": 213,
   "id": "7a438131",
   "metadata": {},
   "outputs": [
    {
     "data": {
      "text/plain": [
       "'한국경제'"
      ]
     },
     "execution_count": 213,
     "metadata": {},
     "output_type": "execute_result"
    }
   ],
   "source": [
    "news_info[8].select(\"a\")[0].text"
   ]
  },
  {
   "cell_type": "code",
   "execution_count": 219,
   "id": "78aabde2",
   "metadata": {},
   "outputs": [
    {
     "data": {
      "text/plain": [
       "'1일 전'"
      ]
     },
     "execution_count": 219,
     "metadata": {},
     "output_type": "execute_result"
    }
   ],
   "source": [
    "news_info[7].select(\"span.info\")[0].text"
   ]
  },
  {
   "cell_type": "code",
   "execution_count": 217,
   "id": "aa27a67e",
   "metadata": {},
   "outputs": [
    {
     "data": {
      "text/plain": [
       "<span class=\"info\">42분 전</span>"
      ]
     },
     "execution_count": 217,
     "metadata": {},
     "output_type": "execute_result"
    }
   ],
   "source": [
    "news_info[8].select(\"span.info\")[-1]"
   ]
  },
  {
   "cell_type": "code",
   "execution_count": 215,
   "id": "f3f96994",
   "metadata": {},
   "outputs": [
    {
     "data": {
      "text/plain": [
       "<div class=\"info_group\"> <a class=\"info press\" href=\"http://www.hankyung.com/\" onclick=\"return goOtherCR(this, 'a=nws*e.prof&amp;r=31&amp;i=88000107_000000000000000004720454&amp;g=015.0004720454&amp;u='+urlencode(this.href));\" target=\"_blank\"><span class=\"thumb_box\"><img alt=\"\" class=\"thumb\" height=\"20\" onerror=\"this.src='data:image/gif;base64,R0lGODlhAQABAIAAAAAAAP///yH5BAEAAAAALAAAAAABAAEAAAIBRAA7';this.className='thumb bg_default_press'\" src=\"https://search.pstatic.net/common/?src=https%3A%2F%2Fmimgnews.pstatic.net%2Fimage%2Fupload%2Foffice_logo%2F015%2F2018%2F08%2F01%2Flogo_015_18_20180801163901.png&amp;type=f54_54&amp;expire=24&amp;refresh=true\" width=\"20\"/></span>한국경제</a><span class=\"info\"><i class=\"spnew ico_paper\"></i>B5면 1단</span><span class=\"info\">42분 전</span><a class=\"info\" href=\"https://n.news.naver.com/mnews/article/015/0004720454?sid=101\" onclick=\"return goOtherCR(this, 'a=nws*e.nav&amp;r=31&amp;i=88000107_000000000000000004720454&amp;u='+urlencode(this.href));\" target=\"_blank\">네이버뉴스</a> </div>"
      ]
     },
     "execution_count": 215,
     "metadata": {},
     "output_type": "execute_result"
    }
   ],
   "source": [
    "news_info[8]"
   ]
  },
  {
   "cell_type": "code",
   "execution_count": 208,
   "id": "84862b8b",
   "metadata": {},
   "outputs": [
    {
     "data": {
      "text/plain": [
       "10"
      ]
     },
     "execution_count": 208,
     "metadata": {},
     "output_type": "execute_result"
    }
   ],
   "source": [
    "len(news_info)"
   ]
  },
  {
   "cell_type": "code",
   "execution_count": 209,
   "id": "b7392176",
   "metadata": {},
   "outputs": [
    {
     "name": "stdout",
     "output_type": "stream",
     "text": [
      "0\n",
      "뉴시스 52분 전\n",
      "1\n",
      "연합뉴스 1일 전\n",
      "2\n",
      "뉴스핌 2시간 전\n",
      "3\n",
      "서울경제 1일 전\n",
      "4\n",
      "머니투데이 5시간 전\n",
      "5\n",
      "데일리한국 6시간 전\n",
      "6\n",
      "스트레이트뉴스 4시간 전\n",
      "7\n",
      "노컷뉴스 1일 전\n",
      "8\n",
      "한국경제 B5면 1단\n",
      "9\n",
      "경남신문 1일 전\n"
     ]
    }
   ],
   "source": [
    "for n_news in range(len(news_info)):\n",
    "    print(n_news)\n",
    "    news_press_sub = news_info[n_news].select(\"a\")[0].text\n",
    "    news_time_sub = news_info[n_news].select(\"span.info\")[0].text\n",
    "    print(news_press_sub, news_time_sub)"
   ]
  },
  {
   "cell_type": "markdown",
   "id": "e94bc6bc",
   "metadata": {},
   "source": [
    "### Q. 다음 코드를 기반으로 df_news_info 데이터프레임 객체에 언론사명과 기사 작성 시각(또는 일자)를 각각 press, datetime 변수에 저장하시오.\n",
    "※ 비어있는 데이터프레임 df_news_info 를 먼저 생성할것.  \n",
    "※ pd.concat() 함수로 각 데이터프레임을 합칠것."
   ]
  },
  {
   "cell_type": "code",
   "execution_count": 204,
   "id": "64cfd19d",
   "metadata": {},
   "outputs": [
    {
     "data": {
      "text/html": [
       "<div>\n",
       "<style scoped>\n",
       "    .dataframe tbody tr th:only-of-type {\n",
       "        vertical-align: middle;\n",
       "    }\n",
       "\n",
       "    .dataframe tbody tr th {\n",
       "        vertical-align: top;\n",
       "    }\n",
       "\n",
       "    .dataframe thead th {\n",
       "        text-align: right;\n",
       "    }\n",
       "</style>\n",
       "<table border=\"1\" class=\"dataframe\">\n",
       "  <thead>\n",
       "    <tr style=\"text-align: right;\">\n",
       "      <th></th>\n",
       "      <th>press</th>\n",
       "      <th>datetime</th>\n",
       "    </tr>\n",
       "  </thead>\n",
       "  <tbody>\n",
       "    <tr>\n",
       "      <th>0</th>\n",
       "      <td>뉴시스</td>\n",
       "      <td>52분 전</td>\n",
       "    </tr>\n",
       "  </tbody>\n",
       "</table>\n",
       "</div>"
      ],
      "text/plain": [
       "  press datetime\n",
       "0   뉴시스    52분 전"
      ]
     },
     "execution_count": 204,
     "metadata": {},
     "output_type": "execute_result"
    }
   ],
   "source": [
    "news_info"
   ]
  },
  {
   "cell_type": "code",
   "execution_count": 222,
   "id": "17f9cc61",
   "metadata": {},
   "outputs": [],
   "source": [
    "df_news_info = pd.DataFrame()\n",
    "for n_news in range(len(news_info)):\n",
    "    news_press_sub = news_info[n_news].select(\"a\")[0].text\n",
    "    news_time_sub  = news_info[n_news].select(\"span.info\")[-1].text\n",
    "    df_news_info_sub = pd.DataFrame([[news_press_sub, news_time_sub]],\n",
    "                                    columns = [\"press\", \"datetime\"])\n",
    "    df_news_info = pd.concat([df_news_info, df_news_info_sub])"
   ]
  },
  {
   "cell_type": "code",
   "execution_count": 223,
   "id": "5cd232d5",
   "metadata": {},
   "outputs": [
    {
     "data": {
      "text/html": [
       "<div>\n",
       "<style scoped>\n",
       "    .dataframe tbody tr th:only-of-type {\n",
       "        vertical-align: middle;\n",
       "    }\n",
       "\n",
       "    .dataframe tbody tr th {\n",
       "        vertical-align: top;\n",
       "    }\n",
       "\n",
       "    .dataframe thead th {\n",
       "        text-align: right;\n",
       "    }\n",
       "</style>\n",
       "<table border=\"1\" class=\"dataframe\">\n",
       "  <thead>\n",
       "    <tr style=\"text-align: right;\">\n",
       "      <th></th>\n",
       "      <th>press</th>\n",
       "      <th>datetime</th>\n",
       "    </tr>\n",
       "  </thead>\n",
       "  <tbody>\n",
       "    <tr>\n",
       "      <th>0</th>\n",
       "      <td>뉴시스</td>\n",
       "      <td>52분 전</td>\n",
       "    </tr>\n",
       "    <tr>\n",
       "      <th>1</th>\n",
       "      <td>연합뉴스</td>\n",
       "      <td>1일 전</td>\n",
       "    </tr>\n",
       "    <tr>\n",
       "      <th>2</th>\n",
       "      <td>뉴스핌</td>\n",
       "      <td>2시간 전</td>\n",
       "    </tr>\n",
       "    <tr>\n",
       "      <th>3</th>\n",
       "      <td>서울경제</td>\n",
       "      <td>1일 전</td>\n",
       "    </tr>\n",
       "    <tr>\n",
       "      <th>4</th>\n",
       "      <td>머니투데이</td>\n",
       "      <td>5시간 전</td>\n",
       "    </tr>\n",
       "    <tr>\n",
       "      <th>5</th>\n",
       "      <td>데일리한국</td>\n",
       "      <td>6시간 전</td>\n",
       "    </tr>\n",
       "    <tr>\n",
       "      <th>6</th>\n",
       "      <td>스트레이트뉴스</td>\n",
       "      <td>4시간 전</td>\n",
       "    </tr>\n",
       "    <tr>\n",
       "      <th>7</th>\n",
       "      <td>노컷뉴스</td>\n",
       "      <td>1일 전</td>\n",
       "    </tr>\n",
       "    <tr>\n",
       "      <th>8</th>\n",
       "      <td>한국경제</td>\n",
       "      <td>42분 전</td>\n",
       "    </tr>\n",
       "    <tr>\n",
       "      <th>9</th>\n",
       "      <td>경남신문</td>\n",
       "      <td>1일 전</td>\n",
       "    </tr>\n",
       "  </tbody>\n",
       "</table>\n",
       "</div>"
      ],
      "text/plain": [
       "     press datetime\n",
       "0      뉴시스    52분 전\n",
       "1     연합뉴스     1일 전\n",
       "2      뉴스핌    2시간 전\n",
       "3     서울경제     1일 전\n",
       "4    머니투데이    5시간 전\n",
       "5    데일리한국    6시간 전\n",
       "6  스트레이트뉴스    4시간 전\n",
       "7     노컷뉴스     1일 전\n",
       "8     한국경제    42분 전\n",
       "9     경남신문     1일 전"
      ]
     },
     "execution_count": 223,
     "metadata": {},
     "output_type": "execute_result"
    }
   ],
   "source": [
    "df_news_info = df_news_info.reset_index(drop = True)\n",
    "df_news_info"
   ]
  },
  {
   "cell_type": "code",
   "execution_count": 182,
   "id": "cad36dde",
   "metadata": {},
   "outputs": [
    {
     "data": {
      "text/html": [
       "<div>\n",
       "<style scoped>\n",
       "    .dataframe tbody tr th:only-of-type {\n",
       "        vertical-align: middle;\n",
       "    }\n",
       "\n",
       "    .dataframe tbody tr th {\n",
       "        vertical-align: top;\n",
       "    }\n",
       "\n",
       "    .dataframe thead th {\n",
       "        text-align: right;\n",
       "    }\n",
       "</style>\n",
       "<table border=\"1\" class=\"dataframe\">\n",
       "  <thead>\n",
       "    <tr style=\"text-align: right;\">\n",
       "      <th></th>\n",
       "      <th>0</th>\n",
       "      <th>1</th>\n",
       "    </tr>\n",
       "  </thead>\n",
       "  <tbody>\n",
       "    <tr>\n",
       "      <th>0</th>\n",
       "      <td>1</td>\n",
       "      <td>2</td>\n",
       "    </tr>\n",
       "  </tbody>\n",
       "</table>\n",
       "</div>"
      ],
      "text/plain": [
       "   0  1\n",
       "0  1  2"
      ]
     },
     "execution_count": 182,
     "metadata": {},
     "output_type": "execute_result"
    }
   ],
   "source": [
    "pd.DataFrame([[1, 2]])"
   ]
  },
  {
   "cell_type": "code",
   "execution_count": 229,
   "id": "c92cf479",
   "metadata": {},
   "outputs": [
    {
     "data": {
      "text/plain": [
       "(2022, 7, 5, 16, 10, 8)"
      ]
     },
     "execution_count": 229,
     "metadata": {},
     "output_type": "execute_result"
    }
   ],
   "source": [
    "time.localtime()[:6]"
   ]
  },
  {
   "cell_type": "code",
   "execution_count": 241,
   "id": "25a89056",
   "metadata": {},
   "outputs": [
    {
     "data": {
      "text/plain": [
       "'a+b+c'"
      ]
     },
     "execution_count": 241,
     "metadata": {},
     "output_type": "execute_result"
    }
   ],
   "source": [
    "\"+\".join([\"a\", \"b\", \"c\"])"
   ]
  },
  {
   "cell_type": "code",
   "execution_count": 238,
   "id": "0c6ded25",
   "metadata": {},
   "outputs": [
    {
     "data": {
      "text/plain": [
       "'2022-07-05'"
      ]
     },
     "execution_count": 238,
     "metadata": {},
     "output_type": "execute_result"
    }
   ],
   "source": [
    "sys_date = \"-\".join([str(num).zfill(2) for num in time.localtime()[:3]])\n",
    "sys_date"
   ]
  },
  {
   "cell_type": "code",
   "execution_count": 246,
   "id": "d2893009",
   "metadata": {},
   "outputs": [
    {
     "data": {
      "text/plain": [
       "'16:20:57'"
      ]
     },
     "execution_count": 246,
     "metadata": {},
     "output_type": "execute_result"
    }
   ],
   "source": [
    "sys_time = \":\".join([str(num).zfill(2) for num in time.localtime()[3:6]])\n",
    "sys_time"
   ]
  },
  {
   "cell_type": "code",
   "execution_count": 247,
   "id": "b04fee85",
   "metadata": {},
   "outputs": [
    {
     "data": {
      "text/plain": [
       "'2022-07-05 16:20:57'"
      ]
     },
     "execution_count": 247,
     "metadata": {},
     "output_type": "execute_result"
    }
   ],
   "source": [
    "sys_datetime = sys_date + \" \" + sys_time\n",
    "sys_datetime"
   ]
  },
  {
   "cell_type": "code",
   "execution_count": 248,
   "id": "f1563cc5",
   "metadata": {},
   "outputs": [
    {
     "data": {
      "text/html": [
       "<div>\n",
       "<style scoped>\n",
       "    .dataframe tbody tr th:only-of-type {\n",
       "        vertical-align: middle;\n",
       "    }\n",
       "\n",
       "    .dataframe tbody tr th {\n",
       "        vertical-align: top;\n",
       "    }\n",
       "\n",
       "    .dataframe thead th {\n",
       "        text-align: right;\n",
       "    }\n",
       "</style>\n",
       "<table border=\"1\" class=\"dataframe\">\n",
       "  <thead>\n",
       "    <tr style=\"text-align: right;\">\n",
       "      <th></th>\n",
       "      <th>press</th>\n",
       "      <th>datetime</th>\n",
       "      <th>dt_collect</th>\n",
       "    </tr>\n",
       "  </thead>\n",
       "  <tbody>\n",
       "    <tr>\n",
       "      <th>0</th>\n",
       "      <td>뉴시스</td>\n",
       "      <td>52분 전</td>\n",
       "      <td>2022-07-05 16:20:57</td>\n",
       "    </tr>\n",
       "    <tr>\n",
       "      <th>1</th>\n",
       "      <td>연합뉴스</td>\n",
       "      <td>1일 전</td>\n",
       "      <td>2022-07-05 16:20:57</td>\n",
       "    </tr>\n",
       "  </tbody>\n",
       "</table>\n",
       "</div>"
      ],
      "text/plain": [
       "  press datetime           dt_collect\n",
       "0   뉴시스    52분 전  2022-07-05 16:20:57\n",
       "1  연합뉴스     1일 전  2022-07-05 16:20:57"
      ]
     },
     "execution_count": 248,
     "metadata": {},
     "output_type": "execute_result"
    }
   ],
   "source": [
    "df_news_info[\"dt_collect\"] = sys_datetime\n",
    "df_news_info.head(2)"
   ]
  },
  {
   "cell_type": "code",
   "execution_count": 255,
   "id": "4029b91e",
   "metadata": {},
   "outputs": [
    {
     "data": {
      "text/plain": [
       "<ul class=\"list_news\"> <li class=\"bx\" id=\"sp_nws1\"> <div class=\"news_wrap api_ani_send\"> <div class=\"news_area\"> <div class=\"news_info\"> <div class=\"api_save_group _keep_wrap\"> <a aria-pressed=\"false\" class=\"btn_save _keep_trigger\" data-url=\"http://www.newsis.com/view/?id=NISX20220705_0001931932&amp;cID=10899&amp;pID=10800\" href=\"#\" onclick=\"tCR('a=nws*a.kep&amp;r=1&amp;i=88000127_000000000000000011286526&amp;u=javascript'); return false;\" role=\"button\"><i class=\"spnew ico_save\">문서 저장하기</i></a> <div class=\"api_ly_save _keep_save_layer\"> <a class=\"spnew_af item item_save _keep_save\" data-cr-off=\"a=nws*a.kepoff&amp;r=1&amp;i=88000127_000000000000000011286526&amp;u=javascript\" data-cr-on=\"a=nws*a.kepon&amp;r=1&amp;i=88000127_000000000000000011286526&amp;u=javascript\" href=\"#\" role=\"button\">Keep에 저장</a> <a class=\"spnew_af item item_quick\" href=\"https://keep.naver.com/\" onclick=\"return goOtherCR(this,'a=nws*a.kephome&amp;r=1&amp;i=88000127_000000000000000011286526&amp;u='+urlencode(this.href));\" target=\"_blank\">Keep 바로가기</a> </div></div><div class=\"info_group\"> <a class=\"info press\" href=\"http://www.newsis.com\" onclick=\"return goOtherCR(this, 'a=nws*a.prof&amp;r=1&amp;i=88000127_000000000000000011286526&amp;g=003.0011286526&amp;u='+urlencode(this.href));\" target=\"_blank\"><span class=\"thumb_box\"><img alt=\"\" class=\"thumb\" height=\"20\" onerror=\"this.src='data:image/gif;base64,R0lGODlhAQABAIAAAAAAAP///yH5BAEAAAAALAAAAAABAAEAAAIBRAA7';this.className='thumb bg_default_press'\" src=\"https://search.pstatic.net/common/?src=https%3A%2F%2Fmimgnews.pstatic.net%2Fimage%2Fupload%2Foffice_logo%2F003%2F2019%2F02%2F19%2Flogo_003_18_20190219111719.jpg&amp;type=f54_54&amp;expire=24&amp;refresh=true\" width=\"20\"/></span>뉴시스</a><span class=\"info\">52분 전</span><a class=\"info\" href=\"https://n.news.naver.com/mnews/article/003/0011286526?sid=102\" onclick=\"return goOtherCR(this, 'a=nws*a.nav&amp;r=1&amp;i=88000127_000000000000000011286526&amp;u='+urlencode(this.href));\" target=\"_blank\">네이버뉴스</a> </div></div><a class=\"news_tit\" href=\"http://www.newsis.com/view/?id=NISX20220705_0001931932&amp;cID=10899&amp;pID=10800\" onclick=\"return goOtherCR(this, 'a=nws*a.tit&amp;r=1&amp;i=88000127_000000000000000011286526&amp;g=003.0011286526&amp;u='+urlencode(this.href));\" target=\"_blank\" title=\"[부산소식] BNK투자증권, 이웃 위한 선풍기 100대 기부 등\">[부산소식] <mark>BNK</mark>투자증권, 이웃 위한 선풍기 100대 기부 등</a> <div class=\"news_dsc\"> <div class=\"dsc_wrap\"> <a class=\"api_txt_lines dsc_txt_wrap\" href=\"http://www.newsis.com/view/?id=NISX20220705_0001931932&amp;cID=10899&amp;pID=10800\" onclick=\"return goOtherCR(this, 'a=nws*a.body&amp;r=1&amp;i=88000127_000000000000000011286526&amp;g=003.0011286526&amp;u='+urlencode(this.href));\" target=\"_blank\"><mark>BNK</mark>투자증권은 5일 오후 부산진구청에서 지역 이웃들을 위한 '사랑의 선풍기 전달식'을 개최했다. <mark>BNK</mark>투자증권은 이날 행사를 통해 선풍기 100대를 부산사랑의열매에 기탁하고, 이 달 중으로 부산진구청과 함께 지역...</a> </div></div></div><a class=\"dsc_thumb\" href=\"http://www.newsis.com/view/?id=NISX20220705_0001931932&amp;cID=10899&amp;pID=10800\" onclick=\"return goOtherCR(this, 'a=nws*a.img&amp;r=1&amp;i=88000127_000000000000000011286526&amp;g=003.0011286526&amp;u='+urlencode(this.href));\" target=\"_blank\"><img alt=\"[부산소식] BNK투자증\" class=\"thumb api_get\" height=\"90\" onerror=\"this.parentNode.style.display='none';\" src=\"https://search.pstatic.net/common/?src=https%3A%2F%2Fimgnews.pstatic.net%2Fimage%2Forigin%2F003%2F2022%2F07%2F05%2F11286526.jpg&amp;type=ff264_180&amp;expire=2&amp;refresh=true\" width=\"132\"/></a> </div><div class=\"news_cluster\"> <ul class=\"list_cluster\"> <li class=\"sub_bx\"> <span class=\"sub_wrap\"> <span class=\"sub_area\"> <cite class=\"sub_txt press\" title=\"뉴스1\">뉴스1</cite><span class=\"sub_txt\">26분 전</span><a class=\"sub_txt\" href=\"https://n.news.naver.com/mnews/article/421/0006198724?sid=102\" onclick=\"return goOtherCR(this, 'a=nws*c.nav&amp;r=2&amp;i=08138263_000000000000000006198724&amp;u='+urlencode(this.href));\" target=\"_blank\">네이버뉴스</a> </span><a class=\"elss sub_tit\" href=\"https://www.news1.kr/articles/?4732699\" onclick=\"return goOtherCR(this, 'a=nws*c.tit&amp;r=2&amp;i=08138263_000000000000000006198724&amp;g=421.0006198724&amp;u='+urlencode(this.href));\" target=\"_blank\" title=\"BNK투자증권, 소외 이웃에 선풍기 100대 기부\"><mark>BNK</mark>투자증권, 소외 이웃에 선풍기 100대 기부</a> </span></li> <li class=\"sub_bx\"> <span class=\"sub_wrap\"> <span class=\"sub_area\"> <cite class=\"sub_txt press\" title=\"파이낸셜뉴스\">파이낸셜뉴스</cite><span class=\"sub_txt\">1시간 전</span><a class=\"sub_txt\" href=\"https://n.news.naver.com/mnews/article/014/0004862530?sid=101\" onclick=\"return goOtherCR(this, 'a=nws*c.nav&amp;r=3&amp;i=880000FF_000000000000000004862530&amp;u='+urlencode(this.href));\" target=\"_blank\">네이버뉴스</a> </span><a class=\"elss sub_tit\" href=\"http://www.fnnews.com/news/202207051424396597\" onclick=\"return goOtherCR(this, 'a=nws*c.tit&amp;r=3&amp;i=880000FF_000000000000000004862530&amp;g=014.0004862530&amp;u='+urlencode(this.href));\" target=\"_blank\" title=\"BNK투자증권, 폭염 대비 선풍기 100대 기부\"><mark>BNK</mark>투자증권, 폭염 대비 선풍기 100대 기부</a> </span></li> <li class=\"sub_bx\"> <span class=\"sub_wrap\"> <span class=\"sub_area\"> <cite class=\"sub_txt press\" title=\"노컷뉴스\">노컷뉴스</cite><span class=\"sub_txt\">45분 전</span><a class=\"sub_txt\" href=\"https://n.news.naver.com/mnews/article/079/0003660980?sid=102\" onclick=\"return goOtherCR(this, 'a=nws*c.nav&amp;r=4&amp;i=88000112_000000000000000003660980&amp;u='+urlencode(this.href));\" target=\"_blank\">네이버뉴스</a> </span><a class=\"elss sub_tit\" href=\"https://www.nocutnews.co.kr/news/5782131\" onclick=\"return goOtherCR(this, 'a=nws*c.tit&amp;r=4&amp;i=88000112_000000000000000003660980&amp;g=079.0003660980&amp;u='+urlencode(this.href));\" target=\"_blank\" title=\"BNK투자증권, 지역 이웃 건강한 여름나기 선풍기 100대 기부\"><mark>BNK</mark>투자증권, 지역 이웃 건강한 여름나기 선풍기 100대 기부</a> </span></li> <li class=\"sub_bx\"> <span class=\"sub_wrap\"> <span class=\"sub_area\"> <cite class=\"sub_txt press\" title=\"헤럴드경제\">헤럴드경제</cite><span class=\"sub_txt\">43분 전</span><a class=\"sub_txt\" href=\"https://n.news.naver.com/mnews/article/016/0002011772?sid=102\" onclick=\"return goOtherCR(this, 'a=nws*c.nav&amp;r=5&amp;i=8800010E_000000000000000002011772&amp;u='+urlencode(this.href));\" target=\"_blank\">네이버뉴스</a> </span><a class=\"elss sub_tit\" href=\"http://news.heraldcorp.com/view.php?ud=20220705000649\" onclick=\"return goOtherCR(this, 'a=nws*c.tit&amp;r=5&amp;i=8800010E_000000000000000002011772&amp;g=016.0002011772&amp;u='+urlencode(this.href));\" target=\"_blank\" title=\"BNK투자증권, 이웃의 건강한 여름나기 지원 선풍기 100대 기부\"><mark>BNK</mark>투자증권, 이웃의 건강한 여름나기 지원 선풍기 100대 기부</a> </span></li> </ul></div><a class=\"news_more\" href=\"?where=news&amp;sm=tab_tnw&amp;query=bnk&amp;sort=0&amp;photo=0&amp;field=0&amp;pd=0&amp;ds=&amp;de=&amp;mynews=0&amp;office_type=0&amp;office_section_code=0&amp;news_office_checked=&amp;related=1&amp;docid=0030011286526&amp;nso=so:r,p:all,a:all\" onclick=\"return goOtherCR(this, 'a=nws*r.more&amp;u='+urlencode(urlexpand(this.href)));\">관련뉴스 9건 전체보기<i class=\"spnew ico_arrow\"></i></a> </li> <li class=\"bx\" id=\"sp_nws6\"> <div class=\"news_wrap api_ani_send\"> <div class=\"news_area\"> <div class=\"news_info\"> <div class=\"api_save_group _keep_wrap\"> <a aria-pressed=\"false\" class=\"btn_save _keep_trigger\" data-url=\"https://www.yna.co.kr/view/AKR20220704104300051?input=1195m\" href=\"#\" onclick=\"tCR('a=nws*a.kep&amp;r=6&amp;i=880000D8_000000000000000013287656&amp;u=javascript'); return false;\" role=\"button\"><i class=\"spnew ico_save\">문서 저장하기</i></a> <div class=\"api_ly_save _keep_save_layer\"> <a class=\"spnew_af item item_save _keep_save\" data-cr-off=\"a=nws*a.kepoff&amp;r=6&amp;i=880000D8_000000000000000013287656&amp;u=javascript\" data-cr-on=\"a=nws*a.kepon&amp;r=6&amp;i=880000D8_000000000000000013287656&amp;u=javascript\" href=\"#\" role=\"button\">Keep에 저장</a> <a class=\"spnew_af item item_quick\" href=\"https://keep.naver.com/\" onclick=\"return goOtherCR(this,'a=nws*a.kephome&amp;r=6&amp;i=880000D8_000000000000000013287656&amp;u='+urlencode(this.href));\" target=\"_blank\">Keep 바로가기</a> </div></div><div class=\"info_group\"> <a class=\"info press\" href=\"https://www.yna.co.kr/\" onclick=\"return goOtherCR(this, 'a=nws*a.prof&amp;r=6&amp;i=880000D8_000000000000000013287656&amp;g=001.0013287656&amp;u='+urlencode(this.href));\" target=\"_blank\"><span class=\"thumb_box\"><img alt=\"\" class=\"thumb\" height=\"20\" onerror=\"this.src='data:image/gif;base64,R0lGODlhAQABAIAAAAAAAP///yH5BAEAAAAALAAAAAABAAEAAAIBRAA7';this.className='thumb bg_default_press'\" src=\"https://search.pstatic.net/common/?src=https%3A%2F%2Fmimgnews.pstatic.net%2Fimage%2Fupload%2Foffice_logo%2F001%2F2017%2F06%2F29%2Flogo_001_18_20170629160329.png&amp;type=f54_54&amp;expire=24&amp;refresh=true\" width=\"20\"/></span>연합뉴스</a><span class=\"info\">1일 전</span><a class=\"info\" href=\"https://n.news.naver.com/mnews/article/001/0013287656?sid=101\" onclick=\"return goOtherCR(this, 'a=nws*a.nav&amp;r=6&amp;i=880000D8_000000000000000013287656&amp;u='+urlencode(this.href));\" target=\"_blank\">네이버뉴스</a> </div></div><a class=\"news_tit\" href=\"https://www.yna.co.kr/view/AKR20220704104300051?input=1195m\" onclick=\"return goOtherCR(this, 'a=nws*a.tit&amp;r=6&amp;i=880000D8_000000000000000013287656&amp;g=001.0013287656&amp;u='+urlencode(this.href));\" target=\"_blank\" title=\"BNK부산은행, 주택도시보증공사 표준PF 대출 기관 선정\"><mark>BNK</mark>부산은행, 주택도시보증공사 표준PF 대출 기관 선정</a> <div class=\"news_dsc\"> <div class=\"dsc_wrap\"> <a class=\"api_txt_lines dsc_txt_wrap\" href=\"https://www.yna.co.kr/view/AKR20220704104300051?input=1195m\" onclick=\"return goOtherCR(this, 'a=nws*a.body&amp;r=6&amp;i=880000D8_000000000000000013287656&amp;g=001.0013287656&amp;u='+urlencode(this.href));\" target=\"_blank\"><mark>BNK</mark>부산은행은 지방은행 최초로 주택도시보증공사(HUG) '표준PF(프로젝트 파이낸싱)·후분양 표준PF' 대출을 주관하는 금융기관으로 선정됐다고 4일 밝혔다. 부산은행은 6일부터 2년간 분양보증(후분양 포함)...</a> </div></div></div><a class=\"dsc_thumb\" href=\"https://www.yna.co.kr/view/AKR20220704104300051?input=1195m\" onclick=\"return goOtherCR(this, 'a=nws*a.img&amp;r=6&amp;i=880000D8_000000000000000013287656&amp;g=001.0013287656&amp;u='+urlencode(this.href));\" target=\"_blank\"><img alt=\"BNK부산은행, 주택도시\" class=\"thumb api_get\" height=\"90\" onerror=\"this.parentNode.style.display='none';\" src=\"https://search.pstatic.net/common/?src=https%3A%2F%2Fimgnews.pstatic.net%2Fimage%2Forigin%2F001%2F2022%2F07%2F04%2F13287656.jpg&amp;type=ff264_180&amp;expire=2&amp;refresh=true\" width=\"132\"/></a> </div><div class=\"news_cluster\"> <ul class=\"list_cluster\"> <li class=\"sub_bx\"> <span class=\"sub_wrap\"> <span class=\"sub_area\"> <cite class=\"sub_txt press\" title=\"조선비즈\">조선비즈</cite><span class=\"sub_txt\">1일 전</span><a class=\"sub_txt\" href=\"https://n.news.naver.com/mnews/article/366/0000825204?sid=101\" onclick=\"return goOtherCR(this, 'a=nws*c.nav&amp;r=7&amp;i=88127058_000000000000000000825204&amp;u='+urlencode(this.href));\" target=\"_blank\">네이버뉴스</a> </span><a class=\"elss sub_tit\" href=\"https://biz.chosun.com/stock/finance/2022/07/04/N77PC7TUIVEQRFUO6XJCF2KYE4/?utm_source=naver&amp;utm_medium=original&amp;utm_campaign=biz\" onclick=\"return goOtherCR(this, 'a=nws*c.tit&amp;r=7&amp;i=88127058_000000000000000000825204&amp;g=366.0000825204&amp;u='+urlencode(this.href));\" target=\"_blank\" title=\"BNK부산은행, 주택도시보증공사 표준PF 대출 기관 선정\"><mark>BNK</mark>부산은행, 주택도시보증공사 표준PF 대출 기관 선정</a> </span></li> <li class=\"sub_bx\"> <span class=\"sub_wrap\"> <span class=\"sub_area\"> <cite class=\"sub_txt press\" title=\"e대한경제\">e대한경제</cite><span class=\"sub_txt\">1일 전</span> </span><a class=\"elss sub_tit\" href=\"https://www.dnews.co.kr/uhtml/view.jsp?idxno=202207041458221490420\" onclick=\"return goOtherCR(this, 'a=nws*d.tit&amp;r=8&amp;i=88105698_000000000000000000382980&amp;g=5138.0000382980&amp;u='+urlencode(this.href));\" target=\"_blank\" title=\"BNK부산은행, 주택공사 표준PF 주관 금융기관 선정\"><mark>BNK</mark>부산은행, 주택공사 표준PF 주관 금융기관 선정</a> </span></li> <li class=\"sub_bx\"> <span class=\"sub_wrap\"> <span class=\"sub_area\"> <cite class=\"sub_txt press\" title=\"뉴시스\">뉴시스</cite><span class=\"sub_txt\">1일 전</span><a class=\"sub_txt\" href=\"https://n.news.naver.com/mnews/article/003/0011284220?sid=102\" onclick=\"return goOtherCR(this, 'a=nws*c.nav&amp;r=9&amp;i=88000127_000000000000000011284220&amp;u='+urlencode(this.href));\" target=\"_blank\">네이버뉴스</a> </span><a class=\"elss sub_tit\" href=\"http://www.newsis.com/view/?id=NISX20220704_0001930508&amp;cID=10811&amp;pID=10800\" onclick=\"return goOtherCR(this, 'a=nws*c.tit&amp;r=9&amp;i=88000127_000000000000000011284220&amp;g=003.0011284220&amp;u='+urlencode(this.href));\" target=\"_blank\" title=\"BNK부산은행, 표준PF·후분양 표준PF 주관 금융기관 선정\"><mark>BNK</mark>부산은행, 표준PF·후분양 표준PF 주관 금융기관 선정</a> </span></li> <li class=\"sub_bx\"> <span class=\"sub_wrap\"> <span class=\"sub_area\"> <cite class=\"sub_txt press\" title=\"서울파이낸스\">서울파이낸스</cite><span class=\"sub_txt\">23시간 전</span> </span><a class=\"elss sub_tit\" href=\"http://www.seoulfn.com/news/articleView.html?idxno=460230\" onclick=\"return goOtherCR(this, 'a=nws*d.tit&amp;r=10&amp;i=88000395_000000000000000000384120&amp;g=5001.0000384120&amp;u='+urlencode(this.href));\" target=\"_blank\" title=\"BNK부산은행, HUG 표준PF 대출 금융기관 선정\"><mark>BNK</mark>부산은행, HUG 표준PF 대출 금융기관 선정</a> </span></li> </ul></div><a class=\"news_more\" href=\"?where=news&amp;sm=tab_tnw&amp;query=bnk&amp;sort=0&amp;photo=0&amp;field=0&amp;pd=0&amp;ds=&amp;de=&amp;mynews=0&amp;office_type=0&amp;office_section_code=0&amp;news_office_checked=&amp;related=1&amp;docid=0010013287656&amp;nso=so:r,p:all,a:all\" onclick=\"return goOtherCR(this, 'a=nws*r.more&amp;u='+urlencode(urlexpand(this.href)));\">관련뉴스 18건 전체보기<i class=\"spnew ico_arrow\"></i></a> </li> <li class=\"bx\" id=\"sp_nws11\"> <div class=\"news_wrap api_ani_send\"> <div class=\"news_area\"> <div class=\"news_info\"> <div class=\"api_save_group _keep_wrap\"> <a aria-pressed=\"false\" class=\"btn_save _keep_trigger\" data-url=\"http://www.newspim.com/news/view/20220705000657\" href=\"#\" onclick=\"tCR('a=nws*b.kep&amp;r=11&amp;i=88000394_000000000000000002125837&amp;u=javascript'); return false;\" role=\"button\"><i class=\"spnew ico_save\">문서 저장하기</i></a> <div class=\"api_ly_save _keep_save_layer\"> <a class=\"spnew_af item item_save _keep_save\" data-cr-off=\"a=nws*b.kepoff&amp;r=11&amp;i=88000394_000000000000000002125837&amp;u=javascript\" data-cr-on=\"a=nws*b.kepon&amp;r=11&amp;i=88000394_000000000000000002125837&amp;u=javascript\" href=\"#\" role=\"button\">Keep에 저장</a> <a class=\"spnew_af item item_quick\" href=\"https://keep.naver.com/\" onclick=\"return goOtherCR(this,'a=nws*b.kephome&amp;r=11&amp;i=88000394_000000000000000002125837&amp;u='+urlencode(this.href));\" target=\"_blank\">Keep 바로가기</a> </div></div><div class=\"info_group\"> <a class=\"info press\" href=\"http://www.newspim.com\" onclick=\"return goOtherCR(this, 'a=nws*b.prof&amp;r=11&amp;i=88000394_000000000000000002125837&amp;g=5002.0002125837&amp;u='+urlencode(this.href));\" target=\"_blank\"><span class=\"thumb_box\"><img alt=\"\" class=\"thumb\" height=\"20\" onerror=\"this.src='data:image/gif;base64,R0lGODlhAQABAIAAAAAAAP///yH5BAEAAAAALAAAAAABAAEAAAIBRAA7';this.className='thumb bg_default_press'\" src=\"https://search.pstatic.net/common/?src=http%3A%2F%2Fimg.newspim.com%2Fm%2Fmweb%2Ffavicon_144X144V2.png&amp;type=f54_54&amp;expire=24&amp;refresh=true\" width=\"20\"/></span>뉴스핌</a><span class=\"info\">2시간 전</span> </div></div><a class=\"news_tit\" href=\"http://www.newspim.com/news/view/20220705000657\" onclick=\"return goOtherCR(this, 'a=nws*b.tit&amp;r=11&amp;i=88000394_000000000000000002125837&amp;g=5002.0002125837&amp;u='+urlencode(this.href));\" target=\"_blank\" title=\"경남은행, BNK모바일신용대출 2종 판매\">경남은행, <mark>BNK</mark>모바일신용대출 2종 판매</a> <div class=\"news_dsc\"> <div class=\"dsc_wrap\"> <a class=\"api_txt_lines dsc_txt_wrap\" href=\"http://www.newspim.com/news/view/20220705000657\" onclick=\"return goOtherCR(this, 'a=nws*b.body&amp;r=11&amp;i=88000394_000000000000000002125837&amp;g=5002.0002125837&amp;u='+urlencode(this.href));\" target=\"_blank\"><mark>BNK</mark>경남은행은 신한플레이앱에서 제공 중인 대출비교 서비스에 <mark>BNK</mark>모바일신용대출 2종을 판매한다고 5일 밝혔다. <mark>BNK</mark>모바일신용대출 2종 판매에 따라 신한플레이앱 이용 고객들은 별도 서류 제출없이 소득정보...</a> </div></div></div><a class=\"dsc_thumb\" href=\"http://www.newspim.com/news/view/20220705000657\" onclick=\"return goOtherCR(this, 'a=nws*b.img&amp;r=11&amp;i=88000394_000000000000000002125837&amp;g=5002.0002125837&amp;u='+urlencode(this.href));\" target=\"_blank\"><img alt=\"경남은행, BNK모바일신\" class=\"thumb api_get\" height=\"90\" onerror=\"this.parentNode.style.display='none';\" src=\"https://search.pstatic.net/common/?src=https%3A%2F%2Fimgnews.pstatic.net%2Fimage%2Forigin%2F5002%2F2022%2F07%2F05%2F2125837.jpg&amp;type=ff264_180&amp;expire=2&amp;refresh=true\" width=\"132\"/></a> </div><div class=\"news_cluster\"> <ul class=\"list_cluster\"> <li class=\"sub_bx\"> <span class=\"sub_wrap\"> <span class=\"sub_area\"> <cite class=\"sub_txt press\" title=\"중소기업신문\">중소기업신문</cite><span class=\"sub_txt\">1시간 전</span> </span><a class=\"elss sub_tit\" href=\"http://www.smedaily.co.kr/news/articleView.html?idxno=234210\" onclick=\"return goOtherCR(this, 'a=nws*d.tit&amp;r=12&amp;i=8813C2D0_000000000000000000084659&amp;g=5296.0000084659&amp;u='+urlencode(this.href));\" target=\"_blank\" title=\"경남은행, 신한플레이앱서 'BNK모바일신용대출' 2종 판매\">경남은행, 신한플레이앱서 '<mark>BNK</mark>모바일신용대출' 2종 판매</a> </span></li> <li class=\"sub_bx\"> <span class=\"sub_wrap\"> <span class=\"sub_area\"> <cite class=\"sub_txt press\" title=\"대한금융신문\">대한금융신문</cite><span class=\"sub_txt\">4시간 전</span> </span><a class=\"elss sub_tit\" href=\"http://www.kbanker.co.kr/news/articleView.html?idxno=205378\" onclick=\"return goOtherCR(this, 'a=nws*d.tit&amp;r=13&amp;i=8817c9f9_000000000000000000056033&amp;g=5282.0000056033&amp;u='+urlencode(this.href));\" target=\"_blank\" title=\"BNK경남은행, 신한플레이앱 「대출비교 서비스」에 'BNK모바일신용대출 2종' 판매\"><mark>BNK</mark>경남은행, 신한플레이앱 「대출비교 서비스」에 '<mark>BNK</mark>모바일신용대출 2종' ...</a> </span></li> <li class=\"sub_bx\"> <span class=\"sub_wrap\"> <span class=\"sub_area\"> <cite class=\"sub_txt press\" title=\"천지일보\">천지일보</cite><span class=\"sub_txt\">2시간 전</span> </span><a class=\"elss sub_tit\" href=\"http://www.newscj.com/article/20220705580475\" onclick=\"return goOtherCR(this, 'a=nws*d.tit&amp;r=14&amp;i=88000404_000000000000000000786574&amp;g=5041.0000786574&amp;u='+urlencode(this.href));\" target=\"_blank\" title=\"경남은행 ‘BNK모바일신용대출 2종’ 판매\">경남은행 ‘<mark>BNK</mark>모바일신용대출 2종’ 판매</a> </span></li> </ul></div></li> <li class=\"bx\" id=\"sp_nws15\"> <div class=\"news_wrap api_ani_send\"> <div class=\"news_area\"> <div class=\"news_info\"> <div class=\"api_save_group _keep_wrap\"> <a aria-pressed=\"false\" class=\"btn_save _keep_trigger\" data-url=\"https://www.sedaily.com/NewsView/268E42DY0J\" href=\"#\" onclick=\"tCR('a=nws*a.kep&amp;r=15&amp;i=88000108_000000000000000004072340&amp;u=javascript'); return false;\" role=\"button\"><i class=\"spnew ico_save\">문서 저장하기</i></a> <div class=\"api_ly_save _keep_save_layer\"> <a class=\"spnew_af item item_save _keep_save\" data-cr-off=\"a=nws*a.kepoff&amp;r=15&amp;i=88000108_000000000000000004072340&amp;u=javascript\" data-cr-on=\"a=nws*a.kepon&amp;r=15&amp;i=88000108_000000000000000004072340&amp;u=javascript\" href=\"#\" role=\"button\">Keep에 저장</a> <a class=\"spnew_af item item_quick\" href=\"https://keep.naver.com/\" onclick=\"return goOtherCR(this,'a=nws*a.kephome&amp;r=15&amp;i=88000108_000000000000000004072340&amp;u='+urlencode(this.href));\" target=\"_blank\">Keep 바로가기</a> </div></div><div class=\"info_group\"> <a class=\"info press\" href=\"http://www.sedaily.com\" onclick=\"return goOtherCR(this, 'a=nws*a.prof&amp;r=15&amp;i=88000108_000000000000000004072340&amp;g=011.0004072340&amp;u='+urlencode(this.href));\" target=\"_blank\"><span class=\"thumb_box\"><img alt=\"\" class=\"thumb\" height=\"20\" onerror=\"this.src='data:image/gif;base64,R0lGODlhAQABAIAAAAAAAP///yH5BAEAAAAALAAAAAABAAEAAAIBRAA7';this.className='thumb bg_default_press'\" src=\"https://search.pstatic.net/common/?src=https%3A%2F%2Fmimgnews.pstatic.net%2Fimage%2Fupload%2Foffice_logo%2F011%2F2022%2F02%2F22%2Flogo_011_18_20220222161213.png&amp;type=f54_54&amp;expire=24&amp;refresh=true\" width=\"20\"/></span>서울경제</a><span class=\"info\">1일 전</span><a class=\"info\" href=\"https://n.news.naver.com/mnews/article/011/0004072340?sid=102\" onclick=\"return goOtherCR(this, 'a=nws*a.nav&amp;r=15&amp;i=88000108_000000000000000004072340&amp;u='+urlencode(this.href));\" target=\"_blank\">네이버뉴스</a> </div></div><a class=\"news_tit\" href=\"https://www.sedaily.com/NewsView/268E42DY0J\" onclick=\"return goOtherCR(this, 'a=nws*a.tit&amp;r=15&amp;i=88000108_000000000000000004072340&amp;g=011.0004072340&amp;u='+urlencode(this.href));\" target=\"_blank\" title=\"BNK경남은행, 모바일뱅킹 ‘레스토랑 예약 서비스’ 시행\"><mark>BNK</mark>경남은행, 모바일뱅킹 ‘레스토랑 예약 서비스’ 시행</a> <div class=\"news_dsc\"> <div class=\"dsc_wrap\"> <a class=\"api_txt_lines dsc_txt_wrap\" href=\"https://www.sedaily.com/NewsView/268E42DY0J\" onclick=\"return goOtherCR(this, 'a=nws*a.body&amp;r=15&amp;i=88000108_000000000000000004072340&amp;g=011.0004072340&amp;u='+urlencode(this.href));\" target=\"_blank\"><mark>BNK</mark>경남은행은 와드와 제휴해 ‘레스토랑 예약 서비스’를 시행 중이라고 4일 밝혔다. <mark>BNK</mark>경남은행 모바일뱅킹 앱에 탑재된 ‘캐치테이블’은 실시간 레스토랑 예약 플랫폼으로 고객이 날짜, 시간, 인원만 입력하면 쉽게...</a> </div></div></div><a class=\"dsc_thumb\" href=\"https://www.sedaily.com/NewsView/268E42DY0J\" onclick=\"return goOtherCR(this, 'a=nws*a.img&amp;r=15&amp;i=88000108_000000000000000004072340&amp;g=011.0004072340&amp;u='+urlencode(this.href));\" target=\"_blank\"><img alt=\"BNK경남은행, 모바일뱅\" class=\"thumb api_get\" height=\"90\" onerror=\"this.parentNode.style.display='none';\" src=\"https://search.pstatic.net/common/?src=https%3A%2F%2Fimgnews.pstatic.net%2Fimage%2Forigin%2F011%2F2022%2F07%2F04%2F4072340.jpg&amp;type=ff264_180&amp;expire=2&amp;refresh=true\" width=\"132\"/></a> </div><div class=\"news_cluster\"> <ul class=\"list_cluster\"> <li class=\"sub_bx\"> <span class=\"sub_wrap\"> <span class=\"sub_area\"> <cite class=\"sub_txt press\" title=\"쿠키뉴스\">쿠키뉴스</cite><span class=\"sub_txt\">1일 전</span> </span><a class=\"elss sub_tit\" href=\"http://www.kukinews.com/newsView/kuk202207040153\" onclick=\"return goOtherCR(this, 'a=nws*d.tit&amp;r=16&amp;i=88155e54_000000000000000000714936&amp;g=5380.0000714936&amp;u='+urlencode(this.href));\" target=\"_blank\" title=\"BNK경남은행, 모바일뱅킹 ‘레스토랑 예약 서비스’ 시행\"><mark>BNK</mark>경남은행, 모바일뱅킹 ‘레스토랑 예약 서비스’ 시행</a> </span></li> <li class=\"sub_bx\"> <span class=\"sub_wrap\"> <span class=\"sub_area\"> <cite class=\"sub_txt press\" title=\"아시아투데이\">아시아투데이</cite><span class=\"sub_txt\">22시간 전</span> </span><a class=\"elss sub_tit\" href=\"https://www.asiatoday.co.kr/view.php?key=20220704010001859\" onclick=\"return goOtherCR(this, 'a=nws*d.tit&amp;r=17&amp;i=8813C2E8_000000000000000001664488&amp;g=5268.0001664488&amp;u='+urlencode(this.href));\" target=\"_blank\" title=\"BNK경남은행, 모바일뱅킹 '레스토랑 예약 서비스' 시행\"><mark>BNK</mark>경남은행, 모바일뱅킹 '레스토랑 예약 서비스' 시행</a> </span></li> <li class=\"sub_bx\"> <span class=\"sub_wrap\"> <span class=\"sub_area\"> <cite class=\"sub_txt press\" title=\"뉴시스\">뉴시스</cite><span class=\"sub_txt\">1일 전</span><a class=\"sub_txt\" href=\"https://n.news.naver.com/mnews/article/003/0011284313?sid=102\" onclick=\"return goOtherCR(this, 'a=nws*c.nav&amp;r=18&amp;i=88000127_000000000000000011284313&amp;u='+urlencode(this.href));\" target=\"_blank\">네이버뉴스</a> </span><a class=\"elss sub_tit\" href=\"http://www.newsis.com/view/?id=NISX20220704_0001930543&amp;cID=10812&amp;pID=10800\" onclick=\"return goOtherCR(this, 'a=nws*c.tit&amp;r=18&amp;i=88000127_000000000000000011284313&amp;g=003.0011284313&amp;u='+urlencode(this.href));\" target=\"_blank\" title=\"BNK경남은행, 모바일뱅킹 '레스토랑 예약 서비스'\"><mark>BNK</mark>경남은행, 모바일뱅킹 '레스토랑 예약 서비스'</a> </span></li> <li class=\"sub_bx\"> <span class=\"sub_wrap\"> <span class=\"sub_area\"> <cite class=\"sub_txt press\" title=\"국제뉴스\">국제뉴스</cite><span class=\"sub_txt\">23시간 전</span> </span><a class=\"elss sub_tit\" href=\"https://www.gukjenews.com/news/articleView.html?idxno=2501279\" onclick=\"return goOtherCR(this, 'a=nws*d.tit&amp;r=19&amp;i=8813C2D5_000000000000000001588627&amp;g=5291.0001588627&amp;u='+urlencode(this.href));\" target=\"_blank\" title=\"BNK경남은행, 모바일뱅킹 '레스토랑 예약 서비스' 시행\"><mark>BNK</mark>경남은행, 모바일뱅킹 '레스토랑 예약 서비스' 시행</a> </span></li> </ul></div><a class=\"news_more\" href=\"?where=news&amp;sm=tab_tnw&amp;query=bnk&amp;sort=0&amp;photo=0&amp;field=0&amp;pd=0&amp;ds=&amp;de=&amp;mynews=0&amp;office_type=0&amp;office_section_code=0&amp;news_office_checked=&amp;related=1&amp;docid=0110004072340&amp;nso=so:r,p:all,a:all\" onclick=\"return goOtherCR(this, 'a=nws*r.more&amp;u='+urlencode(urlexpand(this.href)));\">관련뉴스 15건 전체보기<i class=\"spnew ico_arrow\"></i></a> </li> <li class=\"bx\" id=\"sp_nws20\"> <div class=\"news_wrap api_ani_send\"> <div class=\"news_area\"> <div class=\"news_info\"> <div class=\"api_save_group _keep_wrap\"> <a aria-pressed=\"false\" class=\"btn_save _keep_trigger\" data-url=\"http://news.mt.co.kr/mtview.php?no=2022070510223045995\" href=\"#\" onclick=\"tCR('a=nws*a.kep&amp;r=20&amp;i=880000C2_000000000000000004766887&amp;u=javascript'); return false;\" role=\"button\"><i class=\"spnew ico_save\">문서 저장하기</i></a> <div class=\"api_ly_save _keep_save_layer\"> <a class=\"spnew_af item item_save _keep_save\" data-cr-off=\"a=nws*a.kepoff&amp;r=20&amp;i=880000C2_000000000000000004766887&amp;u=javascript\" data-cr-on=\"a=nws*a.kepon&amp;r=20&amp;i=880000C2_000000000000000004766887&amp;u=javascript\" href=\"#\" role=\"button\">Keep에 저장</a> <a class=\"spnew_af item item_quick\" href=\"https://keep.naver.com/\" onclick=\"return goOtherCR(this,'a=nws*a.kephome&amp;r=20&amp;i=880000C2_000000000000000004766887&amp;u='+urlencode(this.href));\" target=\"_blank\">Keep 바로가기</a> </div></div><div class=\"info_group\"> <a class=\"info press\" href=\"http://www.mt.co.kr/\" onclick=\"return goOtherCR(this, 'a=nws*a.prof&amp;r=20&amp;i=880000C2_000000000000000004766887&amp;g=008.0004766887&amp;u='+urlencode(this.href));\" target=\"_blank\"><span class=\"thumb_box\"><img alt=\"\" class=\"thumb\" height=\"20\" onerror=\"this.src='data:image/gif;base64,R0lGODlhAQABAIAAAAAAAP///yH5BAEAAAAALAAAAAABAAEAAAIBRAA7';this.className='thumb bg_default_press'\" src=\"https://search.pstatic.net/common/?src=https%3A%2F%2Fmimgnews.pstatic.net%2Fimage%2Fupload%2Foffice_logo%2F008%2F2018%2F09%2F13%2Flogo_008_18_20180913140113.png&amp;type=f54_54&amp;expire=24&amp;refresh=true\" width=\"20\"/></span>머니투데이</a><span class=\"info\">5시간 전</span><a class=\"info\" href=\"https://n.news.naver.com/mnews/article/008/0004766887?sid=101\" onclick=\"return goOtherCR(this, 'a=nws*a.nav&amp;r=20&amp;i=880000C2_000000000000000004766887&amp;u='+urlencode(this.href));\" target=\"_blank\">네이버뉴스</a> </div></div><a class=\"news_tit\" href=\"http://news.mt.co.kr/mtview.php?no=2022070510223045995\" onclick=\"return goOtherCR(this, 'a=nws*a.tit&amp;r=20&amp;i=880000C2_000000000000000004766887&amp;g=008.0004766887&amp;u='+urlencode(this.href));\" target=\"_blank\" title=\"바이셀스탠다드, BNK투자증권·스탤리온파트너스 30억원 투자 유치\">바이셀스탠다드, <mark>BNK</mark>투자증권·스탤리온파트너스 30억원 투자 유치</a> <div class=\"news_dsc\"> <div class=\"dsc_wrap\"> <a class=\"api_txt_lines dsc_txt_wrap\" href=\"http://news.mt.co.kr/mtview.php?no=2022070510223045995\" onclick=\"return goOtherCR(this, 'a=nws*a.body&amp;r=20&amp;i=880000C2_000000000000000004766887&amp;g=008.0004766887&amp;u='+urlencode(this.href));\" target=\"_blank\">현물 조각투자 플랫폼 '피스(PIECE)' 운영사인 바이셀스탠다드는 최근 <mark>BNK</mark>투자증권, 스탤리온파트너스로부터 30억 원의 브릿지 라운드 투자금을 추가 유치하며 누적 투자금 82억 원을 달성했다고 5일 밝혔다. 신범준...</a> </div></div></div><a class=\"dsc_thumb\" href=\"http://news.mt.co.kr/mtview.php?no=2022070510223045995\" onclick=\"return goOtherCR(this, 'a=nws*a.img&amp;r=20&amp;i=880000C2_000000000000000004766887&amp;g=008.0004766887&amp;u='+urlencode(this.href));\" target=\"_blank\"><img alt=\"바이셀스탠다드, BNK투\" class=\"thumb api_get\" height=\"90\" onerror=\"this.parentNode.style.display='none';\" src=\"https://search.pstatic.net/common/?src=https%3A%2F%2Fimgnews.pstatic.net%2Fimage%2Forigin%2F008%2F2022%2F07%2F05%2F4766887.jpg&amp;type=ff264_180&amp;expire=2&amp;refresh=true\" width=\"132\"/></a> </div><div class=\"news_cluster\"> <ul class=\"list_cluster\"> <li class=\"sub_bx\"> <span class=\"sub_wrap\"> <span class=\"sub_area\"> <cite class=\"sub_txt press\" title=\"Korea IT Times\">Korea IT Times</cite><span class=\"sub_txt\">5시간 전</span> </span><a class=\"elss sub_tit\" href=\"http://www.koreaittimes.com/news/articleView.html?idxno=114011\" onclick=\"return goOtherCR(this, 'a=nws*d.tit&amp;r=21&amp;i=88123FC3_000000000000000000045469&amp;g=5187.0000045469&amp;u='+urlencode(this.href));\" target=\"_blank\" title=\"바이셀스탠다드, BNK투자증권, 스탤리온파트너스로부터 30억원 투자유치\">바이셀스탠다드, <mark>BNK</mark>투자증권, 스탤리온파트너스로부터 30억원 투자유치</a> </span></li> <li class=\"sub_bx\"> <span class=\"sub_wrap\"> <span class=\"sub_area\"> <cite class=\"sub_txt press\" title=\"매일경제\">매일경제</cite><span class=\"sub_txt\">6시간 전</span><a class=\"sub_txt\" href=\"https://n.news.naver.com/mnews/article/009/0004986854?sid=105\" onclick=\"return goOtherCR(this, 'a=nws*c.nav&amp;r=22&amp;i=880000BC_000000000000000004986854&amp;u='+urlencode(this.href));\" target=\"_blank\">네이버뉴스</a> </span><a class=\"elss sub_tit\" href=\"http://mirakle.mk.co.kr/view.php?year=2022&amp;no=586924\" onclick=\"return goOtherCR(this, 'a=nws*c.tit&amp;r=22&amp;i=880000BC_000000000000000004986854&amp;g=009.0004986854&amp;u='+urlencode(this.href));\" target=\"_blank\" title=\"바이셀스탠다드 BNK투자증권, 스탤리온파트너스로부터 30억 원 브릿지 라운드 투자유치\">바이셀스탠다드 <mark>BNK</mark>투자증권, 스탤리온파트너스로부터 30억 원 브릿지 라운드...</a> </span></li> <li class=\"sub_bx\"> <span class=\"sub_wrap\"> <span class=\"sub_area\"> <cite class=\"sub_txt press\" title=\"파이낸셜뉴스\">파이낸셜뉴스</cite><span class=\"sub_txt\">6시간 전</span><a class=\"sub_txt\" href=\"https://n.news.naver.com/mnews/article/014/0004862204?sid=101\" onclick=\"return goOtherCR(this, 'a=nws*c.nav&amp;r=23&amp;i=880000FF_000000000000000004862204&amp;u='+urlencode(this.href));\" target=\"_blank\">네이버뉴스</a> </span><a class=\"elss sub_tit\" href=\"http://www.fnnews.com/news/202207050850536934\" onclick=\"return goOtherCR(this, 'a=nws*c.tit&amp;r=23&amp;i=880000FF_000000000000000004862204&amp;g=014.0004862204&amp;u='+urlencode(this.href));\" target=\"_blank\" title=\"[fn마켓워치]BNK證·스탤리온, 현물 조각투자 플랫폼 '피스'에 투자\">[fn마켓워치]<mark>BNK</mark>證·스탤리온, 현물 조각투자 플랫폼 '피스'에 투자</a> </span></li> <li class=\"sub_bx\"> <span class=\"sub_wrap\"> <span class=\"sub_area\"> <cite class=\"sub_txt press\" title=\"플래텀\">플래텀</cite><span class=\"sub_txt\">6시간 전</span> </span><a class=\"elss sub_tit\" href=\"https://platum.kr/archives/188758\" onclick=\"return goOtherCR(this, 'a=nws*d.tit&amp;r=24&amp;i=88155e5b_000000000000000000022408&amp;g=5373.0000022408&amp;u='+urlencode(this.href));\" target=\"_blank\" title=\"바이셀스탠다드, BNK투자증권, 스탤리온파트너스로부터 30억 원 브릿지 투자유치\">바이셀스탠다드, <mark>BNK</mark>투자증권, 스탤리온파트너스로부터 30억 원 브릿지 투자유...</a> </span></li> </ul></div><a class=\"news_more\" href=\"?where=news&amp;sm=tab_tnw&amp;query=bnk&amp;sort=0&amp;photo=0&amp;field=0&amp;pd=0&amp;ds=&amp;de=&amp;mynews=0&amp;office_type=0&amp;office_section_code=0&amp;news_office_checked=&amp;related=1&amp;docid=0080004766887&amp;nso=so:r,p:all,a:all\" onclick=\"return goOtherCR(this, 'a=nws*r.more&amp;u='+urlencode(urlexpand(this.href)));\">관련뉴스 6건 전체보기<i class=\"spnew ico_arrow\"></i></a> </li> <li class=\"bx\" id=\"sp_nws25\"> <div class=\"news_wrap api_ani_send\"> <div class=\"news_area\"> <div class=\"news_info\"> <div class=\"api_save_group _keep_wrap\"> <a aria-pressed=\"false\" class=\"btn_save _keep_trigger\" data-url=\"http://daily.hankooki.com/news/articleView.html?idxno=843518\" href=\"#\" onclick=\"tCR('a=nws*b.kep&amp;r=25&amp;i=88155e6a_000000000000000000424311&amp;u=javascript'); return false;\" role=\"button\"><i class=\"spnew ico_save\">문서 저장하기</i></a> <div class=\"api_ly_save _keep_save_layer\"> <a class=\"spnew_af item item_save _keep_save\" data-cr-off=\"a=nws*b.kepoff&amp;r=25&amp;i=88155e6a_000000000000000000424311&amp;u=javascript\" data-cr-on=\"a=nws*b.kepon&amp;r=25&amp;i=88155e6a_000000000000000000424311&amp;u=javascript\" href=\"#\" role=\"button\">Keep에 저장</a> <a class=\"spnew_af item item_quick\" href=\"https://keep.naver.com/\" onclick=\"return goOtherCR(this,'a=nws*b.kephome&amp;r=25&amp;i=88155e6a_000000000000000000424311&amp;u='+urlencode(this.href));\" target=\"_blank\">Keep 바로가기</a> </div></div><div class=\"info_group\"> <a class=\"info press\" href=\"http://daily.hankooki.com\" onclick=\"return goOtherCR(this, 'a=nws*b.prof&amp;r=25&amp;i=88155e6a_000000000000000000424311&amp;g=5358.0000424311&amp;u='+urlencode(this.href));\" target=\"_blank\"><span class=\"thumb_box\"><img alt=\"\" class=\"thumb\" height=\"20\" onerror=\"this.src='data:image/gif;base64,R0lGODlhAQABAIAAAAAAAP///yH5BAEAAAAALAAAAAABAAEAAAIBRAA7';this.className='thumb bg_default_press'\" src=\"https://search.pstatic.net/common/?src=http%3A%2F%2Fimg.hankooki.com%2Ficon%2Fdaily%2Ffavicon.ico&amp;type=f54_54&amp;expire=24&amp;refresh=true\" width=\"20\"/></span>데일리한국</a><span class=\"info\">6시간 전</span> </div></div><a class=\"news_tit\" href=\"http://daily.hankooki.com/news/articleView.html?idxno=843518\" onclick=\"return goOtherCR(this, 'a=nws*b.tit&amp;r=25&amp;i=88155e6a_000000000000000000424311&amp;g=5358.0000424311&amp;u='+urlencode(this.href));\" target=\"_blank\" title=\"BNK부산은행, 주택사업자에 2년간 PF 대출로 안정적 자금 지원\"><mark>BNK</mark>부산은행, 주택사업자에 2년간 PF 대출로 안정적 자금 지원</a> <div class=\"news_dsc\"> <div class=\"dsc_wrap\"> <a class=\"api_txt_lines dsc_txt_wrap\" href=\"http://daily.hankooki.com/news/articleView.html?idxno=843518\" onclick=\"return goOtherCR(this, 'a=nws*b.body&amp;r=25&amp;i=88155e6a_000000000000000000424311&amp;g=5358.0000424311&amp;u='+urlencode(this.href));\" target=\"_blank\">부산은행 본점 <mark>BNK</mark>부산은행이 4일 지방은행 최초로 주택도시보증공사 '표준PF(프로젝트 파이낸싱) 및 후분양 표준PF'(PF) 대출의 주관 금융기관으로 선정됐다고 밝혔다. 부산은행은 오는 6일부터 2년간 분양보증(후분양...</a> </div></div></div><a class=\"dsc_thumb\" href=\"http://daily.hankooki.com/news/articleView.html?idxno=843518\" onclick=\"return goOtherCR(this, 'a=nws*b.img&amp;r=25&amp;i=88155e6a_000000000000000000424311&amp;g=5358.0000424311&amp;u='+urlencode(this.href));\" target=\"_blank\"><img alt=\"BNK부산은행, 주택사업\" class=\"thumb api_get\" height=\"90\" onerror=\"this.parentNode.style.display='none';\" src=\"https://search.pstatic.net/common/?src=https%3A%2F%2Fimgnews.pstatic.net%2Fimage%2Forigin%2F5358%2F2022%2F07%2F05%2F424311.jpg&amp;type=ofullfill264_180_gray&amp;expire=2&amp;refresh=true\" width=\"132\"/></a> </div><div class=\"news_cluster\"> <ul class=\"list_cluster\"> <li class=\"sub_bx\"> <span class=\"sub_wrap\"> <span class=\"sub_area\"> <cite class=\"sub_txt press\" title=\"아시아경제\">아시아경제</cite><span class=\"sub_txt\">7시간 전</span><a class=\"sub_txt\" href=\"https://n.news.naver.com/mnews/article/277/0005112903?sid=102\" onclick=\"return goOtherCR(this, 'a=nws*c.nav&amp;r=26&amp;i=88000385_000000000000000005112903&amp;u='+urlencode(this.href));\" target=\"_blank\">네이버뉴스</a> </span><a class=\"elss sub_tit\" href=\"https://view.asiae.co.kr/article/2022070507584750736\" onclick=\"return goOtherCR(this, 'a=nws*c.tit&amp;r=26&amp;i=88000385_000000000000000005112903&amp;g=277.0005112903&amp;u='+urlencode(this.href));\" target=\"_blank\" title=\"BNK부산은행, 지방은행 최초 주택도시보증공사 표준PF·후분양 표준PF’ 금융기관 선정\"><mark>BNK</mark>부산은행, 지방은행 최초 주택도시보증공사 표준PF·후분양 표준PF’ 금융...</a> </span></li> <li class=\"sub_bx\"> <span class=\"sub_wrap\"> <span class=\"sub_area\"> <cite class=\"sub_txt press\" title=\"컨슈머타임스\">컨슈머타임스</cite><span class=\"sub_txt\">7시간 전</span> </span><a class=\"elss sub_tit\" href=\"http://www.cstimes.com/news/articleView.html?idxno=504074\" onclick=\"return goOtherCR(this, 'a=nws*d.tit&amp;r=27&amp;i=88122F99_000000000000000000329529&amp;g=5174.0000329529&amp;u='+urlencode(this.href));\" target=\"_blank\" title=\"BNK부산은행, 지방은행 최초 HUG 표준PF 대출주관 기관 선정\"><mark>BNK</mark>부산은행, 지방은행 최초 HUG 표준PF 대출주관 기관 선정</a> </span></li> <li class=\"sub_bx\"> <span class=\"sub_wrap\"> <span class=\"sub_area\"> <cite class=\"sub_txt press\" title=\"경상일보\">경상일보</cite><span class=\"sub_txt\">15시간 전</span> </span><a class=\"elss sub_tit\" href=\"http://www.ksilbo.co.kr/news/articleView.html?idxno=940224\" onclick=\"return goOtherCR(this, 'a=nws*d.tit&amp;r=28&amp;i=8813C2E1_000000000000000000306987&amp;g=5277.0000306987&amp;u='+urlencode(this.href));\" target=\"_blank\" title=\"BNK부산은행, 주택보증공사 표준PF 주관기관에 선정\"><mark>BNK</mark>부산은행, 주택보증공사 표준PF 주관기관에 선정</a> </span></li> </ul></div></li> <li class=\"bx\" id=\"sp_nws29\"> <div class=\"news_wrap api_ani_send\"> <div class=\"news_area\"> <div class=\"news_info\"> <div class=\"api_save_group _keep_wrap\"> <a aria-pressed=\"false\" class=\"btn_save _keep_trigger\" data-url=\"https://www.straightnews.co.kr/news/articleView.html?idxno=213299\" href=\"#\" onclick=\"tCR('a=nws*f.kep&amp;r=29&amp;i=88188597_000000000000000000073410&amp;u=javascript'); return false;\" role=\"button\"><i class=\"spnew ico_save\">문서 저장하기</i></a> <div class=\"api_ly_save _keep_save_layer\"> <a class=\"spnew_af item item_save _keep_save\" data-cr-off=\"a=nws*f.kepoff&amp;r=29&amp;i=88188597_000000000000000000073410&amp;u=javascript\" data-cr-on=\"a=nws*f.kepon&amp;r=29&amp;i=88188597_000000000000000000073410&amp;u=javascript\" href=\"#\" role=\"button\">Keep에 저장</a> <a class=\"spnew_af item item_quick\" href=\"https://keep.naver.com/\" onclick=\"return goOtherCR(this,'a=nws*f.kephome&amp;r=29&amp;i=88188597_000000000000000000073410&amp;u='+urlencode(this.href));\" target=\"_blank\">Keep 바로가기</a> </div></div><div class=\"info_group\"> <a class=\"info press\" href=\"http://www.straightnews.co.kr\" onclick=\"return goOtherCR(this, 'a=nws*f.prof&amp;r=29&amp;i=88188597_000000000000000000073410&amp;g=5677.0000073410&amp;u='+urlencode(this.href));\" target=\"_blank\"><span class=\"thumb_box\"><img alt=\"\" class=\"thumb\" height=\"20\" onerror=\"this.src='data:image/gif;base64,R0lGODlhAQABAIAAAAAAAP///yH5BAEAAAAALAAAAAABAAEAAAIBRAA7';this.className='thumb bg_default_press'\" src=\"https://search.pstatic.net/common/?src=http%3A%2F%2Fwww.straightnews.co.kr%2Fimage%2Flogo%2Ffavicon_20200323032240.ico&amp;type=f54_54&amp;expire=24&amp;refresh=true\" width=\"20\"/></span>스트레이트뉴스</a><span class=\"info\">4시간 전</span> </div></div><a class=\"news_tit\" href=\"https://www.straightnews.co.kr/news/articleView.html?idxno=213299\" onclick=\"return goOtherCR(this, 'a=nws*f.tit&amp;r=29&amp;i=88188597_000000000000000000073410&amp;g=5677.0000073410&amp;u='+urlencode(this.href));\" target=\"_blank\" title=\"JB금융, 내부등급 승인 꼴찌 승선…증권사 인수하나\">JB금융, 내부등급 승인 꼴찌 승선…증권사 인수하나</a> <div class=\"news_dsc\"> <div class=\"dsc_wrap\"> <a class=\"api_txt_lines dsc_txt_wrap\" href=\"https://www.straightnews.co.kr/news/articleView.html?idxno=213299\" onclick=\"return goOtherCR(this, 'a=nws*f.body&amp;r=29&amp;i=88188597_000000000000000000073410&amp;g=5677.0000073410&amp;u='+urlencode(this.href));\" target=\"_blank\">51%)나 <mark>BNK</mark>금융(11.18%)에 열위를 보여왔다. DGB와 <mark>BNK</mark>는 각각 작년 4월과 7월에 내부등급법 승인을 완료한 바 있다. 수익성은 좋지만 자본적정성이 약하다는 지적은 증권사 인수를 통해 이른바 인오거닉 성장을 꿈꿔온...</a> </div></div></div><a class=\"dsc_thumb\" href=\"https://www.straightnews.co.kr/news/articleView.html?idxno=213299\" onclick=\"return goOtherCR(this, 'a=nws*f.img&amp;r=29&amp;i=88188597_000000000000000000073410&amp;g=5677.0000073410&amp;u='+urlencode(this.href));\" target=\"_blank\"><img alt=\"JB금융, 내부등급 승인\" class=\"thumb api_get\" height=\"90\" onerror=\"this.parentNode.style.display='none';\" src=\"https://search.pstatic.net/common/?src=https%3A%2F%2Fimgnews.pstatic.net%2Fimage%2Forigin%2F5677%2F2022%2F07%2F05%2F73410.jpg&amp;type=ofullfill264_180_gray&amp;expire=2&amp;refresh=true\" width=\"132\"/></a> </div></li> <li class=\"bx\" id=\"sp_nws30\"> <div class=\"news_wrap api_ani_send\"> <div class=\"news_area\"> <div class=\"news_info\"> <div class=\"api_save_group _keep_wrap\"> <a aria-pressed=\"false\" class=\"btn_save _keep_trigger\" data-url=\"https://www.nocutnews.co.kr/news/5781023\" href=\"#\" onclick=\"tCR('a=nws*e.kep&amp;r=30&amp;i=88000112_000000000000000003660214&amp;u=javascript'); return false;\" role=\"button\"><i class=\"spnew ico_save\">문서 저장하기</i></a> <div class=\"api_ly_save _keep_save_layer\"> <a class=\"spnew_af item item_save _keep_save\" data-cr-off=\"a=nws*e.kepoff&amp;r=30&amp;i=88000112_000000000000000003660214&amp;u=javascript\" data-cr-on=\"a=nws*e.kepon&amp;r=30&amp;i=88000112_000000000000000003660214&amp;u=javascript\" href=\"#\" role=\"button\">Keep에 저장</a> <a class=\"spnew_af item item_quick\" href=\"https://keep.naver.com/\" onclick=\"return goOtherCR(this,'a=nws*e.kephome&amp;r=30&amp;i=88000112_000000000000000003660214&amp;u='+urlencode(this.href));\" target=\"_blank\">Keep 바로가기</a> </div></div><div class=\"info_group\"> <a class=\"info press\" href=\"http://www.nocutnews.co.kr\" onclick=\"return goOtherCR(this, 'a=nws*e.prof&amp;r=30&amp;i=88000112_000000000000000003660214&amp;g=079.0003660214&amp;u='+urlencode(this.href));\" target=\"_blank\"><span class=\"thumb_box\"><img alt=\"\" class=\"thumb\" height=\"20\" onerror=\"this.src='data:image/gif;base64,R0lGODlhAQABAIAAAAAAAP///yH5BAEAAAAALAAAAAABAAEAAAIBRAA7';this.className='thumb bg_default_press'\" src=\"https://search.pstatic.net/common/?src=https%3A%2F%2Fmimgnews.pstatic.net%2Fimage%2Fupload%2Foffice_logo%2F079%2F2017%2F01%2F05%2Flogo_079_18_20170105111205.png&amp;type=f54_54&amp;expire=24&amp;refresh=true\" width=\"20\"/></span>노컷뉴스</a><span class=\"info\">1일 전</span><a class=\"info\" href=\"https://n.news.naver.com/mnews/article/079/0003660214?sid=102\" onclick=\"return goOtherCR(this, 'a=nws*e.nav&amp;r=30&amp;i=88000112_000000000000000003660214&amp;u='+urlencode(this.href));\" target=\"_blank\">네이버뉴스</a> </div></div><a class=\"news_tit\" href=\"https://www.nocutnews.co.kr/news/5781023\" onclick=\"return goOtherCR(this, 'a=nws*e.tit&amp;r=30&amp;i=88000112_000000000000000003660214&amp;g=079.0003660214&amp;u='+urlencode(this.href));\" target=\"_blank\" title=\"[인사]BNK금융그룹\">[인사]<mark>BNK</mark>금융그룹</a> <div class=\"news_dsc\"> <div class=\"dsc_wrap\"> <a class=\"api_txt_lines dsc_txt_wrap\" href=\"https://www.nocutnews.co.kr/news/5781023\" onclick=\"return goOtherCR(this, 'a=nws*e.body&amp;r=30&amp;i=88000112_000000000000000003660214&amp;g=079.0003660214&amp;u='+urlencode(this.href));\" target=\"_blank\">◇부장대우 승진 △검사부 윤혁 ◇3급 승진 △경영지원부 박상은 △글로벌기획부 안지현 ◇4급 승진 △준법감시부 이지은 [부산은행] ◇부실점장 승진 △IT기획부 부장대우 양민훈 △검사부 부장대우 이주경...</a> </div></div></div><a class=\"dsc_thumb\" href=\"https://www.nocutnews.co.kr/news/5781023\" onclick=\"return goOtherCR(this, 'a=nws*e.img&amp;r=30&amp;i=88000112_000000000000000003660214&amp;g=079.0003660214&amp;u='+urlencode(this.href));\" target=\"_blank\"><img alt=\"[인사]BNK금융그룹\" class=\"thumb api_get\" height=\"90\" onerror=\"this.parentNode.style.display='none';\" src=\"https://search.pstatic.net/common/?src=https%3A%2F%2Fimgnews.pstatic.net%2Fimage%2Forigin%2F079%2F2022%2F07%2F03%2F3660214.jpg&amp;type=ff264_180&amp;expire=2&amp;refresh=true\" width=\"132\"/></a> </div></li> <li class=\"bx\" id=\"sp_nws31\"> <div class=\"news_wrap api_ani_send\"> <div class=\"news_area\"> <div class=\"news_info\"> <div class=\"api_save_group _keep_wrap\"> <a aria-pressed=\"false\" class=\"btn_save _keep_trigger\" data-url=\"https://www.hankyung.com/finance/article/2022070562481\" href=\"#\" onclick=\"tCR('a=nws*e.kep&amp;r=31&amp;i=88000107_000000000000000004720454&amp;u=javascript'); return false;\" role=\"button\"><i class=\"spnew ico_save\">문서 저장하기</i></a> <div class=\"api_ly_save _keep_save_layer\"> <a class=\"spnew_af item item_save _keep_save\" data-cr-off=\"a=nws*e.kepoff&amp;r=31&amp;i=88000107_000000000000000004720454&amp;u=javascript\" data-cr-on=\"a=nws*e.kepon&amp;r=31&amp;i=88000107_000000000000000004720454&amp;u=javascript\" href=\"#\" role=\"button\">Keep에 저장</a> <a class=\"spnew_af item item_quick\" href=\"https://keep.naver.com/\" onclick=\"return goOtherCR(this,'a=nws*e.kephome&amp;r=31&amp;i=88000107_000000000000000004720454&amp;u='+urlencode(this.href));\" target=\"_blank\">Keep 바로가기</a> </div></div><div class=\"info_group\"> <a class=\"info press\" href=\"http://www.hankyung.com/\" onclick=\"return goOtherCR(this, 'a=nws*e.prof&amp;r=31&amp;i=88000107_000000000000000004720454&amp;g=015.0004720454&amp;u='+urlencode(this.href));\" target=\"_blank\"><span class=\"thumb_box\"><img alt=\"\" class=\"thumb\" height=\"20\" onerror=\"this.src='data:image/gif;base64,R0lGODlhAQABAIAAAAAAAP///yH5BAEAAAAALAAAAAABAAEAAAIBRAA7';this.className='thumb bg_default_press'\" src=\"https://search.pstatic.net/common/?src=https%3A%2F%2Fmimgnews.pstatic.net%2Fimage%2Fupload%2Foffice_logo%2F015%2F2018%2F08%2F01%2Flogo_015_18_20180801163901.png&amp;type=f54_54&amp;expire=24&amp;refresh=true\" width=\"20\"/></span>한국경제</a><span class=\"info\"><i class=\"spnew ico_paper\"></i>B5면 1단</span><span class=\"info\">42분 전</span><a class=\"info\" href=\"https://n.news.naver.com/mnews/article/015/0004720454?sid=101\" onclick=\"return goOtherCR(this, 'a=nws*e.nav&amp;r=31&amp;i=88000107_000000000000000004720454&amp;u='+urlencode(this.href));\" target=\"_blank\">네이버뉴스</a> </div></div><a class=\"news_tit\" href=\"https://www.hankyung.com/finance/article/2022070562481\" onclick=\"return goOtherCR(this, 'a=nws*e.tit&amp;r=31&amp;i=88000107_000000000000000004720454&amp;g=015.0004720454&amp;u='+urlencode(this.href));\" target=\"_blank\" title='\"주가 급락기 배당주를 노려라\"…수익률 9% 종목 나올 듯'>\"주가 급락기 배당주를 노려라\"…수익률 9% 종목 나올 듯</a> <div class=\"news_dsc\"> <div class=\"dsc_wrap\"> <a class=\"api_txt_lines dsc_txt_wrap\" href=\"https://www.hankyung.com/finance/article/2022070562481\" onclick=\"return goOtherCR(this, 'a=nws*e.body&amp;r=31&amp;i=88000107_000000000000000004720454&amp;g=015.0004720454&amp;u='+urlencode(this.href));\" target=\"_blank\">최근 국내 증시 급락으로 <mark>BNK</mark>금융지주, JB금융지주 등 올해 배당수익률이 9%를 넘는 종목도 나올 것으로... 종목은 <mark>BNK</mark>금융지주다. 주당 약 633원의 배당금을 지급해 배당수익률이 9.3%(지난 1일 종가 기준)에 달할...</a> </div></div></div><a class=\"dsc_thumb\" href=\"https://www.hankyung.com/finance/article/2022070562481\" onclick=\"return goOtherCR(this, 'a=nws*e.img&amp;r=31&amp;i=88000107_000000000000000004720454&amp;g=015.0004720454&amp;u='+urlencode(this.href));\" target=\"_blank\"><img alt='\"주가 급락기 배당주를' class=\"thumb api_get\" height=\"90\" onerror=\"this.parentNode.style.display='none';\" src=\"https://search.pstatic.net/common/?src=https%3A%2F%2Fimgnews.pstatic.net%2Fimage%2Forigin%2F015%2F2022%2F07%2F05%2F4720454.jpg&amp;type=ff264_180&amp;expire=2&amp;refresh=true\" width=\"132\"/></a> </div></li> <li class=\"bx\" id=\"sp_nws32\"> <div class=\"news_wrap api_ani_send\"> <div class=\"news_area\"> <div class=\"news_info\"> <div class=\"api_save_group _keep_wrap\"> <a aria-pressed=\"false\" class=\"btn_save _keep_trigger\" data-url=\"http://www.knnews.co.kr/news/articleView.php?idxno=1380341\" href=\"#\" onclick=\"tCR('a=nws*f.kep&amp;r=32&amp;i=88126036_000000000000000000247791&amp;u=javascript'); return false;\" role=\"button\"><i class=\"spnew ico_save\">문서 저장하기</i></a> <div class=\"api_ly_save _keep_save_layer\"> <a class=\"spnew_af item item_save _keep_save\" data-cr-off=\"a=nws*f.kepoff&amp;r=32&amp;i=88126036_000000000000000000247791&amp;u=javascript\" data-cr-on=\"a=nws*f.kepon&amp;r=32&amp;i=88126036_000000000000000000247791&amp;u=javascript\" href=\"#\" role=\"button\">Keep에 저장</a> <a class=\"spnew_af item item_quick\" href=\"https://keep.naver.com/\" onclick=\"return goOtherCR(this,'a=nws*f.kephome&amp;r=32&amp;i=88126036_000000000000000000247791&amp;u='+urlencode(this.href));\" target=\"_blank\">Keep 바로가기</a> </div></div><div class=\"info_group\"> <a class=\"info press\" href=\"http://www.knnews.co.kr\" onclick=\"return goOtherCR(this, 'a=nws*f.prof&amp;r=32&amp;i=88126036_000000000000000000247791&amp;g=5202.0000247791&amp;u='+urlencode(this.href));\" target=\"_blank\"><span class=\"thumb_box\"><img alt=\"\" class=\"thumb\" height=\"20\" onerror=\"this.src='data:image/gif;base64,R0lGODlhAQABAIAAAAAAAP///yH5BAEAAAAALAAAAAABAAEAAAIBRAA7';this.className='thumb bg_default_press'\" src=\"https://search.pstatic.net/common/?src=http%3A%2F%2Fwww.knnews.co.kr%2Fimages%2Ffavicon.ico&amp;type=f54_54&amp;expire=24&amp;refresh=true\" width=\"20\"/></span>경남신문</a><span class=\"info\">1일 전</span> </div></div><a class=\"news_tit\" href=\"http://www.knnews.co.kr/news/articleView.php?idxno=1380341\" onclick=\"return goOtherCR(this, 'a=nws*f.tit&amp;r=32&amp;i=88126036_000000000000000000247791&amp;g=5202.0000247791&amp;u='+urlencode(this.href));\" target=\"_blank\" title=\"BNK경남은행 하반기 인사 단행\"><mark>BNK</mark>경남은행 하반기 인사 단행</a> <div class=\"news_dsc\"> <div class=\"dsc_wrap\"> <a class=\"api_txt_lines dsc_txt_wrap\" href=\"http://www.knnews.co.kr/news/articleView.php?idxno=1380341\" onclick=\"return goOtherCR(this, 'a=nws*f.body&amp;r=32&amp;i=88126036_000000000000000000247791&amp;g=5202.0000247791&amp;u='+urlencode(this.href));\" target=\"_blank\"><mark>BNK</mark>경남은행은 지난 1일 2022년 하반기 승진·전보인사를 단행했다. 경남은행에 따르면, 3급 12명, 4급 19명, 6급... <mark>BNK</mark>경남은행은 승진·전보인사와 연계한 2022년 하반기 승진 사령식을 본점 누리마당에서 개최했다. 최홍영...</a> </div></div></div></div></li> </ul>"
      ]
     },
     "execution_count": 255,
     "metadata": {},
     "output_type": "execute_result"
    }
   ],
   "source": [
    "news_list[0]"
   ]
  },
  {
   "cell_type": "code",
   "execution_count": 259,
   "id": "a83eaba8",
   "metadata": {},
   "outputs": [
    {
     "data": {
      "text/plain": [
       "10"
      ]
     },
     "execution_count": 259,
     "metadata": {},
     "output_type": "execute_result"
    }
   ],
   "source": [
    "news_title = news_list[0].select(\"a.news_tit\")\n",
    "len(news_title)"
   ]
  },
  {
   "cell_type": "code",
   "execution_count": 263,
   "id": "01781c39",
   "metadata": {},
   "outputs": [
    {
     "data": {
      "text/plain": [
       "'http://www.newsis.com/view/?id=NISX20220705_0001931932&cID=10899&pID=10800'"
      ]
     },
     "execution_count": 263,
     "metadata": {},
     "output_type": "execute_result"
    }
   ],
   "source": [
    "news_title[0][\"href\"]"
   ]
  },
  {
   "cell_type": "code",
   "execution_count": 265,
   "id": "15c0ddf7",
   "metadata": {},
   "outputs": [
    {
     "data": {
      "text/plain": [
       "'[부산소식] BNK투자증권, 이웃 위한 선풍기 100대 기부 등'"
      ]
     },
     "execution_count": 265,
     "metadata": {},
     "output_type": "execute_result"
    }
   ],
   "source": [
    "news_title[0][\"title\"]"
   ]
  },
  {
   "cell_type": "code",
   "execution_count": 266,
   "id": "035a5010",
   "metadata": {},
   "outputs": [
    {
     "data": {
      "text/html": [
       "<div>\n",
       "<style scoped>\n",
       "    .dataframe tbody tr th:only-of-type {\n",
       "        vertical-align: middle;\n",
       "    }\n",
       "\n",
       "    .dataframe tbody tr th {\n",
       "        vertical-align: top;\n",
       "    }\n",
       "\n",
       "    .dataframe thead th {\n",
       "        text-align: right;\n",
       "    }\n",
       "</style>\n",
       "<table border=\"1\" class=\"dataframe\">\n",
       "  <thead>\n",
       "    <tr style=\"text-align: right;\">\n",
       "      <th></th>\n",
       "      <th>press</th>\n",
       "      <th>datetime</th>\n",
       "      <th>dt_collect</th>\n",
       "      <th>title</th>\n",
       "      <th>link</th>\n",
       "    </tr>\n",
       "  </thead>\n",
       "  <tbody>\n",
       "    <tr>\n",
       "      <th>0</th>\n",
       "      <td>뉴시스</td>\n",
       "      <td>52분 전</td>\n",
       "      <td>2022-07-05 16:20:57</td>\n",
       "      <td>[부산소식] BNK투자증권, 이웃 위한 선풍기 100대 기부 등</td>\n",
       "      <td>http://www.newsis.com/view/?id=NISX20220705_00...</td>\n",
       "    </tr>\n",
       "    <tr>\n",
       "      <th>1</th>\n",
       "      <td>연합뉴스</td>\n",
       "      <td>1일 전</td>\n",
       "      <td>2022-07-05 16:20:57</td>\n",
       "      <td>BNK부산은행, 주택도시보증공사 표준PF 대출 기관 선정</td>\n",
       "      <td>https://www.yna.co.kr/view/AKR2022070410430005...</td>\n",
       "    </tr>\n",
       "    <tr>\n",
       "      <th>2</th>\n",
       "      <td>뉴스핌</td>\n",
       "      <td>2시간 전</td>\n",
       "      <td>2022-07-05 16:20:57</td>\n",
       "      <td>경남은행, BNK모바일신용대출 2종 판매</td>\n",
       "      <td>http://www.newspim.com/news/view/20220705000657</td>\n",
       "    </tr>\n",
       "    <tr>\n",
       "      <th>3</th>\n",
       "      <td>서울경제</td>\n",
       "      <td>1일 전</td>\n",
       "      <td>2022-07-05 16:20:57</td>\n",
       "      <td>BNK경남은행, 모바일뱅킹 ‘레스토랑 예약 서비스’ 시행</td>\n",
       "      <td>https://www.sedaily.com/NewsView/268E42DY0J</td>\n",
       "    </tr>\n",
       "    <tr>\n",
       "      <th>4</th>\n",
       "      <td>머니투데이</td>\n",
       "      <td>5시간 전</td>\n",
       "      <td>2022-07-05 16:20:57</td>\n",
       "      <td>바이셀스탠다드, BNK투자증권·스탤리온파트너스 30억원 투자 유치</td>\n",
       "      <td>http://news.mt.co.kr/mtview.php?no=20220705102...</td>\n",
       "    </tr>\n",
       "  </tbody>\n",
       "</table>\n",
       "</div>"
      ],
      "text/plain": [
       "   press datetime           dt_collect                                 title  \\\n",
       "0    뉴시스    52분 전  2022-07-05 16:20:57   [부산소식] BNK투자증권, 이웃 위한 선풍기 100대 기부 등   \n",
       "1   연합뉴스     1일 전  2022-07-05 16:20:57       BNK부산은행, 주택도시보증공사 표준PF 대출 기관 선정   \n",
       "2    뉴스핌    2시간 전  2022-07-05 16:20:57                경남은행, BNK모바일신용대출 2종 판매   \n",
       "3   서울경제     1일 전  2022-07-05 16:20:57       BNK경남은행, 모바일뱅킹 ‘레스토랑 예약 서비스’ 시행   \n",
       "4  머니투데이    5시간 전  2022-07-05 16:20:57  바이셀스탠다드, BNK투자증권·스탤리온파트너스 30억원 투자 유치   \n",
       "\n",
       "                                                link  \n",
       "0  http://www.newsis.com/view/?id=NISX20220705_00...  \n",
       "1  https://www.yna.co.kr/view/AKR2022070410430005...  \n",
       "2    http://www.newspim.com/news/view/20220705000657  \n",
       "3        https://www.sedaily.com/NewsView/268E42DY0J  \n",
       "4  http://news.mt.co.kr/mtview.php?no=20220705102...  "
      ]
     },
     "execution_count": 266,
     "metadata": {},
     "output_type": "execute_result"
    }
   ],
   "source": [
    "df_news_info[\"title\"] = [n_text[\"title\"] for n_text in news_title]\n",
    "df_news_info[\"link\" ] = [n_text[\"href\"]  for n_text in news_title]\n",
    "df_news_info.head()"
   ]
  },
  {
   "cell_type": "markdown",
   "id": "c144b4cc",
   "metadata": {},
   "source": [
    "## 코드 모으기"
   ]
  },
  {
   "cell_type": "code",
   "execution_count": 1,
   "id": "cd0e9667",
   "metadata": {},
   "outputs": [],
   "source": [
    "import requests\n",
    "from bs4 import BeautifulSoup as bs\n",
    "import pandas as pd\n",
    "import time\n",
    "from tqdm.notebook import tqdm"
   ]
  },
  {
   "cell_type": "code",
   "execution_count": 5,
   "id": "10b1b01d",
   "metadata": {},
   "outputs": [],
   "source": [
    "url = \"https://search.naver.com/search.naver?sm=tab_hty.top&where=news&query=bnk\"\n",
    "text = requests.get(url)\n",
    "text_bs = bs(text.text, \"html.parser\")\n",
    "news_list = text_bs.select(\"ul.list_news\")\n",
    "news_info = news_list[0].select(\"div.info_group\")\n",
    "\n",
    "df_news_info = pd.DataFrame()\n",
    "for n_news in range(len(news_info)):\n",
    "    news_press_sub = news_info[n_news].select(\"a\")[0].text\n",
    "    news_time_sub  = news_info[n_news].select(\"span.info\")[-1].text\n",
    "    df_news_info_sub = pd.DataFrame([[news_press_sub, news_time_sub]],\n",
    "                                    columns = [\"press\", \"datetime\"])\n",
    "    df_news_info = pd.concat([df_news_info, df_news_info_sub])\n",
    "    \n",
    "df_news_info = df_news_info.reset_index(drop = True)\n",
    "\n",
    "sys_date = \"-\".join([str(num).zfill(2) for num in time.localtime()[:3]])\n",
    "sys_time = \":\".join([str(num).zfill(2) for num in time.localtime()[3:6]])\n",
    "sys_datetime = sys_date + \" \" + sys_time\n",
    "df_news_info[\"dt_collect\"] = sys_datetime\n",
    "\n",
    "news_title = news_list[0].select(\"a.news_tit\")\n",
    "df_news_info[\"title\"] = [n_text[\"title\"] for n_text in news_title]\n",
    "df_news_info[\"link\" ] = [n_text[\"href\"]  for n_text in news_title]"
   ]
  },
  {
   "cell_type": "code",
   "execution_count": 8,
   "id": "b124c484",
   "metadata": {},
   "outputs": [],
   "source": [
    "def naver_news_crawler(url):\n",
    "    text = requests.get(url)\n",
    "    text_bs = bs(text.text, \"html.parser\")\n",
    "    news_list = text_bs.select(\"ul.list_news\")\n",
    "    news_info = news_list[0].select(\"div.info_group\")\n",
    "\n",
    "    df_news_info = pd.DataFrame()\n",
    "    for n_news in range(len(news_info)):\n",
    "        news_press_sub = news_info[n_news].select(\"a\")[0].text\n",
    "        news_time_sub  = news_info[n_news].select(\"span.info\")[-1].text\n",
    "        df_news_info_sub = pd.DataFrame([[news_press_sub, news_time_sub]],\n",
    "                                        columns = [\"press\", \"datetime\"])\n",
    "        df_news_info = pd.concat([df_news_info, df_news_info_sub])\n",
    "\n",
    "    df_news_info = df_news_info.reset_index(drop = True)\n",
    "\n",
    "    sys_date = \"-\".join([str(num).zfill(2) for num in time.localtime()[:3]])\n",
    "    sys_time = \":\".join([str(num).zfill(2) for num in time.localtime()[3:6]])\n",
    "    sys_datetime = sys_date + \" \" + sys_time\n",
    "    df_news_info[\"dt_collect\"] = sys_datetime\n",
    "\n",
    "    news_title = news_list[0].select(\"a.news_tit\")\n",
    "    df_news_info[\"title\"] = [n_text[\"title\"] for n_text in news_title]\n",
    "    df_news_info[\"link\" ] = [n_text[\"href\"]  for n_text in news_title]\n",
    "    \n",
    "    return df_news_info"
   ]
  },
  {
   "cell_type": "code",
   "execution_count": 6,
   "id": "73b9d481",
   "metadata": {},
   "outputs": [
    {
     "data": {
      "text/html": [
       "<div>\n",
       "<style scoped>\n",
       "    .dataframe tbody tr th:only-of-type {\n",
       "        vertical-align: middle;\n",
       "    }\n",
       "\n",
       "    .dataframe tbody tr th {\n",
       "        vertical-align: top;\n",
       "    }\n",
       "\n",
       "    .dataframe thead th {\n",
       "        text-align: right;\n",
       "    }\n",
       "</style>\n",
       "<table border=\"1\" class=\"dataframe\">\n",
       "  <thead>\n",
       "    <tr style=\"text-align: right;\">\n",
       "      <th></th>\n",
       "      <th>press</th>\n",
       "      <th>datetime</th>\n",
       "      <th>dt_collect</th>\n",
       "      <th>title</th>\n",
       "      <th>link</th>\n",
       "    </tr>\n",
       "  </thead>\n",
       "  <tbody>\n",
       "    <tr>\n",
       "      <th>0</th>\n",
       "      <td>뉴시스</td>\n",
       "      <td>1시간 전</td>\n",
       "      <td>2022-07-05 16:37:33</td>\n",
       "      <td>[부산소식] BNK투자증권, 이웃 위한 선풍기 100대 기부 등</td>\n",
       "      <td>http://www.newsis.com/view/?id=NISX20220705_00...</td>\n",
       "    </tr>\n",
       "    <tr>\n",
       "      <th>1</th>\n",
       "      <td>연합뉴스</td>\n",
       "      <td>1일 전</td>\n",
       "      <td>2022-07-05 16:37:33</td>\n",
       "      <td>BNK부산은행, 주택도시보증공사 표준PF 대출 기관 선정</td>\n",
       "      <td>https://www.yna.co.kr/view/AKR2022070410430005...</td>\n",
       "    </tr>\n",
       "    <tr>\n",
       "      <th>2</th>\n",
       "      <td>뉴스핌</td>\n",
       "      <td>2시간 전</td>\n",
       "      <td>2022-07-05 16:37:33</td>\n",
       "      <td>경남은행, BNK모바일신용대출 2종 판매</td>\n",
       "      <td>http://www.newspim.com/news/view/20220705000657</td>\n",
       "    </tr>\n",
       "    <tr>\n",
       "      <th>3</th>\n",
       "      <td>서울경제</td>\n",
       "      <td>1일 전</td>\n",
       "      <td>2022-07-05 16:37:33</td>\n",
       "      <td>BNK경남은행, 모바일뱅킹 ‘레스토랑 예약 서비스’ 시행</td>\n",
       "      <td>https://www.sedaily.com/NewsView/268E42DY0J</td>\n",
       "    </tr>\n",
       "    <tr>\n",
       "      <th>4</th>\n",
       "      <td>머니투데이</td>\n",
       "      <td>6시간 전</td>\n",
       "      <td>2022-07-05 16:37:33</td>\n",
       "      <td>바이셀스탠다드, BNK투자증권·스탤리온파트너스 30억원 투자 유치</td>\n",
       "      <td>http://news.mt.co.kr/mtview.php?no=20220705102...</td>\n",
       "    </tr>\n",
       "    <tr>\n",
       "      <th>5</th>\n",
       "      <td>데일리한국</td>\n",
       "      <td>7시간 전</td>\n",
       "      <td>2022-07-05 16:37:33</td>\n",
       "      <td>BNK부산은행, 주택사업자에 2년간 PF 대출로 안정적 자금 지원</td>\n",
       "      <td>http://daily.hankooki.com/news/articleView.htm...</td>\n",
       "    </tr>\n",
       "    <tr>\n",
       "      <th>6</th>\n",
       "      <td>스트레이트뉴스</td>\n",
       "      <td>5시간 전</td>\n",
       "      <td>2022-07-05 16:37:33</td>\n",
       "      <td>JB금융, 내부등급 승인 꼴찌 승선…증권사 인수하나</td>\n",
       "      <td>https://www.straightnews.co.kr/news/articleVie...</td>\n",
       "    </tr>\n",
       "    <tr>\n",
       "      <th>7</th>\n",
       "      <td>노컷뉴스</td>\n",
       "      <td>1일 전</td>\n",
       "      <td>2022-07-05 16:37:33</td>\n",
       "      <td>[인사]BNK금융그룹</td>\n",
       "      <td>https://www.nocutnews.co.kr/news/5781023</td>\n",
       "    </tr>\n",
       "    <tr>\n",
       "      <th>8</th>\n",
       "      <td>한국경제</td>\n",
       "      <td>1시간 전</td>\n",
       "      <td>2022-07-05 16:37:33</td>\n",
       "      <td>\"주가 급락기 배당주를 노려라\"…수익률 9% 종목 나올 듯</td>\n",
       "      <td>https://www.hankyung.com/finance/article/20220...</td>\n",
       "    </tr>\n",
       "    <tr>\n",
       "      <th>9</th>\n",
       "      <td>경남신문</td>\n",
       "      <td>1일 전</td>\n",
       "      <td>2022-07-05 16:37:33</td>\n",
       "      <td>BNK경남은행 하반기 인사 단행</td>\n",
       "      <td>http://www.knnews.co.kr/news/articleView.php?i...</td>\n",
       "    </tr>\n",
       "  </tbody>\n",
       "</table>\n",
       "</div>"
      ],
      "text/plain": [
       "     press datetime           dt_collect  \\\n",
       "0      뉴시스    1시간 전  2022-07-05 16:37:33   \n",
       "1     연합뉴스     1일 전  2022-07-05 16:37:33   \n",
       "2      뉴스핌    2시간 전  2022-07-05 16:37:33   \n",
       "3     서울경제     1일 전  2022-07-05 16:37:33   \n",
       "4    머니투데이    6시간 전  2022-07-05 16:37:33   \n",
       "5    데일리한국    7시간 전  2022-07-05 16:37:33   \n",
       "6  스트레이트뉴스    5시간 전  2022-07-05 16:37:33   \n",
       "7     노컷뉴스     1일 전  2022-07-05 16:37:33   \n",
       "8     한국경제    1시간 전  2022-07-05 16:37:33   \n",
       "9     경남신문     1일 전  2022-07-05 16:37:33   \n",
       "\n",
       "                                  title  \\\n",
       "0   [부산소식] BNK투자증권, 이웃 위한 선풍기 100대 기부 등   \n",
       "1       BNK부산은행, 주택도시보증공사 표준PF 대출 기관 선정   \n",
       "2                경남은행, BNK모바일신용대출 2종 판매   \n",
       "3       BNK경남은행, 모바일뱅킹 ‘레스토랑 예약 서비스’ 시행   \n",
       "4  바이셀스탠다드, BNK투자증권·스탤리온파트너스 30억원 투자 유치   \n",
       "5  BNK부산은행, 주택사업자에 2년간 PF 대출로 안정적 자금 지원   \n",
       "6          JB금융, 내부등급 승인 꼴찌 승선…증권사 인수하나   \n",
       "7                           [인사]BNK금융그룹   \n",
       "8      \"주가 급락기 배당주를 노려라\"…수익률 9% 종목 나올 듯   \n",
       "9                     BNK경남은행 하반기 인사 단행   \n",
       "\n",
       "                                                link  \n",
       "0  http://www.newsis.com/view/?id=NISX20220705_00...  \n",
       "1  https://www.yna.co.kr/view/AKR2022070410430005...  \n",
       "2    http://www.newspim.com/news/view/20220705000657  \n",
       "3        https://www.sedaily.com/NewsView/268E42DY0J  \n",
       "4  http://news.mt.co.kr/mtview.php?no=20220705102...  \n",
       "5  http://daily.hankooki.com/news/articleView.htm...  \n",
       "6  https://www.straightnews.co.kr/news/articleVie...  \n",
       "7           https://www.nocutnews.co.kr/news/5781023  \n",
       "8  https://www.hankyung.com/finance/article/20220...  \n",
       "9  http://www.knnews.co.kr/news/articleView.php?i...  "
      ]
     },
     "execution_count": 6,
     "metadata": {},
     "output_type": "execute_result"
    }
   ],
   "source": [
    "df_news_info"
   ]
  },
  {
   "cell_type": "code",
   "execution_count": 9,
   "id": "0ddac2fd",
   "metadata": {},
   "outputs": [
    {
     "name": "stdout",
     "output_type": "stream",
     "text": [
      "https://search.naver.com/search.naver?sm=tab_hty.top&where=news&query=bnk\n"
     ]
    },
    {
     "data": {
      "text/html": [
       "<div>\n",
       "<style scoped>\n",
       "    .dataframe tbody tr th:only-of-type {\n",
       "        vertical-align: middle;\n",
       "    }\n",
       "\n",
       "    .dataframe tbody tr th {\n",
       "        vertical-align: top;\n",
       "    }\n",
       "\n",
       "    .dataframe thead th {\n",
       "        text-align: right;\n",
       "    }\n",
       "</style>\n",
       "<table border=\"1\" class=\"dataframe\">\n",
       "  <thead>\n",
       "    <tr style=\"text-align: right;\">\n",
       "      <th></th>\n",
       "      <th>press</th>\n",
       "      <th>datetime</th>\n",
       "      <th>dt_collect</th>\n",
       "      <th>title</th>\n",
       "      <th>link</th>\n",
       "    </tr>\n",
       "  </thead>\n",
       "  <tbody>\n",
       "    <tr>\n",
       "      <th>0</th>\n",
       "      <td>뉴스1</td>\n",
       "      <td>1시간 전</td>\n",
       "      <td>2022-07-05 17:03:15</td>\n",
       "      <td>BNK투자증권, 소외 이웃에 선풍기 100대 기부</td>\n",
       "      <td>https://www.news1.kr/articles/?4732699</td>\n",
       "    </tr>\n",
       "    <tr>\n",
       "      <th>1</th>\n",
       "      <td>뉴스핌</td>\n",
       "      <td>3시간 전</td>\n",
       "      <td>2022-07-05 17:03:15</td>\n",
       "      <td>경남은행, BNK모바일신용대출 2종 판매</td>\n",
       "      <td>http://www.newspim.com/news/view/20220705000657</td>\n",
       "    </tr>\n",
       "  </tbody>\n",
       "</table>\n",
       "</div>"
      ],
      "text/plain": [
       "  press datetime           dt_collect                        title  \\\n",
       "0   뉴스1    1시간 전  2022-07-05 17:03:15  BNK투자증권, 소외 이웃에 선풍기 100대 기부   \n",
       "1   뉴스핌    3시간 전  2022-07-05 17:03:15       경남은행, BNK모바일신용대출 2종 판매   \n",
       "\n",
       "                                              link  \n",
       "0           https://www.news1.kr/articles/?4732699  \n",
       "1  http://www.newspim.com/news/view/20220705000657  "
      ]
     },
     "execution_count": 9,
     "metadata": {},
     "output_type": "execute_result"
    }
   ],
   "source": [
    "print(url)\n",
    "df_news = naver_news_crawler(url)\n",
    "df_news.head(2)"
   ]
  },
  {
   "cell_type": "code",
   "execution_count": 10,
   "id": "c67b0679",
   "metadata": {},
   "outputs": [
    {
     "data": {
      "text/plain": [
       "'sadf123'"
      ]
     },
     "execution_count": 10,
     "metadata": {},
     "output_type": "execute_result"
    }
   ],
   "source": [
    "\"sadf{aa}\".format(aa = 123)"
   ]
  },
  {
   "cell_type": "code",
   "execution_count": 12,
   "id": "07732719",
   "metadata": {},
   "outputs": [
    {
     "data": {
      "text/plain": [
       "'%EB%B6%80%EC%82%B0%EC%9D%80%ED%96%89'"
      ]
     },
     "execution_count": 12,
     "metadata": {},
     "output_type": "execute_result"
    }
   ],
   "source": [
    "requests.utils.quote(\"부산은행\")"
   ]
  },
  {
   "cell_type": "code",
   "execution_count": 7,
   "id": "0629ce51",
   "metadata": {},
   "outputs": [
    {
     "data": {
      "text/plain": [
       "'%EB%B6%80%EC%82%B0%EC%9D%80%ED%96%89'"
      ]
     },
     "execution_count": 7,
     "metadata": {},
     "output_type": "execute_result"
    }
   ],
   "source": [
    "z"
   ]
  },
  {
   "cell_type": "code",
   "execution_count": 11,
   "id": "24cd3375",
   "metadata": {},
   "outputs": [
    {
     "data": {
      "text/plain": [
       "'key=999&date=220705'"
      ]
     },
     "execution_count": 11,
     "metadata": {},
     "output_type": "execute_result"
    }
   ],
   "source": [
    "\"key={key}&date={date}\".format(key=\"999\",\n",
    "                               date=\"220705\")"
   ]
  },
  {
   "cell_type": "code",
   "execution_count": 14,
   "id": "0d6bec5a",
   "metadata": {},
   "outputs": [
    {
     "data": {
      "text/plain": [
       "'https://search.naver.com/search.naver?sm=tab_hty.top&where=news&query=%EB%B6%80%EC%82%B0%EC%9D%80%ED%96%89&start=11'"
      ]
     },
     "execution_count": 14,
     "metadata": {},
     "output_type": "execute_result"
    }
   ],
   "source": [
    "url_base = \"https://search.naver.com/search.naver?sm=tab_hty.top&where=news\"\n",
    "url_params = \"&query={query}&start={start}\"\n",
    "url_params = url_params.format(query = requests.utils.quote(\"부산은행\"),\n",
    "                               start = 11)\n",
    "url = url_base + url_params\n",
    "url"
   ]
  },
  {
   "cell_type": "code",
   "execution_count": 16,
   "id": "9341c9b8",
   "metadata": {},
   "outputs": [
    {
     "data": {
      "text/html": [
       "<div>\n",
       "<style scoped>\n",
       "    .dataframe tbody tr th:only-of-type {\n",
       "        vertical-align: middle;\n",
       "    }\n",
       "\n",
       "    .dataframe tbody tr th {\n",
       "        vertical-align: top;\n",
       "    }\n",
       "\n",
       "    .dataframe thead th {\n",
       "        text-align: right;\n",
       "    }\n",
       "</style>\n",
       "<table border=\"1\" class=\"dataframe\">\n",
       "  <thead>\n",
       "    <tr style=\"text-align: right;\">\n",
       "      <th></th>\n",
       "      <th>press</th>\n",
       "      <th>datetime</th>\n",
       "      <th>dt_collect</th>\n",
       "      <th>title</th>\n",
       "      <th>link</th>\n",
       "    </tr>\n",
       "  </thead>\n",
       "  <tbody>\n",
       "    <tr>\n",
       "      <th>0</th>\n",
       "      <td>연합뉴스</td>\n",
       "      <td>5일 전</td>\n",
       "      <td>2022-07-05 17:16:30</td>\n",
       "      <td>BNK부산은행, 모바일뱅킹 '부산에서 야놀자' 이벤트</td>\n",
       "      <td>https://www.yna.co.kr/view/AKR2022063008590005...</td>\n",
       "    </tr>\n",
       "  </tbody>\n",
       "</table>\n",
       "</div>"
      ],
      "text/plain": [
       "  press datetime           dt_collect                          title  \\\n",
       "0  연합뉴스     5일 전  2022-07-05 17:16:30  BNK부산은행, 모바일뱅킹 '부산에서 야놀자' 이벤트   \n",
       "\n",
       "                                                link  \n",
       "0  https://www.yna.co.kr/view/AKR2022063008590005...  "
      ]
     },
     "execution_count": 16,
     "metadata": {},
     "output_type": "execute_result"
    }
   ],
   "source": [
    "df_news_2 = naver_news_crawler(url)\n",
    "df_news_2.head(1)"
   ]
  },
  {
   "cell_type": "code",
   "execution_count": 19,
   "id": "545c9dc2",
   "metadata": {},
   "outputs": [
    {
     "data": {
      "text/plain": [
       "'naver_news_부산은행_20220705171630_11.csv'"
      ]
     },
     "execution_count": 19,
     "metadata": {},
     "output_type": "execute_result"
    }
   ],
   "source": [
    "file_collect_time = df_news_2[\"dt_collect\"].str.replace(\"[^0-9]\", \"\",\n",
    "                                                        regex = True)[0]\n",
    "file_name_base = \"naver_news_{query}_{dt}_{start}.csv\"\n",
    "file_name_base = file_name_base.format(query = \"부산은행\",\n",
    "                                       dt = file_collect_time,\n",
    "                                       start = 11)\n",
    "file_name_base"
   ]
  },
  {
   "cell_type": "code",
   "execution_count": 20,
   "id": "a4af11b1",
   "metadata": {},
   "outputs": [
    {
     "data": {
      "text/plain": [
       "'naver_news/naver_news_부산은행_20220705171630_11.csv'"
      ]
     },
     "execution_count": 20,
     "metadata": {},
     "output_type": "execute_result"
    }
   ],
   "source": [
    "folder_path = \"naver_news/\"\n",
    "file_path = folder_path + file_name_base\n",
    "file_path"
   ]
  },
  {
   "cell_type": "code",
   "execution_count": 23,
   "id": "35d6c481",
   "metadata": {},
   "outputs": [],
   "source": [
    "# import os\n",
    "# os.mkdir(\"naver_news\")"
   ]
  },
  {
   "cell_type": "code",
   "execution_count": 24,
   "id": "fb92845d",
   "metadata": {},
   "outputs": [],
   "source": [
    "df_news_2.to_csv(file_path, index = False)"
   ]
  },
  {
   "cell_type": "code",
   "execution_count": null,
   "id": "efc883a4",
   "metadata": {},
   "outputs": [],
   "source": [
    "df_news_2.to_csv(file_path, index = False, \n",
    "                 encoding = \"CP949\")"
   ]
  },
  {
   "cell_type": "code",
   "execution_count": null,
   "id": "ab594c67",
   "metadata": {},
   "outputs": [],
   "source": []
  },
  {
   "cell_type": "code",
   "execution_count": null,
   "id": "8fe13774",
   "metadata": {},
   "outputs": [],
   "source": [
    "url_base = \"https://search.naver.com/search.naver?sm=tab_hty.top&where=news\"\n",
    "url_params = \"&query={query}&start={start}\"\n",
    "url_params = url_params.format(query = requests.utils.quote(\"부산은행\"),\n",
    "                               start = 11)\n",
    "url = url_base + url_params\n",
    "\n",
    "df_news = naver_news_crawler(url)\n",
    "\n",
    "file_collect_time = df_news[\"dt_collect\"].str.replace(\"[^0-9]\", \"\",\n",
    "                                                      regex = True)[0]\n",
    "file_name_base = \"naver_news_{query}_{dt}_{start}.csv\"\n",
    "file_name_base = file_name_base.format(query = \"부산은행\",\n",
    "                                       dt = file_collect_time,\n",
    "                                       start = 11)\n",
    "folder_path = \"naver_news/\"\n",
    "file_path = folder_path + file_name_base\n",
    "\n",
    "df_news.to_csv(file_path, index = False)"
   ]
  },
  {
   "cell_type": "code",
   "execution_count": 26,
   "id": "8ff1701b",
   "metadata": {},
   "outputs": [],
   "source": [
    "def naver_news_crawler_final(keyword, start = 1, file_encoding = \"UTF-8\"):\n",
    "    url_base = \"https://search.naver.com/search.naver?sm=tab_hty.top&where=news\"\n",
    "    url_params = \"&query={query}&start={start}\"\n",
    "    url_params = url_params.format(query = requests.utils.quote(keyword),\n",
    "                                   start = start)\n",
    "    url = url_base + url_params\n",
    "\n",
    "    df_news = naver_news_crawler(url)\n",
    "\n",
    "    file_collect_time = df_news[\"dt_collect\"].str.replace(\"[^0-9]\", \"\",\n",
    "                                                          regex = True)[0]\n",
    "    file_name_base = \"naver_news_{query}_{dt}_{start}.csv\"\n",
    "    file_name_base = file_name_base.format(query = keyword,\n",
    "                                           dt = file_collect_time,\n",
    "                                           start = start)\n",
    "    folder_path = \"naver_news/\"\n",
    "    file_path = folder_path + file_name_base\n",
    "\n",
    "    df_news.to_csv(file_path, index = False, encoding = file_encoding)"
   ]
  },
  {
   "cell_type": "code",
   "execution_count": 28,
   "id": "d481a4f2",
   "metadata": {},
   "outputs": [],
   "source": [
    "naver_news_crawler_final(keyword = \"인공지능\", file_encoding=\"CP949\")"
   ]
  },
  {
   "cell_type": "code",
   "execution_count": 29,
   "id": "2e709834",
   "metadata": {},
   "outputs": [],
   "source": [
    "import numpy as np"
   ]
  },
  {
   "cell_type": "code",
   "execution_count": 42,
   "id": "87617fc0",
   "metadata": {},
   "outputs": [],
   "source": [
    "news_page = np.arange(1, 31 + 1, step = 10)"
   ]
  },
  {
   "cell_type": "code",
   "execution_count": 44,
   "id": "68048deb",
   "metadata": {},
   "outputs": [
    {
     "data": {
      "application/vnd.jupyter.widget-view+json": {
       "model_id": "1e1bd59ecd5546b593afe5c94b0cc280",
       "version_major": 2,
       "version_minor": 0
      },
      "text/plain": [
       "  0%|          | 0/4 [00:00<?, ?it/s]"
      ]
     },
     "metadata": {},
     "output_type": "display_data"
    }
   ],
   "source": [
    "for n_page in tqdm(news_page):\n",
    "    naver_news_crawler_final(keyword = \"인공지능\", start = n_page,\n",
    "                             file_encoding = \"CP949\")\n",
    "    time.sleep(1)"
   ]
  },
  {
   "cell_type": "code",
   "execution_count": null,
   "id": "98ad55c5",
   "metadata": {},
   "outputs": [],
   "source": []
  },
  {
   "cell_type": "code",
   "execution_count": null,
   "id": "902c4f20",
   "metadata": {},
   "outputs": [],
   "source": []
  }
 ],
 "metadata": {
  "kernelspec": {
   "display_name": "Python 3 (ipykernel)",
   "language": "python",
   "name": "python3"
  },
  "language_info": {
   "codemirror_mode": {
    "name": "ipython",
    "version": 3
   },
   "file_extension": ".py",
   "mimetype": "text/x-python",
   "name": "python",
   "nbconvert_exporter": "python",
   "pygments_lexer": "ipython3",
   "version": "3.9.7"
  }
 },
 "nbformat": 4,
 "nbformat_minor": 5
}
